{
  "nbformat": 4,
  "nbformat_minor": 0,
  "metadata": {
    "colab": {
      "name": "week3.ipynb",
      "provenance": [],
      "collapsed_sections": [
        "Vw9kYfGaj5oW",
        "hxyNYDfRj5oX",
        "5koLxNtzoysp",
        "ezkA6RabpFkc",
        "ti7qxChirTh_",
        "FuoSEbOMj5oX"
      ],
      "include_colab_link": true
    },
    "kernelspec": {
      "name": "python3",
      "display_name": "Python 3"
    }
  },
  "cells": [
    {
      "cell_type": "markdown",
      "metadata": {
        "id": "view-in-github",
        "colab_type": "text"
      },
      "source": [
        "<a href=\"https://colab.research.google.com/github/NguyenCuuNguyen/CS488S21/blob/main/week3.ipynb\" target=\"_parent\"><img src=\"https://colab.research.google.com/assets/colab-badge.svg\" alt=\"Open In Colab\"/></a>"
      ]
    },
    {
      "cell_type": "markdown",
      "metadata": {
        "id": "YhrD_hhFj5n2"
      },
      "source": [
        "## CS488 Computer Networks and the Internet, Pace University, Spring 2021\n",
        "## Last update: 2.11.2021"
      ]
    },
    {
      "cell_type": "markdown",
      "metadata": {
        "id": "NyFWzOjoj5n9"
      },
      "source": [
        "## Last class:\n",
        "\n",
        "1. Programming language -> Interpreter -> Machine language\n",
        "1. IDLE (editor + interpreter), we will stick to jupyter notesbook for now\n",
        "1. Interactive mode vs. Script mode\n",
        "1. Python3 instead of Python2\n",
        "1. No type in declaration, type conversion on the fly\n",
        "1.` import sys `for command line arguments\n"
      ]
    },
    {
      "cell_type": "markdown",
      "metadata": {
        "id": "fTCRB_Ruj5n-"
      },
      "source": [
        "* print function - prints a textual representation to the console"
      ]
    },
    {
      "cell_type": "code",
      "metadata": {
        "id": "Y718XiZrj5n_",
        "colab": {
          "base_uri": "https://localhost:8080/"
        },
        "outputId": "b9354d3b-4162-42fd-8975-41e8b6a291eb"
      },
      "source": [
        "print(\"hello world\")"
      ],
      "execution_count": null,
      "outputs": [
        {
          "output_type": "stream",
          "text": [
            "hello world\n"
          ],
          "name": "stdout"
        }
      ]
    },
    {
      "cell_type": "code",
      "metadata": {
        "id": "lXFoWaAVj5oA",
        "colab": {
          "base_uri": "https://localhost:8080/"
        },
        "outputId": "101e70bb-9522-46a9-8613-3d8aac6b587e"
      },
      "source": [
        "print(\"hello\", \"world\", \"!\");"
      ],
      "execution_count": null,
      "outputs": [
        {
          "output_type": "stream",
          "text": [
            "hello world !\n"
          ],
          "name": "stdout"
        }
      ]
    },
    {
      "cell_type": "markdown",
      "metadata": {
        "id": "_m3_n3RPn9cf"
      },
      "source": [
        "* How about reading input?"
      ]
    },
    {
      "cell_type": "code",
      "metadata": {
        "colab": {
          "base_uri": "https://localhost:8080/",
          "height": 200
        },
        "id": "W76dyYUXoD9F",
        "outputId": "1a93231f-f044-4f8e-9bf7-fc237bd0a006"
      },
      "source": [
        "m=int(input(\"please enter a number\"))\r\n",
        "m"
      ],
      "execution_count": null,
      "outputs": [
        {
          "output_type": "stream",
          "text": [
            "please enter a numbera\n"
          ],
          "name": "stdout"
        },
        {
          "output_type": "error",
          "ename": "ValueError",
          "evalue": "ignored",
          "traceback": [
            "\u001b[0;31m---------------------------------------------------------------------------\u001b[0m",
            "\u001b[0;31mValueError\u001b[0m                                Traceback (most recent call last)",
            "\u001b[0;32m<ipython-input-16-d5caf2905872>\u001b[0m in \u001b[0;36m<module>\u001b[0;34m()\u001b[0m\n\u001b[0;32m----> 1\u001b[0;31m \u001b[0mm\u001b[0m\u001b[0;34m=\u001b[0m\u001b[0mint\u001b[0m\u001b[0;34m(\u001b[0m\u001b[0minput\u001b[0m\u001b[0;34m(\u001b[0m\u001b[0;34m\"please enter a number\"\u001b[0m\u001b[0;34m)\u001b[0m\u001b[0;34m)\u001b[0m\u001b[0;34m\u001b[0m\u001b[0;34m\u001b[0m\u001b[0m\n\u001b[0m\u001b[1;32m      2\u001b[0m \u001b[0mm\u001b[0m\u001b[0;34m\u001b[0m\u001b[0;34m\u001b[0m\u001b[0m\n",
            "\u001b[0;31mValueError\u001b[0m: invalid literal for int() with base 10: 'a'"
          ]
        }
      ]
    },
    {
      "cell_type": "markdown",
      "metadata": {
        "id": "mfcnc7TOj5oA"
      },
      "source": [
        "###Variables, types"
      ]
    },
    {
      "cell_type": "markdown",
      "metadata": {
        "id": "chsYinDbj5oB"
      },
      "source": [
        "* int - integers: ..., -3, -2, -1, 0, 1, 2, 3, ... note **type**"
      ]
    },
    {
      "cell_type": "code",
      "metadata": {
        "id": "6wH7uUSEj5oB",
        "colab": {
          "base_uri": "https://localhost:8080/"
        },
        "outputId": "40ece950-e24b-4a5e-d684-05444cb98c17"
      },
      "source": [
        "x=3\r\n",
        "y=4\r\n",
        "print(x, type(x))\r\n",
        "x=3.3\r\n",
        "print(x, type(x))\r\n"
      ],
      "execution_count": null,
      "outputs": [
        {
          "output_type": "stream",
          "text": [
            "3 <class 'int'>\n",
            "3.3 <class 'float'>\n"
          ],
          "name": "stdout"
        }
      ]
    },
    {
      "cell_type": "code",
      "metadata": {
        "id": "x4cm48ZJj5oC"
      },
      "source": [
        ""
      ],
      "execution_count": null,
      "outputs": []
    },
    {
      "cell_type": "markdown",
      "metadata": {
        "id": "P2P74ebmj5oC"
      },
      "source": [
        "* float - floating point numbers, decimal point fractions: -3.2, 1.5, 1e-8, 3.2e5"
      ]
    },
    {
      "cell_type": "code",
      "metadata": {
        "id": "zjZnkpNlj5oD",
        "colab": {
          "base_uri": "https://localhost:8080/"
        },
        "outputId": "ca4fda0e-e243-4403-ab91-26bc823b3af9"
      },
      "source": [
        "x=3.2e5\r\n",
        "print(x, type(x))"
      ],
      "execution_count": null,
      "outputs": [
        {
          "output_type": "stream",
          "text": [
            "320000.0 <class 'float'>\n"
          ],
          "name": "stdout"
        }
      ]
    },
    {
      "cell_type": "markdown",
      "metadata": {
        "id": "nivpFqmej5oD"
      },
      "source": [
        "* str - character strings, text: \"intro2CS\", 'python'"
      ]
    },
    {
      "cell_type": "code",
      "metadata": {
        "id": "zVRPr6Vej5oD",
        "colab": {
          "base_uri": "https://localhost:8080/",
          "height": 35
        },
        "outputId": "c6312f17-ad84-426b-f89f-e44bf8db0774"
      },
      "source": [
        "classx=\"intro2cs\"\r\n",
        "language='python'\r\n",
        "classx\r\n",
        "language"
      ],
      "execution_count": null,
      "outputs": [
        {
          "output_type": "execute_result",
          "data": {
            "application/vnd.google.colaboratory.intrinsic+json": {
              "type": "string"
            },
            "text/plain": [
              "'python'"
            ]
          },
          "metadata": {
            "tags": []
          },
          "execution_count": 26
        }
      ]
    },
    {
      "cell_type": "code",
      "metadata": {
        "id": "J-9wvi4Lj5oD"
      },
      "source": [
        ""
      ],
      "execution_count": null,
      "outputs": []
    },
    {
      "cell_type": "markdown",
      "metadata": {
        "id": "t_TnZB1Sj5oE"
      },
      "source": [
        "* bool - boolean values: True and False"
      ]
    },
    {
      "cell_type": "code",
      "metadata": {
        "id": "Nbm0J5gyj5oE",
        "colab": {
          "base_uri": "https://localhost:8080/"
        },
        "outputId": "471644e5-a262-45a2-85ed-199698d89387"
      },
      "source": [
        "i_hate_python=False\r\n",
        "i_love_c=True\r\n",
        "print(i_hate_python, type(i_hate_python))\r\n",
        "print(i_love_c, type(i_love_c))"
      ],
      "execution_count": null,
      "outputs": [
        {
          "output_type": "stream",
          "text": [
            "False <class 'bool'>\n",
            "True <class 'bool'>\n"
          ],
          "name": "stdout"
        }
      ]
    },
    {
      "cell_type": "markdown",
      "metadata": {
        "id": "GhmN7LSsj5oE"
      },
      "source": [
        "## Operators"
      ]
    },
    {
      "cell_type": "markdown",
      "metadata": {
        "id": "8QBejY-8j5oF"
      },
      "source": [
        "### Mathematical operators"
      ]
    },
    {
      "cell_type": "markdown",
      "metadata": {
        "id": "qt608Sn-j5oF"
      },
      "source": [
        "Addition:"
      ]
    },
    {
      "cell_type": "code",
      "metadata": {
        "id": "bzDNbaC1j5oF",
        "colab": {
          "base_uri": "https://localhost:8080/"
        },
        "outputId": "0e7b18eb-30e5-4f11-a7eb-6ae6732185a8"
      },
      "source": [
        "4+5"
      ],
      "execution_count": null,
      "outputs": [
        {
          "output_type": "execute_result",
          "data": {
            "text/plain": [
              "9"
            ]
          },
          "metadata": {
            "tags": []
          },
          "execution_count": 28
        }
      ]
    },
    {
      "cell_type": "code",
      "metadata": {
        "id": "JE8MPU3ij5oF",
        "colab": {
          "base_uri": "https://localhost:8080/"
        },
        "outputId": "162782cd-0486-4cba-bbf4-95f4ae75e9c7"
      },
      "source": [
        "x=3\r\n",
        "x+5"
      ],
      "execution_count": null,
      "outputs": [
        {
          "output_type": "execute_result",
          "data": {
            "text/plain": [
              "8"
            ]
          },
          "metadata": {
            "tags": []
          },
          "execution_count": 29
        }
      ]
    },
    {
      "cell_type": "code",
      "metadata": {
        "id": "l5hrIKHCj5oG",
        "colab": {
          "base_uri": "https://localhost:8080/"
        },
        "outputId": "d882f779-3fae-43d4-b9a7-5e18bba0ef4f"
      },
      "source": [
        "3.0+4.00"
      ],
      "execution_count": null,
      "outputs": [
        {
          "output_type": "execute_result",
          "data": {
            "text/plain": [
              "7.0"
            ]
          },
          "metadata": {
            "tags": []
          },
          "execution_count": 30
        }
      ]
    },
    {
      "cell_type": "markdown",
      "metadata": {
        "id": "U_PHeGHZj5oG"
      },
      "source": [
        "Subtraction:"
      ]
    },
    {
      "cell_type": "code",
      "metadata": {
        "id": "dI8fDROzj5oG",
        "colab": {
          "base_uri": "https://localhost:8080/"
        },
        "outputId": "9f2677ef-d4b5-4979-887e-3ac62b9d7732"
      },
      "source": [
        "x-1"
      ],
      "execution_count": null,
      "outputs": [
        {
          "output_type": "execute_result",
          "data": {
            "text/plain": [
              "2"
            ]
          },
          "metadata": {
            "tags": []
          },
          "execution_count": 31
        }
      ]
    },
    {
      "cell_type": "markdown",
      "metadata": {
        "id": "STulJz9xj5oG"
      },
      "source": [
        "Multiplication:"
      ]
    },
    {
      "cell_type": "code",
      "metadata": {
        "id": "6IipYZkij5oH",
        "colab": {
          "base_uri": "https://localhost:8080/"
        },
        "outputId": "61c66248-2038-4bc1-8acc-bcc13f3810df"
      },
      "source": [
        "x*3"
      ],
      "execution_count": null,
      "outputs": [
        {
          "output_type": "execute_result",
          "data": {
            "text/plain": [
              "9"
            ]
          },
          "metadata": {
            "tags": []
          },
          "execution_count": 32
        }
      ]
    },
    {
      "cell_type": "markdown",
      "metadata": {
        "id": "tRI2PyZOj5oH"
      },
      "source": [
        "Division - float and integral with / and //:"
      ]
    },
    {
      "cell_type": "code",
      "metadata": {
        "id": "n2kjIwFej5oH",
        "colab": {
          "base_uri": "https://localhost:8080/"
        },
        "outputId": "6e497b27-155c-4233-aa3f-f60f22c28c05"
      },
      "source": [
        "print(x/2)\r\n",
        "print(x//2)"
      ],
      "execution_count": null,
      "outputs": [
        {
          "output_type": "stream",
          "text": [
            "1.5\n",
            "1\n"
          ],
          "name": "stdout"
        }
      ]
    },
    {
      "cell_type": "markdown",
      "metadata": {
        "id": "uCXN6uKQj5oH"
      },
      "source": [
        "Power:"
      ]
    },
    {
      "cell_type": "code",
      "metadata": {
        "id": "8XA4n2afj5oH",
        "colab": {
          "base_uri": "https://localhost:8080/"
        },
        "outputId": "abf8c7a1-bd06-4985-f152-dc84557ebed5"
      },
      "source": [
        "2**4"
      ],
      "execution_count": null,
      "outputs": [
        {
          "output_type": "execute_result",
          "data": {
            "text/plain": [
              "16"
            ]
          },
          "metadata": {
            "tags": []
          },
          "execution_count": 38
        }
      ]
    },
    {
      "cell_type": "markdown",
      "metadata": {
        "id": "NMAttXt2j5oI"
      },
      "source": [
        "Modolu:"
      ]
    },
    {
      "cell_type": "code",
      "metadata": {
        "id": "F1VGV5Jgj5oI",
        "colab": {
          "base_uri": "https://localhost:8080/"
        },
        "outputId": "2502ead2-3842-405a-df11-011e63e29745"
      },
      "source": [
        "15%6"
      ],
      "execution_count": null,
      "outputs": [
        {
          "output_type": "execute_result",
          "data": {
            "text/plain": [
              "3"
            ]
          },
          "metadata": {
            "tags": []
          },
          "execution_count": 39
        }
      ]
    },
    {
      "cell_type": "markdown",
      "metadata": {
        "id": "JvLju325j5oI"
      },
      "source": [
        "### String operators"
      ]
    },
    {
      "cell_type": "markdown",
      "metadata": {
        "id": "422YY4eHj5oI"
      },
      "source": [
        "String concatenation using +:"
      ]
    },
    {
      "cell_type": "code",
      "metadata": {
        "id": "8X28u9Goj5oJ"
      },
      "source": [
        "y=\"hello\"+\" world \""
      ],
      "execution_count": null,
      "outputs": []
    },
    {
      "cell_type": "markdown",
      "metadata": {
        "id": "PTo4CnOFj5oJ"
      },
      "source": [
        "String duplication using *:"
      ]
    },
    {
      "cell_type": "code",
      "metadata": {
        "id": "Zu62mwj4j5oJ",
        "colab": {
          "base_uri": "https://localhost:8080/",
          "height": 35
        },
        "outputId": "da0a3737-96fd-46a6-b2be-3651836b9b45"
      },
      "source": [
        "y*3"
      ],
      "execution_count": null,
      "outputs": [
        {
          "output_type": "execute_result",
          "data": {
            "application/vnd.google.colaboratory.intrinsic+json": {
              "type": "string"
            },
            "text/plain": [
              "'hello world hello world hello world '"
            ]
          },
          "metadata": {
            "tags": []
          },
          "execution_count": 47
        }
      ]
    },
    {
      "cell_type": "markdown",
      "metadata": {
        "id": "ZLW-b1Vkj5oJ"
      },
      "source": [
        "Strings vs. numbers:"
      ]
    },
    {
      "cell_type": "code",
      "metadata": {
        "id": "A2YJvIp5j5oJ",
        "colab": {
          "base_uri": "https://localhost:8080/",
          "height": 165
        },
        "outputId": "a27573d2-85a5-4638-9469-935382e901ab"
      },
      "source": [
        "\"bye\"+2"
      ],
      "execution_count": null,
      "outputs": [
        {
          "output_type": "error",
          "ename": "TypeError",
          "evalue": "ignored",
          "traceback": [
            "\u001b[0;31m---------------------------------------------------------------------------\u001b[0m",
            "\u001b[0;31mTypeError\u001b[0m                                 Traceback (most recent call last)",
            "\u001b[0;32m<ipython-input-48-b3836ec80c43>\u001b[0m in \u001b[0;36m<module>\u001b[0;34m()\u001b[0m\n\u001b[0;32m----> 1\u001b[0;31m \u001b[0;34m\"bye\"\u001b[0m\u001b[0;34m+\u001b[0m\u001b[0;36m2\u001b[0m\u001b[0;34m\u001b[0m\u001b[0;34m\u001b[0m\u001b[0m\n\u001b[0m",
            "\u001b[0;31mTypeError\u001b[0m: must be str, not int"
          ]
        }
      ]
    },
    {
      "cell_type": "code",
      "metadata": {
        "id": "uBh9AUBaj5oK",
        "colab": {
          "base_uri": "https://localhost:8080/"
        },
        "outputId": "aed587e1-ffce-4931-929f-15795c57e277"
      },
      "source": [
        "3+2"
      ],
      "execution_count": null,
      "outputs": [
        {
          "output_type": "execute_result",
          "data": {
            "text/plain": [
              "5"
            ]
          },
          "metadata": {
            "tags": []
          },
          "execution_count": 49
        }
      ]
    },
    {
      "cell_type": "code",
      "metadata": {
        "id": "h4Jdy3SIj5oK",
        "colab": {
          "base_uri": "https://localhost:8080/",
          "height": 35
        },
        "outputId": "f0a55f86-a11c-411f-bb3b-16a67bf3b5b7"
      },
      "source": [
        "\"a\"+\"b\""
      ],
      "execution_count": null,
      "outputs": [
        {
          "output_type": "execute_result",
          "data": {
            "application/vnd.google.colaboratory.intrinsic+json": {
              "type": "string"
            },
            "text/plain": [
              "'ab'"
            ]
          },
          "metadata": {
            "tags": []
          },
          "execution_count": 50
        }
      ]
    },
    {
      "cell_type": "code",
      "metadata": {
        "id": "_B6_98s5j5oK"
      },
      "source": [
        ""
      ],
      "execution_count": null,
      "outputs": []
    },
    {
      "cell_type": "markdown",
      "metadata": {
        "id": "UESrbKFbj5oK"
      },
      "source": [
        "### Comparisons"
      ]
    },
    {
      "cell_type": "code",
      "metadata": {
        "id": "RCIYPLjbj5oL",
        "colab": {
          "base_uri": "https://localhost:8080/"
        },
        "outputId": "4f3520ca-7983-4cce-f1c8-b46f11f6022a"
      },
      "source": [
        "5 == 4"
      ],
      "execution_count": null,
      "outputs": [
        {
          "output_type": "execute_result",
          "data": {
            "text/plain": [
              "False"
            ]
          },
          "metadata": {
            "tags": []
          },
          "execution_count": 51
        }
      ]
    },
    {
      "cell_type": "code",
      "metadata": {
        "id": "13DdkRIqj5oL",
        "colab": {
          "base_uri": "https://localhost:8080/"
        },
        "outputId": "e396152b-6fd9-4c8d-85f9-ebf3fdccf286"
      },
      "source": [
        "3 == 3.0"
      ],
      "execution_count": null,
      "outputs": [
        {
          "output_type": "execute_result",
          "data": {
            "text/plain": [
              "True"
            ]
          },
          "metadata": {
            "tags": []
          },
          "execution_count": 52
        }
      ]
    },
    {
      "cell_type": "code",
      "metadata": {
        "id": "djXSCW8jj5oL",
        "colab": {
          "base_uri": "https://localhost:8080/"
        },
        "outputId": "f332a3d1-4527-48ca-966e-c2651b603c7d"
      },
      "source": [
        "5 == \"5\""
      ],
      "execution_count": null,
      "outputs": [
        {
          "output_type": "execute_result",
          "data": {
            "text/plain": [
              "False"
            ]
          },
          "metadata": {
            "tags": []
          },
          "execution_count": 53
        }
      ]
    },
    {
      "cell_type": "code",
      "metadata": {
        "id": "0o6s93_Gj5oL",
        "colab": {
          "base_uri": "https://localhost:8080/"
        },
        "outputId": "2ec588a5-9482-411d-9218-b7261c723721"
      },
      "source": [
        "\"abc\" == 'abc'"
      ],
      "execution_count": null,
      "outputs": [
        {
          "output_type": "execute_result",
          "data": {
            "text/plain": [
              "True"
            ]
          },
          "metadata": {
            "tags": []
          },
          "execution_count": 54
        }
      ]
    },
    {
      "cell_type": "code",
      "metadata": {
        "id": "-F6rhr4yj5oL",
        "colab": {
          "base_uri": "https://localhost:8080/"
        },
        "outputId": "dd1aadc8-3cc6-426f-dbb2-ddc6dd0eb958"
      },
      "source": [
        "3 != 'a'"
      ],
      "execution_count": null,
      "outputs": [
        {
          "output_type": "execute_result",
          "data": {
            "text/plain": [
              "True"
            ]
          },
          "metadata": {
            "tags": []
          },
          "execution_count": 2
        }
      ]
    },
    {
      "cell_type": "code",
      "metadata": {
        "id": "PMmDD0nrj5oM",
        "colab": {
          "base_uri": "https://localhost:8080/"
        },
        "outputId": "7ec168bb-c04a-45c9-b9c3-d98fcb7b0790"
      },
      "source": [
        "3 > 2"
      ],
      "execution_count": null,
      "outputs": [
        {
          "output_type": "execute_result",
          "data": {
            "text/plain": [
              "True"
            ]
          },
          "metadata": {
            "tags": []
          },
          "execution_count": 3
        }
      ]
    },
    {
      "cell_type": "code",
      "metadata": {
        "id": "Ho0Zhdigj5oM",
        "colab": {
          "base_uri": "https://localhost:8080/"
        },
        "outputId": "df77e583-d441-4338-b494-415f01912b6b"
      },
      "source": [
        "3 < 2"
      ],
      "execution_count": null,
      "outputs": [
        {
          "output_type": "execute_result",
          "data": {
            "text/plain": [
              "False"
            ]
          },
          "metadata": {
            "tags": []
          },
          "execution_count": 4
        }
      ]
    },
    {
      "cell_type": "markdown",
      "metadata": {
        "id": "cuguzB1hHpTJ"
      },
      "source": [
        "Remember the negative cases"
      ]
    },
    {
      "cell_type": "code",
      "metadata": {
        "colab": {
          "base_uri": "https://localhost:8080/"
        },
        "id": "ANuQOxBcEQVU",
        "outputId": "314ad2be-b551-484a-e3de-48f71297e6fc"
      },
      "source": [
        "c=11\r\n",
        "bool(c)"
      ],
      "execution_count": null,
      "outputs": [
        {
          "output_type": "execute_result",
          "data": {
            "text/plain": [
              "True"
            ]
          },
          "metadata": {
            "tags": []
          },
          "execution_count": 51
        }
      ]
    },
    {
      "cell_type": "markdown",
      "metadata": {
        "id": "rjP8Q2bjj5oN"
      },
      "source": [
        "### Logical operators"
      ]
    },
    {
      "cell_type": "markdown",
      "metadata": {
        "id": "CaggIpaJj5oO"
      },
      "source": [
        "* not:"
      ]
    },
    {
      "cell_type": "code",
      "metadata": {
        "id": "XsXPgmVkj5oO",
        "colab": {
          "base_uri": "https://localhost:8080/"
        },
        "outputId": "0d6ef931-1e8a-4971-975c-c8fe7a4b506e"
      },
      "source": [
        "not True"
      ],
      "execution_count": null,
      "outputs": [
        {
          "output_type": "execute_result",
          "data": {
            "text/plain": [
              "False"
            ]
          },
          "metadata": {
            "tags": []
          },
          "execution_count": 55
        }
      ]
    },
    {
      "cell_type": "code",
      "metadata": {
        "colab": {
          "base_uri": "https://localhost:8080/"
        },
        "id": "EyvWq2Xp9n61",
        "outputId": "441cecc3-88bf-4a07-92d8-21416b0d0cf4"
      },
      "source": [
        "x = True\r\n",
        "not x"
      ],
      "execution_count": null,
      "outputs": [
        {
          "output_type": "execute_result",
          "data": {
            "text/plain": [
              "False"
            ]
          },
          "metadata": {
            "tags": []
          },
          "execution_count": 57
        }
      ]
    },
    {
      "cell_type": "markdown",
      "metadata": {
        "id": "mxRaK9gaj5oO"
      },
      "source": [
        "* and:"
      ]
    },
    {
      "cell_type": "code",
      "metadata": {
        "id": "9DamX5X4j5oO",
        "colab": {
          "base_uri": "https://localhost:8080/"
        },
        "outputId": "c5d758f4-0f14-41e6-a481-62b1b9069e88"
      },
      "source": [
        "True and True"
      ],
      "execution_count": null,
      "outputs": [
        {
          "output_type": "execute_result",
          "data": {
            "text/plain": [
              "True"
            ]
          },
          "metadata": {
            "tags": []
          },
          "execution_count": 58
        }
      ]
    },
    {
      "cell_type": "code",
      "metadata": {
        "id": "kwtZ8PJgj5oO",
        "colab": {
          "base_uri": "https://localhost:8080/"
        },
        "outputId": "bb83c18b-0858-4217-fcb5-9163fa16c7f8"
      },
      "source": [
        "True and False"
      ],
      "execution_count": null,
      "outputs": [
        {
          "output_type": "execute_result",
          "data": {
            "text/plain": [
              "False"
            ]
          },
          "metadata": {
            "tags": []
          },
          "execution_count": 60
        }
      ]
    },
    {
      "cell_type": "code",
      "metadata": {
        "id": "ix3rEcQrj5oP"
      },
      "source": [
        ""
      ],
      "execution_count": null,
      "outputs": []
    },
    {
      "cell_type": "markdown",
      "metadata": {
        "id": "lZz649J_j5oP"
      },
      "source": [
        "* or:"
      ]
    },
    {
      "cell_type": "code",
      "metadata": {
        "id": "Krr8rstmj5oP"
      },
      "source": [
        "y = False"
      ],
      "execution_count": null,
      "outputs": []
    },
    {
      "cell_type": "code",
      "metadata": {
        "id": "jH-PqZ-Kj5oP",
        "colab": {
          "base_uri": "https://localhost:8080/"
        },
        "outputId": "8a6b6f13-2084-4729-93a7-5dcc0abd24b7"
      },
      "source": [
        "x or y"
      ],
      "execution_count": null,
      "outputs": [
        {
          "output_type": "execute_result",
          "data": {
            "text/plain": [
              "True"
            ]
          },
          "metadata": {
            "tags": []
          },
          "execution_count": 62
        }
      ]
    },
    {
      "cell_type": "markdown",
      "metadata": {
        "id": "OCtr8yXCj5oP"
      },
      "source": [
        "## Conversions"
      ]
    },
    {
      "cell_type": "markdown",
      "metadata": {
        "id": "A_h3dBNrj5oQ"
      },
      "source": [
        "Use the functions `int()`, `float()`, and `str()` to convert between types (we will talk about *functions* next time):"
      ]
    },
    {
      "cell_type": "code",
      "metadata": {
        "id": "36JMH80Sj5oQ",
        "colab": {
          "base_uri": "https://localhost:8080/"
        },
        "outputId": "bb992641-7f21-4780-ccb8-676ea0fe800e"
      },
      "source": [
        "int(\"123\")"
      ],
      "execution_count": null,
      "outputs": [
        {
          "output_type": "execute_result",
          "data": {
            "text/plain": [
              "123"
            ]
          },
          "metadata": {
            "tags": []
          },
          "execution_count": 63
        }
      ]
    },
    {
      "cell_type": "code",
      "metadata": {
        "id": "SGeAAh0Hj5oQ",
        "colab": {
          "base_uri": "https://localhost:8080/"
        },
        "outputId": "baaba202-c196-45ba-db56-c6720a9f6ebd"
      },
      "source": [
        "float(\"1.23\")"
      ],
      "execution_count": null,
      "outputs": [
        {
          "output_type": "execute_result",
          "data": {
            "text/plain": [
              "1.23"
            ]
          },
          "metadata": {
            "tags": []
          },
          "execution_count": 64
        }
      ]
    },
    {
      "cell_type": "code",
      "metadata": {
        "id": "W7go6_CRj5oR",
        "colab": {
          "base_uri": "https://localhost:8080/",
          "height": 35
        },
        "outputId": "605dce44-1c8f-4c9a-fe0a-43b191b12419"
      },
      "source": [
        "str(123)"
      ],
      "execution_count": null,
      "outputs": [
        {
          "output_type": "execute_result",
          "data": {
            "application/vnd.google.colaboratory.intrinsic+json": {
              "type": "string"
            },
            "text/plain": [
              "'123'"
            ]
          },
          "metadata": {
            "tags": []
          },
          "execution_count": 5
        }
      ]
    },
    {
      "cell_type": "code",
      "metadata": {
        "id": "zL4PNo7Pj5oR",
        "colab": {
          "base_uri": "https://localhost:8080/"
        },
        "outputId": "1b2fb457-fb6a-438c-aeb8-ea7613b4ae75"
      },
      "source": [
        "bool(123)"
      ],
      "execution_count": null,
      "outputs": [
        {
          "output_type": "execute_result",
          "data": {
            "text/plain": [
              "True"
            ]
          },
          "metadata": {
            "tags": []
          },
          "execution_count": 8
        }
      ]
    },
    {
      "cell_type": "code",
      "metadata": {
        "id": "4VPmmkvfj5oS",
        "colab": {
          "base_uri": "https://localhost:8080/"
        },
        "outputId": "d0249674-276c-4c80-9d19-f60e99eef9ca"
      },
      "source": [
        "bool(0)"
      ],
      "execution_count": null,
      "outputs": [
        {
          "output_type": "execute_result",
          "data": {
            "text/plain": [
              "False"
            ]
          },
          "metadata": {
            "tags": []
          },
          "execution_count": 9
        }
      ]
    },
    {
      "cell_type": "markdown",
      "metadata": {
        "id": "r07mN9Kwj5oS"
      },
      "source": [
        "## Flow control"
      ]
    },
    {
      "cell_type": "markdown",
      "metadata": {
        "id": "CbHVYiTzj5oS"
      },
      "source": [
        "### Conditional statements"
      ]
    },
    {
      "cell_type": "markdown",
      "metadata": {
        "id": "M1-_2hJsj5oS"
      },
      "source": [
        "The `if` condition formula - replace conditions and statements with meaningful code:\n",
        "\n",
        "    if *condition*:\n",
        "        *statement*\n",
        "        *statement*\n",
        "        ...\n",
        "    elif *condition*: # 0 or more elif clauses\n",
        "        *statement*\n",
        "        *statement*\n",
        "        ...    \n",
        "    else:             # optional\n",
        "        *statement*\n",
        "        *statement*\n",
        "\n",
        "Example:"
      ]
    },
    {
      "cell_type": "code",
      "metadata": {
        "id": "1-aasBKHj5oS",
        "colab": {
          "base_uri": "https://localhost:8080/"
        },
        "outputId": "dbe61bbe-de29-4375-a5ce-0aa2f072ea30"
      },
      "source": [
        "today = \"Tuesdy\"\r\n",
        "i_feel_well = True\r\n",
        "show_is_on = False\r\n",
        "\r\n",
        "if today == \"Tuesday\":\r\n",
        "  if i_feel_well:\r\n",
        "    print(\"I am going to class 488\")\r\n",
        "  else:\r\n",
        "    print(\"I am not going to class because I am not feeling well\")\r\n",
        "elif show_is_on:\r\n",
        "  print(\"I am going to watch show\")\r\n",
        "else:\r\n",
        "  print(\"I am going to sleep\")\r\n",
        "\r\n",
        "print(\"I am going to play video game no matter what\")  "
      ],
      "execution_count": null,
      "outputs": [
        {
          "output_type": "stream",
          "text": [
            "I am going to sleep\n",
            "I am going to play video game no matter what\n"
          ],
          "name": "stdout"
        }
      ]
    },
    {
      "cell_type": "markdown",
      "metadata": {
        "id": "jvZt3Vu0j5oT"
      },
      "source": [
        "### Loops"
      ]
    },
    {
      "cell_type": "markdown",
      "metadata": {
        "id": "jLWROAIcj5oT"
      },
      "source": [
        "* While:"
      ]
    },
    {
      "cell_type": "markdown",
      "metadata": {
        "id": "ZeQjCZgKj5oT"
      },
      "source": [
        "    while *condition*:\n",
        "        *statement*\n",
        "        *statement*\n",
        "\n",
        "Example - count how many times 0 appears in an integer number:"
      ]
    },
    {
      "cell_type": "code",
      "metadata": {
        "id": "wI2JDgwej5oU",
        "colab": {
          "base_uri": "https://localhost:8080/"
        },
        "outputId": "fd582f42-5d05-4811-fc63-436a33ccbc47"
      },
      "source": [
        "num=2**100\r\n",
        "num"
      ],
      "execution_count": null,
      "outputs": [
        {
          "output_type": "execute_result",
          "data": {
            "text/plain": [
              "1267650600228229401496703205376"
            ]
          },
          "metadata": {
            "tags": []
          },
          "execution_count": 11
        }
      ]
    },
    {
      "cell_type": "code",
      "metadata": {
        "colab": {
          "base_uri": "https://localhost:8080/"
        },
        "id": "METqyeVFGEEH",
        "outputId": "de720ebb-d153-45e4-9410-691896abdd80"
      },
      "source": [
        "reminder=num%10\r\n",
        "num=num//10\r\n",
        "print(reminder)\r\n",
        "print(num)"
      ],
      "execution_count": null,
      "outputs": [
        {
          "output_type": "stream",
          "text": [
            "6\n",
            "126765060022822940149670320537\n"
          ],
          "name": "stdout"
        }
      ]
    },
    {
      "cell_type": "code",
      "metadata": {
        "colab": {
          "base_uri": "https://localhost:8080/"
        },
        "id": "fcrLpz-3Go9h",
        "outputId": "d7208114-93aa-425e-94c1-732a20e53f3f"
      },
      "source": [
        "reminder=num%10\r\n",
        "num=num//10\r\n",
        "print(reminder)\r\n",
        "print(num)"
      ],
      "execution_count": null,
      "outputs": [
        {
          "output_type": "stream",
          "text": [
            "7\n",
            "12676506002282294014967032053\n"
          ],
          "name": "stdout"
        }
      ]
    },
    {
      "cell_type": "code",
      "metadata": {
        "colab": {
          "base_uri": "https://localhost:8080/"
        },
        "id": "4-Xg_O0WGrLf",
        "outputId": "4a030851-049b-427b-9329-e26c49736b5a"
      },
      "source": [
        "reminder=num%10\r\n",
        "num=num//10\r\n",
        "print(reminder)\r\n",
        "print(num)"
      ],
      "execution_count": null,
      "outputs": [
        {
          "output_type": "stream",
          "text": [
            "3\n",
            "1267650600228229401496703205\n"
          ],
          "name": "stdout"
        }
      ]
    },
    {
      "cell_type": "code",
      "metadata": {
        "colab": {
          "base_uri": "https://localhost:8080/"
        },
        "id": "upxXdiGxGtEs",
        "outputId": "a878f8e9-380c-4904-b35f-e0129ee2b667"
      },
      "source": [
        "reminder=num%10\r\n",
        "num=num//10\r\n",
        "print(reminder)\r\n",
        "print(num)"
      ],
      "execution_count": null,
      "outputs": [
        {
          "output_type": "stream",
          "text": [
            "5\n",
            "126765060022822940149670320\n"
          ],
          "name": "stdout"
        }
      ]
    },
    {
      "cell_type": "code",
      "metadata": {
        "id": "iNH8r8A5j5oU",
        "colab": {
          "base_uri": "https://localhost:8080/"
        },
        "outputId": "6e0393cd-5ee6-45e0-8c1a-e08c037e1811"
      },
      "source": [
        "n_zero=0\r\n",
        "\r\n",
        "while num > 0:\r\n",
        "  reminder=num%10\r\n",
        "  num=num//10\r\n",
        "  if reminder == 0:\r\n",
        "    n_zero=n_zero+1\r\n",
        "\r\n",
        "print(n_zero)"
      ],
      "execution_count": null,
      "outputs": [
        {
          "output_type": "stream",
          "text": [
            "6\n"
          ],
          "name": "stdout"
        }
      ]
    },
    {
      "cell_type": "markdown",
      "metadata": {
        "id": "JPvcCAAxj5oU"
      },
      "source": [
        "* For:"
      ]
    },
    {
      "cell_type": "markdown",
      "metadata": {
        "id": "n0q1EpLbj5oV"
      },
      "source": [
        "    for *variable* in *iterable*:\n",
        "        *statement*\n",
        "        *statement*\n",
        "\n",
        "Example - solve the same problem with a `str` type instead of `int`:"
      ]
    },
    {
      "cell_type": "code",
      "metadata": {
        "id": "Csg1OlCzj5oV"
      },
      "source": [
        "num=2**100\r\n",
        "n_zero=0\r\n",
        "for digit in str(num):\r\n",
        "  print(digit, type(digit))\r\n",
        "  if digit == \"0\":\r\n",
        "    n_zero=n_zero+1\r\n",
        "\r\n",
        "print(n_zero)\r\n"
      ],
      "execution_count": null,
      "outputs": []
    },
    {
      "cell_type": "markdown",
      "metadata": {
        "id": "g9aDlLQ7j5oV"
      },
      "source": [
        "Builtin solution:"
      ]
    },
    {
      "cell_type": "code",
      "metadata": {
        "id": "v5g_eo2Ij5oV",
        "colab": {
          "base_uri": "https://localhost:8080/"
        },
        "outputId": "caf9d099-e96e-403e-96d8-6120cc2386cf"
      },
      "source": [
        "num=2**100\r\n",
        "n_zero=str.count(str(num), \"0\")\r\n",
        "print(n_zero)"
      ],
      "execution_count": null,
      "outputs": [
        {
          "output_type": "stream",
          "text": [
            "6\n"
          ],
          "name": "stdout"
        }
      ]
    },
    {
      "cell_type": "markdown",
      "metadata": {
        "id": "Vw9kYfGaj5oW"
      },
      "source": [
        "### Efficiency"
      ]
    },
    {
      "cell_type": "markdown",
      "metadata": {
        "id": "eRN-PSKjj5oW"
      },
      "source": [
        "We can measure which solution is faster:"
      ]
    },
    {
      "cell_type": "code",
      "metadata": {
        "id": "55jJ7PUdj5oW",
        "colab": {
          "base_uri": "https://localhost:8080/"
        },
        "outputId": "9c970fcc-4fbe-434d-80ba-68c5a5b99d95"
      },
      "source": [
        "%%timeit\r\n",
        "num=2**100\r\n",
        "n_zero=0\r\n",
        "while num > 0:\r\n",
        "  reminder=num%10\r\n",
        "  num=num//10\r\n",
        "  if reminder == 0:\r\n",
        "    n_zero=n_zero+1"
      ],
      "execution_count": null,
      "outputs": [
        {
          "output_type": "stream",
          "text": [
            "The slowest run took 4.07 times longer than the fastest. This could mean that an intermediate result is being cached.\n",
            "100000 loops, best of 3: 4.31 µs per loop\n"
          ],
          "name": "stdout"
        }
      ]
    },
    {
      "cell_type": "code",
      "metadata": {
        "id": "cXpM_Xpbj5oW",
        "colab": {
          "base_uri": "https://localhost:8080/"
        },
        "outputId": "93f5b453-e4ca-47fa-e451-4ce092c37a82"
      },
      "source": [
        "%%timeit\r\n",
        "num=2**100\r\n",
        "n_zero=0\r\n",
        "for digit in str(num):\r\n",
        "  if digit == \"0\":\r\n",
        "    n_zero=n_zero+1"
      ],
      "execution_count": null,
      "outputs": [
        {
          "output_type": "stream",
          "text": [
            "1000000 loops, best of 3: 1.99 µs per loop\n"
          ],
          "name": "stdout"
        }
      ]
    },
    {
      "cell_type": "code",
      "metadata": {
        "id": "vxqtC0_5j5oW",
        "colab": {
          "base_uri": "https://localhost:8080/"
        },
        "outputId": "b8ed1d95-b27a-40a9-ee12-a01342e4dcb9"
      },
      "source": [
        "%%timeit\r\n",
        "num=2**100\r\n",
        "n_zero=str.count(str(num), \"0\")"
      ],
      "execution_count": null,
      "outputs": [
        {
          "output_type": "stream",
          "text": [
            "The slowest run took 8.54 times longer than the fastest. This could mean that an intermediate result is being cached.\n",
            "1000000 loops, best of 3: 735 ns per loop\n"
          ],
          "name": "stdout"
        }
      ]
    },
    {
      "cell_type": "markdown",
      "metadata": {
        "id": "qTEvznxCj5oX"
      },
      "source": [
        "The builtin solution is 4 times faster than the `for` solution which is 3 times faster than the `while` solution."
      ]
    },
    {
      "cell_type": "markdown",
      "metadata": {
        "id": "hxyNYDfRj5oX"
      },
      "source": [
        "### Other notes"
      ]
    },
    {
      "cell_type": "markdown",
      "metadata": {
        "id": "VocwueEOj5oX"
      },
      "source": [
        "* The `while` solution will not work for `num <= 0`\n",
        "* The `while` solution will not work for non-numerals (e.g, `num = \"Cola 0 is awesome!\"`)\n",
        "* The builtin solution is implemented with C and that is why it is faster"
      ]
    },
    {
      "cell_type": "markdown",
      "metadata": {
        "id": "vXxWaz1Ho5Q9"
      },
      "source": [
        ""
      ]
    },
    {
      "cell_type": "markdown",
      "metadata": {
        "id": "MCfg0w0docIt"
      },
      "source": [
        "# Exercise: Collatz Conjecture\r\n",
        "\r\n",
        "* The [Collatz Conjecture](http://en.wikipedia.org/wiki/Collatz_conjecture) (also known as the *3n+1* conjecture) is the conjecture that the following process is finite for every natural number:\r\n",
        "> If the number $n$ is even divide it by two ($n/2$), if it is odd multiply it by 3 and add 1 ($3n+1$). Repeat this process untill you get the number 1.\r\n",
        "\r\n",
        "\r\n",
        "\r\n"
      ]
    },
    {
      "cell_type": "markdown",
      "metadata": {
        "id": "5koLxNtzoysp"
      },
      "source": [
        "\r\n",
        "## Implementation\r\n",
        "We start with the \"Half Or Triple Plus One\" process:"
      ]
    },
    {
      "cell_type": "markdown",
      "metadata": {
        "id": "jfq-8m1vJge6"
      },
      "source": [
        "note: grammar `for`\r\n",
        "`for i in str(\"abc\")`"
      ]
    },
    {
      "cell_type": "code",
      "metadata": {
        "id": "dFAI1hC4pFA1",
        "colab": {
          "base_uri": "https://localhost:8080/"
        },
        "outputId": "63461383-6540-49d6-8878-0c15b7938530"
      },
      "source": [
        "\r\n",
        "for m in range(1, 100): \r\n",
        "  n=m\r\n",
        "  while n != 1:\r\n",
        "    if n % 2 == 0:\r\n",
        "      n = n // 2\r\n",
        "    else:\r\n",
        "      n = 3*n +1\r\n",
        "  print(m, \"is ok \")  \r\n",
        "\r\n"
      ],
      "execution_count": null,
      "outputs": [
        {
          "output_type": "stream",
          "text": [
            "1 is ok \n",
            "2 is ok \n",
            "3 is ok \n",
            "4 is ok \n",
            "5 is ok \n",
            "6 is ok \n",
            "7 is ok \n",
            "8 is ok \n",
            "9 is ok \n",
            "10 is ok \n",
            "11 is ok \n",
            "12 is ok \n",
            "13 is ok \n",
            "14 is ok \n",
            "15 is ok \n",
            "16 is ok \n",
            "17 is ok \n",
            "18 is ok \n",
            "19 is ok \n",
            "20 is ok \n",
            "21 is ok \n",
            "22 is ok \n",
            "23 is ok \n",
            "24 is ok \n",
            "25 is ok \n",
            "26 is ok \n",
            "27 is ok \n",
            "28 is ok \n",
            "29 is ok \n",
            "30 is ok \n",
            "31 is ok \n",
            "32 is ok \n",
            "33 is ok \n",
            "34 is ok \n",
            "35 is ok \n",
            "36 is ok \n",
            "37 is ok \n",
            "38 is ok \n",
            "39 is ok \n",
            "40 is ok \n",
            "41 is ok \n",
            "42 is ok \n",
            "43 is ok \n",
            "44 is ok \n",
            "45 is ok \n",
            "46 is ok \n",
            "47 is ok \n",
            "48 is ok \n",
            "49 is ok \n",
            "50 is ok \n",
            "51 is ok \n",
            "52 is ok \n",
            "53 is ok \n",
            "54 is ok \n",
            "55 is ok \n",
            "56 is ok \n",
            "57 is ok \n",
            "58 is ok \n",
            "59 is ok \n",
            "60 is ok \n",
            "61 is ok \n",
            "62 is ok \n",
            "63 is ok \n",
            "64 is ok \n",
            "65 is ok \n",
            "66 is ok \n",
            "67 is ok \n",
            "68 is ok \n",
            "69 is ok \n",
            "70 is ok \n",
            "71 is ok \n",
            "72 is ok \n",
            "73 is ok \n",
            "74 is ok \n",
            "75 is ok \n",
            "76 is ok \n",
            "77 is ok \n",
            "78 is ok \n",
            "79 is ok \n",
            "80 is ok \n",
            "81 is ok \n",
            "82 is ok \n",
            "83 is ok \n",
            "84 is ok \n",
            "85 is ok \n",
            "86 is ok \n",
            "87 is ok \n",
            "88 is ok \n",
            "89 is ok \n",
            "90 is ok \n",
            "91 is ok \n",
            "92 is ok \n",
            "93 is ok \n",
            "94 is ok \n",
            "95 is ok \n",
            "96 is ok \n",
            "97 is ok \n",
            "98 is ok \n",
            "99 is ok \n"
          ],
          "name": "stdout"
        }
      ]
    },
    {
      "cell_type": "code",
      "metadata": {
        "colab": {
          "base_uri": "https://localhost:8080/"
        },
        "id": "LHcoe6H9JOvm",
        "outputId": "81c37601-84fc-4cf1-8339-a587cc9f154e"
      },
      "source": [
        "help(range)"
      ],
      "execution_count": null,
      "outputs": [
        {
          "output_type": "stream",
          "text": [
            "Help on class range in module builtins:\n",
            "\n",
            "class range(object)\n",
            " |  range(stop) -> range object\n",
            " |  range(start, stop[, step]) -> range object\n",
            " |  \n",
            " |  Return an object that produces a sequence of integers from start (inclusive)\n",
            " |  to stop (exclusive) by step.  range(i, j) produces i, i+1, i+2, ..., j-1.\n",
            " |  start defaults to 0, and stop is omitted!  range(4) produces 0, 1, 2, 3.\n",
            " |  These are exactly the valid indices for a list of 4 elements.\n",
            " |  When step is given, it specifies the increment (or decrement).\n",
            " |  \n",
            " |  Methods defined here:\n",
            " |  \n",
            " |  __bool__(self, /)\n",
            " |      self != 0\n",
            " |  \n",
            " |  __contains__(self, key, /)\n",
            " |      Return key in self.\n",
            " |  \n",
            " |  __eq__(self, value, /)\n",
            " |      Return self==value.\n",
            " |  \n",
            " |  __ge__(self, value, /)\n",
            " |      Return self>=value.\n",
            " |  \n",
            " |  __getattribute__(self, name, /)\n",
            " |      Return getattr(self, name).\n",
            " |  \n",
            " |  __getitem__(self, key, /)\n",
            " |      Return self[key].\n",
            " |  \n",
            " |  __gt__(self, value, /)\n",
            " |      Return self>value.\n",
            " |  \n",
            " |  __hash__(self, /)\n",
            " |      Return hash(self).\n",
            " |  \n",
            " |  __iter__(self, /)\n",
            " |      Implement iter(self).\n",
            " |  \n",
            " |  __le__(self, value, /)\n",
            " |      Return self<=value.\n",
            " |  \n",
            " |  __len__(self, /)\n",
            " |      Return len(self).\n",
            " |  \n",
            " |  __lt__(self, value, /)\n",
            " |      Return self<value.\n",
            " |  \n",
            " |  __ne__(self, value, /)\n",
            " |      Return self!=value.\n",
            " |  \n",
            " |  __new__(*args, **kwargs) from builtins.type\n",
            " |      Create and return a new object.  See help(type) for accurate signature.\n",
            " |  \n",
            " |  __reduce__(...)\n",
            " |      helper for pickle\n",
            " |  \n",
            " |  __repr__(self, /)\n",
            " |      Return repr(self).\n",
            " |  \n",
            " |  __reversed__(...)\n",
            " |      Return a reverse iterator.\n",
            " |  \n",
            " |  count(...)\n",
            " |      rangeobject.count(value) -> integer -- return number of occurrences of value\n",
            " |  \n",
            " |  index(...)\n",
            " |      rangeobject.index(value, [start, [stop]]) -> integer -- return index of value.\n",
            " |      Raise ValueError if the value is not present.\n",
            " |  \n",
            " |  ----------------------------------------------------------------------\n",
            " |  Data descriptors defined here:\n",
            " |  \n",
            " |  start\n",
            " |  \n",
            " |  step\n",
            " |  \n",
            " |  stop\n",
            "\n"
          ],
          "name": "stdout"
        }
      ]
    },
    {
      "cell_type": "markdown",
      "metadata": {
        "id": "ezkA6RabpFkc"
      },
      "source": [
        "## Next \r\n",
        "we add another loop that will run the conjecture check on a range of **even** numbers:"
      ]
    },
    {
      "cell_type": "code",
      "metadata": {
        "id": "fnyeKb2ApUDG",
        "colab": {
          "base_uri": "https://localhost:8080/"
        },
        "outputId": "c023a629-75b5-4fb3-cdd9-c9277f979154"
      },
      "source": [
        "\r\n",
        "for m in range(2, 100, 2): \r\n",
        "  n=m\r\n",
        "  while n != 1:\r\n",
        "    if n % 2 == 0:\r\n",
        "      n = n // 2\r\n",
        "    else:\r\n",
        "      n = 3*n +1\r\n",
        "  print(m, \"is ok \")  \r\n",
        "\r\n"
      ],
      "execution_count": null,
      "outputs": [
        {
          "output_type": "stream",
          "text": [
            "2 is ok \n",
            "4 is ok \n",
            "6 is ok \n",
            "8 is ok \n",
            "10 is ok \n",
            "12 is ok \n",
            "14 is ok \n",
            "16 is ok \n",
            "18 is ok \n",
            "20 is ok \n",
            "22 is ok \n",
            "24 is ok \n",
            "26 is ok \n",
            "28 is ok \n",
            "30 is ok \n",
            "32 is ok \n",
            "34 is ok \n",
            "36 is ok \n",
            "38 is ok \n",
            "40 is ok \n",
            "42 is ok \n",
            "44 is ok \n",
            "46 is ok \n",
            "48 is ok \n",
            "50 is ok \n",
            "52 is ok \n",
            "54 is ok \n",
            "56 is ok \n",
            "58 is ok \n",
            "60 is ok \n",
            "62 is ok \n",
            "64 is ok \n",
            "66 is ok \n",
            "68 is ok \n",
            "70 is ok \n",
            "72 is ok \n",
            "74 is ok \n",
            "76 is ok \n",
            "78 is ok \n",
            "80 is ok \n",
            "82 is ok \n",
            "84 is ok \n",
            "86 is ok \n",
            "88 is ok \n",
            "90 is ok \n",
            "92 is ok \n",
            "94 is ok \n",
            "96 is ok \n",
            "98 is ok \n"
          ],
          "name": "stdout"
        }
      ]
    },
    {
      "cell_type": "markdown",
      "metadata": {
        "id": "FtdmIjWYpTus"
      },
      "source": [
        "`range` is a good friend with `for` loop"
      ]
    },
    {
      "cell_type": "code",
      "metadata": {
        "id": "bg2OZhrlpF8R"
      },
      "source": [
        ""
      ],
      "execution_count": null,
      "outputs": []
    },
    {
      "cell_type": "markdown",
      "metadata": {
        "id": "RPdi26IFqQC5"
      },
      "source": [
        "# Lists\r\n",
        "\r\n",
        "* Lists are sequences of values. \r\n",
        "* Lists can contain a mix of types:"
      ]
    },
    {
      "cell_type": "code",
      "metadata": {
        "id": "-ieTVEp4qVNS",
        "colab": {
          "base_uri": "https://localhost:8080/"
        },
        "outputId": "ac82a1b4-f7b3-40dc-c261-4849b6a5a845"
      },
      "source": [
        "mixed_list=[3, 5.2, \"Hello World\", True, [1,2.3], range ]\r\n",
        "mixed_list"
      ],
      "execution_count": null,
      "outputs": [
        {
          "output_type": "execute_result",
          "data": {
            "text/plain": [
              "[3, 5.2, 'Hello World', True, [1, 2.3], range]"
            ]
          },
          "metadata": {
            "tags": []
          },
          "execution_count": 67
        }
      ]
    },
    {
      "cell_type": "markdown",
      "metadata": {
        "id": "4U-ExGS7qYrd"
      },
      "source": [
        "Lists are indexable, starting at 0:"
      ]
    },
    {
      "cell_type": "code",
      "metadata": {
        "id": "y4CcgU08qZX9",
        "colab": {
          "base_uri": "https://localhost:8080/"
        },
        "outputId": "11539b49-81f5-4582-c45e-cbc14946ff33"
      },
      "source": [
        "mixed_list[1]"
      ],
      "execution_count": null,
      "outputs": [
        {
          "output_type": "execute_result",
          "data": {
            "text/plain": [
              "5.2"
            ]
          },
          "metadata": {
            "tags": []
          },
          "execution_count": 63
        }
      ]
    },
    {
      "cell_type": "markdown",
      "metadata": {
        "id": "9HOG6m5Pqe51"
      },
      "source": [
        "Negative indices are counted from the tail:"
      ]
    },
    {
      "cell_type": "code",
      "metadata": {
        "id": "JvrWn7Qqqfxm",
        "colab": {
          "base_uri": "https://localhost:8080/"
        },
        "outputId": "aaefe4c7-de4d-40b0-9757-6650d1b03fcd"
      },
      "source": [
        "mixed_list[-1]"
      ],
      "execution_count": null,
      "outputs": [
        {
          "output_type": "execute_result",
          "data": {
            "text/plain": [
              "[1, 2.3]"
            ]
          },
          "metadata": {
            "tags": []
          },
          "execution_count": 64
        }
      ]
    },
    {
      "cell_type": "code",
      "metadata": {
        "id": "4JZ71Xh5qjpV",
        "colab": {
          "base_uri": "https://localhost:8080/"
        },
        "outputId": "efa9534f-d70d-4e6d-d1a0-61cefca11ef8"
      },
      "source": [
        "mixed_list[-4]"
      ],
      "execution_count": null,
      "outputs": [
        {
          "output_type": "execute_result",
          "data": {
            "text/plain": [
              "5.2"
            ]
          },
          "metadata": {
            "tags": []
          },
          "execution_count": 66
        }
      ]
    },
    {
      "cell_type": "markdown",
      "metadata": {
        "id": "_WhqBEUJqkMf"
      },
      "source": [
        "Lists can be sliced:"
      ]
    },
    {
      "cell_type": "code",
      "metadata": {
        "colab": {
          "base_uri": "https://localhost:8080/"
        },
        "id": "tg5dB7feOX9Q",
        "outputId": "d6229c10-b9ef-4bd0-cb7f-d40370bb3728"
      },
      "source": [
        "mixed_list=[3, 5.2, \"Hello World\", True, [1,2.3], range ]\r\n",
        "mixed_list"
      ],
      "execution_count": null,
      "outputs": [
        {
          "output_type": "execute_result",
          "data": {
            "text/plain": [
              "[3, 5.2, 'Hello World', True, [1, 2.3], range]"
            ]
          },
          "metadata": {
            "tags": []
          },
          "execution_count": 69
        }
      ]
    },
    {
      "cell_type": "code",
      "metadata": {
        "id": "vqi-LmUoqnn6",
        "colab": {
          "base_uri": "https://localhost:8080/"
        },
        "outputId": "9094441b-95f7-47bc-8ea3-c1257d8b8c5e"
      },
      "source": [
        "mixed_list[1:2]"
      ],
      "execution_count": null,
      "outputs": [
        {
          "output_type": "execute_result",
          "data": {
            "text/plain": [
              "[5.2]"
            ]
          },
          "metadata": {
            "tags": []
          },
          "execution_count": 70
        }
      ]
    },
    {
      "cell_type": "code",
      "metadata": {
        "id": "Un21Eqp1qn3r",
        "colab": {
          "base_uri": "https://localhost:8080/"
        },
        "outputId": "3a5641e8-b134-46f5-a397-1f9455fce12f"
      },
      "source": [
        "mixed_list[1:4]"
      ],
      "execution_count": null,
      "outputs": [
        {
          "output_type": "execute_result",
          "data": {
            "text/plain": [
              "[5.2, 'Hello World', True]"
            ]
          },
          "metadata": {
            "tags": []
          },
          "execution_count": 71
        }
      ]
    },
    {
      "cell_type": "code",
      "metadata": {
        "id": "HRCnZkBBqq5d",
        "colab": {
          "base_uri": "https://localhost:8080/"
        },
        "outputId": "9c90fab6-a204-464f-e55d-bc1ab4e87c83"
      },
      "source": [
        "mixed_list[-5:-2]"
      ],
      "execution_count": null,
      "outputs": [
        {
          "output_type": "execute_result",
          "data": {
            "text/plain": [
              "[5.2, 'Hello World', True]"
            ]
          },
          "metadata": {
            "tags": []
          },
          "execution_count": 72
        }
      ]
    },
    {
      "cell_type": "code",
      "metadata": {
        "id": "UqluQKXbqrEL",
        "colab": {
          "base_uri": "https://localhost:8080/"
        },
        "outputId": "6cbdcfcb-3447-4e50-9b03-053930d9913d"
      },
      "source": [
        "mixed_list[:2]"
      ],
      "execution_count": null,
      "outputs": [
        {
          "output_type": "execute_result",
          "data": {
            "text/plain": [
              "[3, 5.2]"
            ]
          },
          "metadata": {
            "tags": []
          },
          "execution_count": 73
        }
      ]
    },
    {
      "cell_type": "code",
      "metadata": {
        "id": "ysrOz-yZqrPh",
        "colab": {
          "base_uri": "https://localhost:8080/"
        },
        "outputId": "3f3d2aed-a2ec-41fa-c841-b89d6ca2fc01"
      },
      "source": [
        "mixed_list[:-2]"
      ],
      "execution_count": null,
      "outputs": [
        {
          "output_type": "execute_result",
          "data": {
            "text/plain": [
              "[3, 5.2, 'Hello World', True]"
            ]
          },
          "metadata": {
            "tags": []
          },
          "execution_count": 74
        }
      ]
    },
    {
      "cell_type": "code",
      "metadata": {
        "id": "nH6SePjvqrZN",
        "colab": {
          "base_uri": "https://localhost:8080/",
          "height": 165
        },
        "outputId": "ecfc998e-f6b0-471e-846a-ae7fabdb70a3"
      },
      "source": [
        "mixed_list[10]"
      ],
      "execution_count": null,
      "outputs": [
        {
          "output_type": "error",
          "ename": "IndexError",
          "evalue": "ignored",
          "traceback": [
            "\u001b[0;31m---------------------------------------------------------------------------\u001b[0m",
            "\u001b[0;31mIndexError\u001b[0m                                Traceback (most recent call last)",
            "\u001b[0;32m<ipython-input-75-d6654d40bef9>\u001b[0m in \u001b[0;36m<module>\u001b[0;34m()\u001b[0m\n\u001b[0;32m----> 1\u001b[0;31m \u001b[0mmixed_list\u001b[0m\u001b[0;34m[\u001b[0m\u001b[0;36m10\u001b[0m\u001b[0;34m]\u001b[0m\u001b[0;34m\u001b[0m\u001b[0;34m\u001b[0m\u001b[0m\n\u001b[0m",
            "\u001b[0;31mIndexError\u001b[0m: list index out of range"
          ]
        }
      ]
    },
    {
      "cell_type": "code",
      "metadata": {
        "id": "F45wqAJQqrkP"
      },
      "source": [
        ""
      ],
      "execution_count": null,
      "outputs": []
    },
    {
      "cell_type": "markdown",
      "metadata": {
        "id": "qK9-Knc2qsPO"
      },
      "source": [
        "Lists can be concatenated"
      ]
    },
    {
      "cell_type": "code",
      "metadata": {
        "id": "nJPkR5w9quyy"
      },
      "source": [
        "new_list = mixed_list + [1000, 2000]"
      ],
      "execution_count": null,
      "outputs": []
    },
    {
      "cell_type": "code",
      "metadata": {
        "id": "pDe2fkwhqu_y",
        "colab": {
          "base_uri": "https://localhost:8080/"
        },
        "outputId": "4eb56c3a-acd2-4cd5-ec8e-aea21d50ad82"
      },
      "source": [
        "mixed_list"
      ],
      "execution_count": null,
      "outputs": [
        {
          "output_type": "execute_result",
          "data": {
            "text/plain": [
              "[3, 5.2, 'Hello World', True, [1, 2.3], range]"
            ]
          },
          "metadata": {
            "tags": []
          },
          "execution_count": 77
        }
      ]
    },
    {
      "cell_type": "code",
      "metadata": {
        "id": "yz0GgcClqvLC",
        "colab": {
          "base_uri": "https://localhost:8080/"
        },
        "outputId": "60a8b758-e937-4911-981f-5487c542486a"
      },
      "source": [
        "new_list"
      ],
      "execution_count": null,
      "outputs": [
        {
          "output_type": "execute_result",
          "data": {
            "text/plain": [
              "[3, 5.2, 'Hello World', True, [1, 2.3], range, 1000, 2000]"
            ]
          },
          "metadata": {
            "tags": []
          },
          "execution_count": 79
        }
      ]
    },
    {
      "cell_type": "markdown",
      "metadata": {
        "id": "YHwvz1Nqq0HL"
      },
      "source": [
        "Lists have a rich set of functions"
      ]
    },
    {
      "cell_type": "code",
      "metadata": {
        "id": "SHM646hPrLmE",
        "colab": {
          "base_uri": "https://localhost:8080/"
        },
        "outputId": "d957b2b9-188b-4878-b0e9-7156efa1cffe"
      },
      "source": [
        "x=[5,1,3,4,2]\r\n",
        "x"
      ],
      "execution_count": null,
      "outputs": [
        {
          "output_type": "execute_result",
          "data": {
            "text/plain": [
              "[5, 1, 3, 4, 2]"
            ]
          },
          "metadata": {
            "tags": []
          },
          "execution_count": 87
        }
      ]
    },
    {
      "cell_type": "code",
      "metadata": {
        "id": "HzXYhz1trLw7",
        "colab": {
          "base_uri": "https://localhost:8080/"
        },
        "outputId": "51c5432d-c851-4a6a-861d-de02f07855d5"
      },
      "source": [
        "sum(x)"
      ],
      "execution_count": null,
      "outputs": [
        {
          "output_type": "execute_result",
          "data": {
            "text/plain": [
              "15"
            ]
          },
          "metadata": {
            "tags": []
          },
          "execution_count": 85
        }
      ]
    },
    {
      "cell_type": "code",
      "metadata": {
        "id": "5QSZmSlyrL6S",
        "colab": {
          "base_uri": "https://localhost:8080/"
        },
        "outputId": "384f546b-7fd2-4257-d2b5-88954813b56d"
      },
      "source": [
        "len(x)"
      ],
      "execution_count": null,
      "outputs": [
        {
          "output_type": "execute_result",
          "data": {
            "text/plain": [
              "5"
            ]
          },
          "metadata": {
            "tags": []
          },
          "execution_count": 86
        }
      ]
    },
    {
      "cell_type": "code",
      "metadata": {
        "colab": {
          "base_uri": "https://localhost:8080/"
        },
        "id": "jKEeOX8oRSSR",
        "outputId": "a55cf178-a8e1-459c-fbc3-6c844aa355c1"
      },
      "source": [
        "sorted(x)"
      ],
      "execution_count": null,
      "outputs": [
        {
          "output_type": "execute_result",
          "data": {
            "text/plain": [
              "[1, 2, 3, 4, 5]"
            ]
          },
          "metadata": {
            "tags": []
          },
          "execution_count": 89
        }
      ]
    },
    {
      "cell_type": "markdown",
      "metadata": {
        "id": "yAT9g6VErMNG"
      },
      "source": [
        "Lists are iterable"
      ]
    },
    {
      "cell_type": "code",
      "metadata": {
        "id": "cRIGGJ8srOLj",
        "colab": {
          "base_uri": "https://localhost:8080/"
        },
        "outputId": "0226ff5b-10b6-48c5-d5e7-f1264ded62d7"
      },
      "source": [
        "mixed_list=[3, 5.2, \"Hello World\", True, [1,2.3], range ]\r\n",
        "mixed_list"
      ],
      "execution_count": null,
      "outputs": [
        {
          "output_type": "execute_result",
          "data": {
            "text/plain": [
              "[3, 5.2, 'Hello World', True, [1, 2.3], range]"
            ]
          },
          "metadata": {
            "tags": []
          },
          "execution_count": 92
        }
      ]
    },
    {
      "cell_type": "code",
      "metadata": {
        "id": "kr1-uIKzrOZ0"
      },
      "source": [
        "for element in mixed_list:\r\n",
        "  if type(element) == int:\r\n",
        "    print(element, type(element))\r\n"
      ],
      "execution_count": null,
      "outputs": []
    },
    {
      "cell_type": "code",
      "metadata": {
        "id": "F-yzEbLmrSjH"
      },
      "source": [
        ""
      ],
      "execution_count": null,
      "outputs": []
    },
    {
      "cell_type": "code",
      "metadata": {
        "id": "Ucd2tynJr25w"
      },
      "source": [
        ""
      ],
      "execution_count": null,
      "outputs": []
    },
    {
      "cell_type": "code",
      "metadata": {
        "id": "JmC_xu_lrSsR"
      },
      "source": [
        ""
      ],
      "execution_count": null,
      "outputs": []
    },
    {
      "cell_type": "code",
      "metadata": {
        "id": "1Njn9EYHrS1G"
      },
      "source": [
        ""
      ],
      "execution_count": null,
      "outputs": []
    },
    {
      "cell_type": "code",
      "metadata": {
        "id": "iUOoiN0-rS9P"
      },
      "source": [
        "\r\n"
      ],
      "execution_count": null,
      "outputs": []
    },
    {
      "cell_type": "markdown",
      "metadata": {
        "id": "ti7qxChirTh_"
      },
      "source": [
        "**NEW**\r\n",
        "###A list of numbers can be created using *list comprehension*. The syntax is:\r\n",
        "\r\n",
        "[**expression** for **variable** in **iterable** if **condition**] \r\n",
        "\r\n",
        "The if **condition** part is optional, the statement and the condition can use variable.\r\n",
        "\r\n",
        "Example: Create a list of the squares of numbers between 1 and 10:"
      ]
    },
    {
      "cell_type": "code",
      "metadata": {
        "id": "JYmPK0SErjGv",
        "colab": {
          "base_uri": "https://localhost:8080/"
        },
        "outputId": "eaef0946-fd30-413b-c007-c1fb36dff498"
      },
      "source": [
        "[ number**2 for number in range(1,11) if number %2 ==0 ]"
      ],
      "execution_count": null,
      "outputs": [
        {
          "output_type": "execute_result",
          "data": {
            "text/plain": [
              "[4, 16, 36, 64, 100]"
            ]
          },
          "metadata": {
            "tags": []
          },
          "execution_count": 103
        }
      ]
    },
    {
      "cell_type": "code",
      "metadata": {
        "id": "skcG4xq4V0y_"
      },
      "source": [
        "[]"
      ],
      "execution_count": null,
      "outputs": []
    },
    {
      "cell_type": "markdown",
      "metadata": {
        "id": "QTLK86D-rpBT"
      },
      "source": [
        "Example: Create a list of the square roots of odd numbers between 1 and 20:"
      ]
    },
    {
      "cell_type": "code",
      "metadata": {
        "id": "HKTcAo2CrspV",
        "colab": {
          "base_uri": "https://localhost:8080/"
        },
        "outputId": "a6134b4b-f368-47e9-aee5-b29d90514d8e"
      },
      "source": [
        "[ element**0.5 for element in range(1, 21) if element %2 == 1]"
      ],
      "execution_count": null,
      "outputs": [
        {
          "output_type": "execute_result",
          "data": {
            "text/plain": [
              "[1.0,\n",
              " 1.7320508075688772,\n",
              " 2.23606797749979,\n",
              " 2.6457513110645907,\n",
              " 3.0,\n",
              " 3.3166247903554,\n",
              " 3.605551275463989,\n",
              " 3.872983346207417,\n",
              " 4.123105625617661,\n",
              " 4.358898943540674]"
            ]
          },
          "metadata": {
            "tags": []
          },
          "execution_count": 104
        }
      ]
    },
    {
      "cell_type": "markdown",
      "metadata": {
        "id": "RgbYW6jzuCTE"
      },
      "source": [
        "#Exericse:  Grades problem\r\n",
        "\r\n",
        "Given a list of grades, count how many are above the average."
      ]
    },
    {
      "cell_type": "code",
      "metadata": {
        "id": "54fWPS5SuLdK"
      },
      "source": [
        "grades = [33, 55,45,87,88,95,34,76,87,56,45,98,87,89,45,67,45,67,76,73,33,87,12,100,77,89,92]"
      ],
      "execution_count": null,
      "outputs": []
    },
    {
      "cell_type": "markdown",
      "metadata": {
        "id": "wPu1gIlKuWE5"
      },
      "source": [
        "Use `for` loop\r\n"
      ]
    },
    {
      "cell_type": "code",
      "metadata": {
        "id": "zoZ_elC6uPT2",
        "colab": {
          "base_uri": "https://localhost:8080/"
        },
        "outputId": "570795c4-e436-42b0-d07a-7a5b40d596db"
      },
      "source": [
        "average = sum(grades)/len(grades)\r\n",
        "count=0\r\n",
        "for grade in grades:\r\n",
        "  if grade > average:\r\n",
        "    count += 1\r\n",
        "\r\n",
        "print(count, \" grades are above average!\")"
      ],
      "execution_count": null,
      "outputs": [
        {
          "output_type": "stream",
          "text": [
            "15  grades are above average!\n"
          ],
          "name": "stdout"
        }
      ]
    },
    {
      "cell_type": "markdown",
      "metadata": {
        "id": "DWhBZpr4uY05"
      },
      "source": [
        "How about trying **list comprehension**?"
      ]
    },
    {
      "cell_type": "code",
      "metadata": {
        "id": "OMOLlPthudQ8",
        "colab": {
          "base_uri": "https://localhost:8080/"
        },
        "outputId": "8d985523-7ab7-4195-be01-b2931f37d5fa"
      },
      "source": [
        "average = sum(grades)/len(grades)\r\n",
        "len([grade for grade in grades if grade > average])"
      ],
      "execution_count": null,
      "outputs": [
        {
          "output_type": "execute_result",
          "data": {
            "text/plain": [
              "15"
            ]
          },
          "metadata": {
            "tags": []
          },
          "execution_count": 112
        }
      ]
    },
    {
      "cell_type": "markdown",
      "metadata": {
        "id": "rMxHoOIUujnX"
      },
      "source": [
        "#Functions!\r\n",
        "## extremly simple syntax\r\n",
        "`def func_name(list of params):`\r\n",
        "  "
      ]
    },
    {
      "cell_type": "code",
      "metadata": {
        "id": "lawJmiWCvBEU"
      },
      "source": [
        "def empty_func():\r\n",
        "  pass"
      ],
      "execution_count": null,
      "outputs": []
    },
    {
      "cell_type": "code",
      "metadata": {
        "id": "UxH8csHsvBQ9",
        "colab": {
          "base_uri": "https://localhost:8080/"
        },
        "outputId": "d73fe0cd-8433-4550-f7b3-3ba46c49b9f5"
      },
      "source": [
        "def max2(a, b):\r\n",
        "  if a >= b:\r\n",
        "    return a\r\n",
        "  else:\r\n",
        "    return b\r\n",
        "\r\n",
        "def min2(a, b):\r\n",
        "  if a <= b:\r\n",
        "    return a\r\n",
        "  else:\r\n",
        "    return b\r\n",
        "\r\n",
        "def max3v1(a, b, c):\r\n",
        "  if a>= b and a>=c:\r\n",
        "    return a\r\n",
        "  elif b>= a and b>= c:\r\n",
        "    return b\r\n",
        "  else:\r\n",
        "    return c\r\n",
        "\r\n",
        "def max3v2(a,b,c):\r\n",
        "  max_ab=max2(a,b)\r\n",
        "  return max2(max_ab, c)\r\n",
        "\r\n",
        "print(max2(3.5,4.2))\r\n",
        "print(max3v1(3.5,4.2,2))\r\n",
        "print(max3v2(3.5,4.2,2))\r\n",
        "\r\n"
      ],
      "execution_count": null,
      "outputs": [
        {
          "output_type": "stream",
          "text": [
            "4.2\n",
            "4.2\n",
            "4.2\n"
          ],
          "name": "stdout"
        }
      ]
    },
    {
      "cell_type": "code",
      "metadata": {
        "id": "Kz0g-L-bvBbQ",
        "colab": {
          "base_uri": "https://localhost:8080/"
        },
        "outputId": "95e61926-ff44-4838-f8a3-da7a4841c72b"
      },
      "source": [
        "%timeit max3v1(100,4,15)\r\n",
        "%timeit max3v1(4,15,100)\r\n",
        "%timeit max3v2(100,4,15)\r\n",
        "%timeit max3v2(4,15,100)\r\n"
      ],
      "execution_count": null,
      "outputs": [
        {
          "output_type": "stream",
          "text": [
            "The slowest run took 26.43 times longer than the fastest. This could mean that an intermediate result is being cached.\n",
            "10000000 loops, best of 3: 118 ns per loop\n",
            "The slowest run took 12.21 times longer than the fastest. This could mean that an intermediate result is being cached.\n",
            "10000000 loops, best of 3: 139 ns per loop\n",
            "The slowest run took 10.46 times longer than the fastest. This could mean that an intermediate result is being cached.\n",
            "1000000 loops, best of 3: 279 ns per loop\n",
            "The slowest run took 6.32 times longer than the fastest. This could mean that an intermediate result is being cached.\n",
            "1000000 loops, best of 3: 278 ns per loop\n"
          ],
          "name": "stdout"
        }
      ]
    },
    {
      "cell_type": "markdown",
      "metadata": {
        "id": "67alNWfb3ZJA"
      },
      "source": [
        "#Exercise: Implement `convert_base` function"
      ]
    },
    {
      "cell_type": "markdown",
      "metadata": {
        "id": "DpUTnKYp4b0G"
      },
      "source": [
        "##The binary system and base conversions\r\n",
        "\r\n",
        "A binary number is a number in the base 2, which means that it only uses 2 digits - 0 and 1.\r\n",
        "The \"regular\" numbers we use, the decimal numbers, are in base 10, which means they use 10 digits - 0,1,2,3,4,5,6,7,8,9.\r\n",
        "\r\n",
        "What is a base? To understand base X, imagine you have X fingers instead of 10. **How would you count with X fingers?**\r\n",
        "\r\n",
        "### Converting binary to decimal\r\n",
        "\r\n",
        "Looking at a binary number, 10011010, the **Least Significant Digit** (or **bit** for binary digits), in this case 0, is  the right most digit, and if it is 1 then it is worth $2^0=1$, otherwise it is worth 0. The next bit (in this case 1) is worth $2^1=2$. The next one is worth $2^2=4$, and the *k*-th digit/bit from the right (starting with *k=0*) is worth $2^k$. In general, denoting the binary number $x_{base 2} = a_n a_{n-} ... a_1 a_0$, it's decimal value can be evaluated by\r\n",
        "$$\r\n",
        "x_{base 10} = \\sum_{n \\ge k \\ge 0} a_k 2^k\r\n",
        "$$\r\n",
        "\r\n",
        "Let's write python code for this:"
      ]
    },
    {
      "cell_type": "code",
      "metadata": {
        "id": "cSsjA0od46Ve",
        "colab": {
          "base_uri": "https://localhost:8080/"
        },
        "outputId": "3c630837-0348-4b51-d8b6-2c82187e85bf"
      },
      "source": [
        "x_bin=\"10011010\"\r\n",
        "x_dec = 0\r\n",
        "count =  0\r\n",
        "holder_val = 0\r\n",
        "for item in x_bin:\r\n",
        "  if item == \"1\":\r\n",
        "    holder_val = 2 ** count\r\n",
        "    x_dec += holder_val \r\n",
        "  count += 1\r\n",
        "print(x_dec)\r\n",
        "\r\n",
        "x=0b10011010\r\n",
        "x"
      ],
      "execution_count": null,
      "outputs": [
        {
          "output_type": "stream",
          "text": [
            "89\n"
          ],
          "name": "stdout"
        },
        {
          "output_type": "execute_result",
          "data": {
            "text/plain": [
              "154"
            ]
          },
          "metadata": {
            "tags": []
          },
          "execution_count": 127
        }
      ]
    },
    {
      "cell_type": "markdown",
      "metadata": {
        "id": "8NQNfz7H5AXU"
      },
      "source": [
        "### Converting decimal to binary\r\n",
        "Converting from decimal to binary is done by integer division. Remember that taking the modulo 10 of a number gives the LSD in base 10, and diving by 10 removes the LSD. This is the basic idea:\r\n",
        "\r\n",
        "\r\n"
      ]
    },
    {
      "cell_type": "code",
      "metadata": {
        "id": "rX5giyf557P3"
      },
      "source": [
        ""
      ],
      "execution_count": null,
      "outputs": []
    },
    {
      "cell_type": "markdown",
      "metadata": {
        "id": "W4fweFNd5_M7"
      },
      "source": [
        "### Actually...python has bult-in support for some power-of-two base conversion -__-!\r\n"
      ]
    },
    {
      "cell_type": "code",
      "metadata": {
        "id": "G3-i_WpE57dK"
      },
      "source": [
        ""
      ],
      "execution_count": null,
      "outputs": []
    },
    {
      "cell_type": "code",
      "metadata": {
        "id": "4OXzsZcG57p2"
      },
      "source": [
        ""
      ],
      "execution_count": null,
      "outputs": []
    },
    {
      "cell_type": "code",
      "metadata": {
        "id": "qstabZ5y5-d1"
      },
      "source": [
        ""
      ],
      "execution_count": null,
      "outputs": []
    },
    {
      "cell_type": "code",
      "metadata": {
        "id": "A6K33Nbj5-ne"
      },
      "source": [
        ""
      ],
      "execution_count": null,
      "outputs": []
    },
    {
      "cell_type": "markdown",
      "metadata": {
        "id": "aJtnIW906QD9"
      },
      "source": [
        "###But we want to do a conversion from base-10 to any arbitrary base  \r\n",
        "> We want to convert from base 10 to base b $(2 \\le b < 10)\\;$ :"
      ]
    },
    {
      "cell_type": "code",
      "metadata": {
        "id": "5wqNwA7b8Z40"
      },
      "source": [
        ""
      ],
      "execution_count": null,
      "outputs": []
    },
    {
      "cell_type": "code",
      "metadata": {
        "id": "pe_0CFq683zv"
      },
      "source": [
        ""
      ],
      "execution_count": null,
      "outputs": []
    },
    {
      "cell_type": "code",
      "metadata": {
        "id": "Sk-T_DTd83_2"
      },
      "source": [
        ""
      ],
      "execution_count": null,
      "outputs": []
    },
    {
      "cell_type": "code",
      "metadata": {
        "id": "gPNNjxOK84N5"
      },
      "source": [
        ""
      ],
      "execution_count": null,
      "outputs": []
    },
    {
      "cell_type": "markdown",
      "metadata": {
        "id": "L-ie8AVx9P-p"
      },
      "source": [
        "### and now to base b for $10 < b \\le 36\\;$ :"
      ]
    },
    {
      "cell_type": "code",
      "metadata": {
        "id": "Tic59Nx_84jJ"
      },
      "source": [
        ""
      ],
      "execution_count": null,
      "outputs": []
    },
    {
      "cell_type": "code",
      "metadata": {
        "id": "eONTKYRC9V8f"
      },
      "source": [
        ""
      ],
      "execution_count": null,
      "outputs": []
    },
    {
      "cell_type": "code",
      "metadata": {
        "id": "6hrsO3vm9WFz"
      },
      "source": [
        ""
      ],
      "execution_count": null,
      "outputs": []
    },
    {
      "cell_type": "code",
      "metadata": {
        "id": "srjoNAQF9WP-"
      },
      "source": [
        ""
      ],
      "execution_count": null,
      "outputs": []
    },
    {
      "cell_type": "code",
      "metadata": {
        "id": "o8K1403z84uk"
      },
      "source": [
        ""
      ],
      "execution_count": null,
      "outputs": []
    },
    {
      "cell_type": "code",
      "metadata": {
        "id": "mhJg23L3843w"
      },
      "source": [
        ""
      ],
      "execution_count": null,
      "outputs": []
    },
    {
      "cell_type": "markdown",
      "metadata": {
        "id": "QDf83ME73-Mv"
      },
      "source": [
        "# Python's memory model\r\n",
        "\r\n",
        "Let us checkout the [virtualized python memory model]() !"
      ]
    },
    {
      "cell_type": "markdown",
      "metadata": {
        "id": "FuoSEbOMj5oX"
      },
      "source": [
        "##Credits:\n",
        "\n",
        "This notebook is part of the extended introduction to computer science course at Tel-Aviv University.\n",
        "\n",
        "The notebook was written using Python 3.2 and IPython 0.13.1.\n",
        "\n",
        "This work is licensed under a [Creative Commons Attribution-ShareAlike 3.0 Unported License](http://creativecommons.org/licenses/by-sa/3.0/)."
      ]
    }
  ]
}