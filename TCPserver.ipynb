{
  "nbformat": 4,
  "nbformat_minor": 0,
  "metadata": {
    "colab": {
      "name": "TCPserver.ipynb",
      "provenance": [],
      "authorship_tag": "ABX9TyP/Wu1/i/jJffiyRuHj0amd",
      "include_colab_link": true
    },
    "kernelspec": {
      "name": "python3",
      "display_name": "Python 3"
    }
  },
  "cells": [
    {
      "cell_type": "markdown",
      "metadata": {
        "id": "view-in-github",
        "colab_type": "text"
      },
      "source": [
        "<a href=\"https://colab.research.google.com/github/NguyenCuuNguyen/CS488S21/blob/main/TCPserver.ipynb\" target=\"_parent\"><img src=\"https://colab.research.google.com/assets/colab-badge.svg\" alt=\"Open In Colab\"/></a>"
      ]
    },
    {
      "cell_type": "code",
      "metadata": {
        "id": "Nc19R5wjmX5O"
      },
      "source": [
        "\n",
        "# Import socket library\n",
        "import socket\n",
        "\n",
        "# Create server\n",
        "serverPort = 1200\n",
        "ServerName = 'localhost'\n",
        "ServerAddress = (ServerName, serverPort)\n",
        "\n",
        "# Create server socket = TCP socket object, server's initial welcoming door\n",
        "serverSocket = socket.socket(socket.AF_INET, socket.SOCK_STREAM)\n",
        "\n",
        "# Associate server port number with the socket\n",
        "serverSocket.bind(ServerAddress)\n",
        "\n",
        "# wait for some client to knock on the door\n",
        "serverSocket.listen(1) # maximum number of queued connections (atleast 1)\n",
        "\n",
        "print('The server is ready to listen')\n",
        "# Create connection socket, specific to each client\n",
        "connection_socket, addr = serverSocket.accept()\n",
        "\n",
        "while 1:\n",
        "    # Receive message from client\n",
        "    message = connection_socket.recv(2048)\n",
        "    \n",
        "    # Modify the message\n",
        "    modified_message = message.upper()\n",
        "    \n",
        "    # Send the modified message\n",
        "    connection_socket.send(modified_message)\n",
        "    print(\"Reply sent\",addr)\n",
        "    \n",
        "# Close communication with client\n",
        "connection_socket.close()"
      ],
      "execution_count": null,
      "outputs": []
    }
  ]
}