{
  "nbformat": 4,
  "nbformat_minor": 0,
  "metadata": {
    "colab": {
      "name": "UDPclient.ipynb",
      "provenance": [],
      "authorship_tag": "ABX9TyMZmI9dAmRa77BCqRlSe3pL",
      "include_colab_link": true
    },
    "kernelspec": {
      "name": "python3",
      "display_name": "Python 3"
    }
  },
  "cells": [
    {
      "cell_type": "markdown",
      "metadata": {
        "id": "view-in-github",
        "colab_type": "text"
      },
      "source": [
        "<a href=\"https://colab.research.google.com/github/NguyenCuuNguyen/CS488S21/blob/main/UDPclient.ipynb\" target=\"_parent\"><img src=\"https://colab.research.google.com/assets/colab-badge.svg\" alt=\"Open In Colab\"/></a>"
      ]
    },
    {
      "cell_type": "code",
      "metadata": {
        "id": "kJ7WCJFhlElx"
      },
      "source": [
        "from socket import *\n",
        "\n",
        "serverName = ‘localhost’\n",
        "serverPort = 1200\n",
        "\n",
        "clientSocket = socket(socket.AF_INET, socket.SOCK_DGRAM)\n",
        "\n",
        "message = raw_input(’Input lowercase sentence:’)\n",
        "\n",
        "#attaches the destination address (serverName, serverPort) to the message\n",
        "clientSocket.sendto(message,(serverName, serverPort))\n",
        "\n",
        "#modifiedMessage stores data of internet's response packet\n",
        "#serverAddress = packet src @ = serve IP + Port num\n",
        "#2048 = buffer size\n",
        "modifiedMessage, serverAddress = clientSocket.recvfrom(2048)\n",
        "\n",
        "print modifiedMessage\n",
        "clientSocket.close()"
      ],
      "execution_count": null,
      "outputs": []
    }
  ]
}