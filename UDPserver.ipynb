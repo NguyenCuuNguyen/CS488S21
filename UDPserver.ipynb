{
  "nbformat": 4,
  "nbformat_minor": 0,
  "metadata": {
    "colab": {
      "name": "UDPserver.ipynb",
      "provenance": [],
      "authorship_tag": "ABX9TyMUVzxJW6N197kAK3bT4l7g",
      "include_colab_link": true
    },
    "kernelspec": {
      "name": "python3",
      "display_name": "Python 3"
    }
  },
  "cells": [
    {
      "cell_type": "markdown",
      "metadata": {
        "id": "view-in-github",
        "colab_type": "text"
      },
      "source": [
        "<a href=\"https://colab.research.google.com/github/NguyenCuuNguyen/CS488S21/blob/main/UDPserver.ipynb\" target=\"_parent\"><img src=\"https://colab.research.google.com/assets/colab-badge.svg\" alt=\"Open In Colab\"/></a>"
      ]
    },
    {
      "cell_type": "code",
      "metadata": {
        "id": "zmee0ToblUG4"
      },
      "source": [
        "from socket import *\n",
        "\n",
        "serverNamee = 'localhost'\n",
        "serverPort = 1200\n",
        "serverSocket = socket(AF_INET, SOCK_DGRAM)\n",
        "\n",
        "#binds the port number 1200 to the server’s socket\n",
        "serverSocket.bind((’’, serverPort))\n",
        "print ”The server is ready to receive”\n",
        "\n",
        "while 1:\n",
        "    message, clientAddress = serverSocket.recvfrom(2048)\n",
        "    modifiedMessage = message.upper()\n",
        "    serverSocket.sendto(modifiedMessage, clientAddress)"
      ],
      "execution_count": null,
      "outputs": []
    }
  ]
}