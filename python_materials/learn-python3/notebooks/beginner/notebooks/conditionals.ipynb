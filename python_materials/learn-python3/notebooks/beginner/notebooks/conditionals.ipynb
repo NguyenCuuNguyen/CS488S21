{
  "nbformat": 4,
  "nbformat_minor": 0,
  "metadata": {
    "kernelspec": {
      "display_name": "Python 3",
      "language": "python",
      "name": "python3"
    },
    "language_info": {
      "codemirror_mode": {
        "name": "ipython",
        "version": 3
      },
      "file_extension": ".py",
      "mimetype": "text/x-python",
      "name": "python",
      "nbconvert_exporter": "python",
      "pygments_lexer": "ipython3",
      "version": "3.5.4"
    },
    "colab": {
      "name": "conditionals.ipynb",
      "provenance": []
    }
  },
  "cells": [
    {
      "cell_type": "markdown",
      "metadata": {
        "id": "0SSIKaf8nipy"
      },
      "source": [
        "# Conditionals"
      ]
    },
    {
      "cell_type": "markdown",
      "metadata": {
        "id": "7lIICL1pnip4"
      },
      "source": [
        "## Testing truth value"
      ]
    },
    {
      "cell_type": "markdown",
      "metadata": {
        "id": "kVqGDQ-Wnip4"
      },
      "source": [
        "### `bool`"
      ]
    },
    {
      "cell_type": "code",
      "metadata": {
        "id": "Qf2KZ90Fnip5",
        "outputId": "34c15f99-e750-480e-89ea-5a6373de5da6",
        "colab": {
          "base_uri": "https://localhost:8080/"
        }
      },
      "source": [
        "print('type of True and False: {}'.format(type(True)))"
      ],
      "execution_count": 1,
      "outputs": [
        {
          "output_type": "stream",
          "text": [
            "type of True and False: <class 'bool'>\n"
          ],
          "name": "stdout"
        }
      ]
    },
    {
      "cell_type": "code",
      "metadata": {
        "id": "mqBwKvDinip5",
        "outputId": "48926534-caff-406d-dd2b-a2a267b9ee58",
        "colab": {
          "base_uri": "https://localhost:8080/"
        }
      },
      "source": [
        "print('0: {}, 1: {}'.format(bool(0), bool(1)))\n",
        "print('empty list: {}, list with values: {}'.format(bool([]), bool(['woop'])))\n",
        "print('empty dict: {}, dict with values: {}'.format(bool({}), bool({'Python': 'cool'})))"
      ],
      "execution_count": 2,
      "outputs": [
        {
          "output_type": "stream",
          "text": [
            "0: False, 1: True\n",
            "empty list: False, list with values: True\n",
            "empty dict: False, dict with values: True\n"
          ],
          "name": "stdout"
        }
      ]
    },
    {
      "cell_type": "markdown",
      "metadata": {
        "id": "ktaMzidpnip5"
      },
      "source": [
        "### `==, !=, >, <, >=, <=`"
      ]
    },
    {
      "cell_type": "code",
      "metadata": {
        "id": "n_nvrF8Pnip6",
        "outputId": "37997503-27e6-4e2d-88c0-6e4ba2fac9be",
        "colab": {
          "base_uri": "https://localhost:8080/"
        }
      },
      "source": [
        "print('1 == 0: {}'.format(1 == 0))\n",
        "print('1 != 0: {}'.format(1 != 0))\n",
        "print('1 > 0: {}'.format(1 > 0))\n",
        "print('1 > 1: {}'.format(1 > 1))\n",
        "print('1 < 0: {}'.format(1 < 0))\n",
        "print('1 < 1: {}'.format(1 < 1))\n",
        "print('1 >= 0: {}'.format(1 >= 0))\n",
        "print('1 >= 1: {}'.format(1 >= 1))\n",
        "print('1 <= 0: {}'.format(1 <= 0))\n",
        "print('1 <= 1: {}'.format(1 <= 1))"
      ],
      "execution_count": 3,
      "outputs": [
        {
          "output_type": "stream",
          "text": [
            "1 == 0: False\n",
            "1 != 0: True\n",
            "1 > 0: True\n",
            "1 > 1: False\n",
            "1 < 0: False\n",
            "1 < 1: False\n",
            "1 >= 0: True\n",
            "1 >= 1: True\n",
            "1 <= 0: False\n",
            "1 <= 1: True\n"
          ],
          "name": "stdout"
        }
      ]
    },
    {
      "cell_type": "markdown",
      "metadata": {
        "id": "imLwf6rSnip6"
      },
      "source": [
        "You can combine these:"
      ]
    },
    {
      "cell_type": "code",
      "metadata": {
        "id": "kZW6YZMgnip6",
        "outputId": "449d55e6-cfdd-4087-a02c-bfc37ae726dc",
        "colab": {
          "base_uri": "https://localhost:8080/"
        }
      },
      "source": [
        "print('1 <= 2 <= 3: {}'.format(1 <= 2 <= 3))"
      ],
      "execution_count": 4,
      "outputs": [
        {
          "output_type": "stream",
          "text": [
            "1 <= 2 <= 3: True\n"
          ],
          "name": "stdout"
        }
      ]
    },
    {
      "cell_type": "markdown",
      "metadata": {
        "id": "7IqOICILnip7"
      },
      "source": [
        "### `and, or, not`"
      ]
    },
    {
      "cell_type": "code",
      "metadata": {
        "id": "mIwqq04Enip7"
      },
      "source": [
        "python_is_cool = True\n",
        "java_is_cool = False\n",
        "empty_list = []\n",
        "secret_value = 3.14"
      ],
      "execution_count": 6,
      "outputs": []
    },
    {
      "cell_type": "code",
      "metadata": {
        "id": "Er_ucvvInip7",
        "outputId": "125592bf-8f40-4f1f-ff73-3ac4f0a8ea28",
        "colab": {
          "base_uri": "https://localhost:8080/"
        }
      },
      "source": [
        "print('Python and java are both cool: {}'.format(python_is_cool and java_is_cool))\n",
        "print('secret_value and python_is_cool: {}'.format(secret_value and python_is_cool))"
      ],
      "execution_count": 7,
      "outputs": [
        {
          "output_type": "stream",
          "text": [
            "Python and java are both cool: False\n",
            "secret_value and python_is_cool: True\n"
          ],
          "name": "stdout"
        }
      ]
    },
    {
      "cell_type": "code",
      "metadata": {
        "id": "IRrFr99Pnip8",
        "outputId": "a53df219-8eb4-41a4-d8b9-1396d6e981c3",
        "colab": {
          "base_uri": "https://localhost:8080/"
        }
      },
      "source": [
        "print('Python or java is cool: {}'.format(python_is_cool or java_is_cool))\n",
        "print('1 >= 1.1 or 2 < float(\"1.4\"): {}'.format(1 >= 1.1 or 2 < float('1.4')))"
      ],
      "execution_count": 8,
      "outputs": [
        {
          "output_type": "stream",
          "text": [
            "Python or java is cool: True\n",
            "1 >= 1.1 or 2 < float(\"1.4\"): False\n"
          ],
          "name": "stdout"
        }
      ]
    },
    {
      "cell_type": "code",
      "metadata": {
        "id": "F3t1ZgPynip8",
        "outputId": "b2862f80-bed3-41f8-c560-acd4e911af63",
        "colab": {
          "base_uri": "https://localhost:8080/"
        }
      },
      "source": [
        "print('Java is not cool: {}'.format(not java_is_cool))"
      ],
      "execution_count": 9,
      "outputs": [
        {
          "output_type": "stream",
          "text": [
            "Java is not cool: True\n"
          ],
          "name": "stdout"
        }
      ]
    },
    {
      "cell_type": "markdown",
      "metadata": {
        "id": "rJj3pXEXnip8"
      },
      "source": [
        "You can combine multiple statements, execution order is from left to right. You can control the execution order by using brackets."
      ]
    },
    {
      "cell_type": "code",
      "metadata": {
        "id": "FYw7FJNWnip8",
        "outputId": "8d880e64-8e43-45ed-baeb-c659b5d9b680",
        "colab": {
          "base_uri": "https://localhost:8080/"
        }
      },
      "source": [
        "print(bool(not java_is_cool or secret_value and  python_is_cool or empty_list))\n",
        "print(bool(not (java_is_cool or secret_value and  python_is_cool or empty_list)))"
      ],
      "execution_count": 10,
      "outputs": [
        {
          "output_type": "stream",
          "text": [
            "True\n",
            "False\n"
          ],
          "name": "stdout"
        }
      ]
    },
    {
      "cell_type": "markdown",
      "metadata": {
        "id": "jhuW-Z4Inip8"
      },
      "source": [
        "## `if`"
      ]
    },
    {
      "cell_type": "code",
      "metadata": {
        "id": "NEKFRnILnip9",
        "outputId": "a1f883ac-a783-4700-9749-7bc3c9df3297",
        "colab": {
          "base_uri": "https://localhost:8080/"
        }
      },
      "source": [
        "statement = True\n",
        "if statement:\n",
        "    print('statement is True')\n",
        "    \n",
        "if not statement:\n",
        "    print('statement is not True')"
      ],
      "execution_count": 11,
      "outputs": [
        {
          "output_type": "stream",
          "text": [
            "statement is True\n"
          ],
          "name": "stdout"
        }
      ]
    },
    {
      "cell_type": "code",
      "metadata": {
        "id": "BRZS8yT_nip9"
      },
      "source": [
        "empty_list = []\n",
        "# With if and elif, conversion to `bool` is implicit\n",
        "if empty_list:\n",
        "    print('empty list will not evaluate to True')  # this won't be executed"
      ],
      "execution_count": 14,
      "outputs": []
    },
    {
      "cell_type": "code",
      "metadata": {
        "id": "9Cod1Gvdnip9",
        "outputId": "5eb7b93e-0443-460c-c1e2-d1a57709e37c",
        "colab": {
          "base_uri": "https://localhost:8080/"
        }
      },
      "source": [
        "val = 3\n",
        "if 0 <= val < 1 or val == 3:\n",
        "    print('Value is positive and less than one or value is three')"
      ],
      "execution_count": 15,
      "outputs": [
        {
          "output_type": "stream",
          "text": [
            "Value is positive and less than one or value is three\n"
          ],
          "name": "stdout"
        }
      ]
    },
    {
      "cell_type": "markdown",
      "metadata": {
        "id": "Biiu1Uchnip9"
      },
      "source": [
        "## `if-else`"
      ]
    },
    {
      "cell_type": "code",
      "metadata": {
        "id": "xk9b0YCvnip9",
        "outputId": "69ea0562-6c12-4627-d0bc-c229422c6382",
        "colab": {
          "base_uri": "https://localhost:8080/"
        }
      },
      "source": [
        "my_dict = {}\n",
        "if my_dict:\n",
        "    print('there is something in my dict')\n",
        "else:\n",
        "    print('my dict is empty :(')"
      ],
      "execution_count": 16,
      "outputs": [
        {
          "output_type": "stream",
          "text": [
            "my dict is empty :(\n"
          ],
          "name": "stdout"
        }
      ]
    },
    {
      "cell_type": "markdown",
      "metadata": {
        "id": "IVBUmhxcnip-"
      },
      "source": [
        "## `if-elif-else`"
      ]
    },
    {
      "cell_type": "code",
      "metadata": {
        "id": "xNB8dA0rnip-",
        "outputId": "b3dec6e7-4121-4337-bca0-582daabfe484",
        "colab": {
          "base_uri": "https://localhost:8080/"
        }
      },
      "source": [
        "val = 88\n",
        "if val >= 100:\n",
        "    print('value is equal or greater than 100')\n",
        "elif val > 10:\n",
        "    print('value is greater than 10 but less than 100')\n",
        "else:\n",
        "    print('value is equal or less than 10')"
      ],
      "execution_count": 17,
      "outputs": [
        {
          "output_type": "stream",
          "text": [
            "value is greater than 10 but less than 100\n"
          ],
          "name": "stdout"
        }
      ]
    },
    {
      "cell_type": "markdown",
      "metadata": {
        "id": "x0o58Ejxnip-"
      },
      "source": [
        "You can have as many `elif` statements as you need. In addition, `else` at the end is not mandatory."
      ]
    },
    {
      "cell_type": "code",
      "metadata": {
        "id": "jNFnKzPcnip-",
        "outputId": "c8afba4a-de75-4339-da06-6fd4e3605c1c",
        "colab": {
          "base_uri": "https://localhost:8080/"
        }
      },
      "source": [
        "greeting = 'Hello fellow Pythonista!'\n",
        "language = 'Italian'\n",
        "\n",
        "if language == 'Swedish':\n",
        "    greeting = 'Hejsan!'\n",
        "elif language == 'Finnish':\n",
        "    greeting = 'Latua perkele!'\n",
        "elif language == 'Spanish':\n",
        "    greeting = 'Hola!'\n",
        "elif language == 'German':\n",
        "    greeting = 'Guten Tag!'\n",
        "    \n",
        "print(greeting)"
      ],
      "execution_count": 18,
      "outputs": [
        {
          "output_type": "stream",
          "text": [
            "Hello fellow Pythonista!\n"
          ],
          "name": "stdout"
        }
      ]
    },
    {
      "cell_type": "markdown",
      "metadata": {
        "id": "Y4WEQDt6nip-"
      },
      "source": [
        "For more detailed overview about conditionals, check this [tutorial from Real Python](https://realpython.com/python-conditional-statements/)."
      ]
    }
  ]
}