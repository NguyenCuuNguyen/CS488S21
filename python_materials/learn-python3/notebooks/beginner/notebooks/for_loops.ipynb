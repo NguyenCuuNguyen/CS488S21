{
  "nbformat": 4,
  "nbformat_minor": 0,
  "metadata": {
    "kernelspec": {
      "display_name": "Python 3",
      "language": "python",
      "name": "python3"
    },
    "language_info": {
      "codemirror_mode": {
        "name": "ipython",
        "version": 3
      },
      "file_extension": ".py",
      "mimetype": "text/x-python",
      "name": "python",
      "nbconvert_exporter": "python",
      "pygments_lexer": "ipython3",
      "version": "3.5.4"
    },
    "colab": {
      "name": "for_loops.ipynb",
      "provenance": []
    }
  },
  "cells": [
    {
      "cell_type": "markdown",
      "metadata": {
        "id": "iNOv0piZ3Zk0"
      },
      "source": [
        "# [`for` loops](https://docs.python.org/3/tutorial/controlflow.html#for-statements)"
      ]
    },
    {
      "cell_type": "markdown",
      "metadata": {
        "id": "ayryVF_Z3Zk6"
      },
      "source": [
        "## Looping lists"
      ]
    },
    {
      "cell_type": "code",
      "metadata": {
        "id": "TofXizr43Zk7",
        "outputId": "c458135c-7a61-45db-8613-f77a07d40eb8",
        "colab": {
          "base_uri": "https://localhost:8080/"
        }
      },
      "source": [
        "my_list = [1, 2, 3, 4, 'Python', 'is', 'neat']\n",
        "for item in my_list:\n",
        "    print(item)"
      ],
      "execution_count": 1,
      "outputs": [
        {
          "output_type": "stream",
          "text": [
            "1\n",
            "2\n",
            "3\n",
            "4\n",
            "Python\n",
            "is\n",
            "neat\n"
          ],
          "name": "stdout"
        }
      ]
    },
    {
      "cell_type": "markdown",
      "metadata": {
        "id": "0tGcnXO_3Zk7"
      },
      "source": [
        "### `break`\n",
        "Stop the execution of the loop."
      ]
    },
    {
      "cell_type": "code",
      "metadata": {
        "id": "LL0o6xKB3Zk7",
        "outputId": "fa8cd222-95af-4fc9-df4f-516248763c1d",
        "colab": {
          "base_uri": "https://localhost:8080/"
        }
      },
      "source": [
        "for item in my_list:\n",
        "    if item == 'Python':\n",
        "        break\n",
        "    print(item)"
      ],
      "execution_count": 2,
      "outputs": [
        {
          "output_type": "stream",
          "text": [
            "1\n",
            "2\n",
            "3\n",
            "4\n"
          ],
          "name": "stdout"
        }
      ]
    },
    {
      "cell_type": "markdown",
      "metadata": {
        "id": "G4tEdhRT3Zk8"
      },
      "source": [
        "### `continue`\n",
        "Continue to the next item without executing the lines occuring after `continue` inside the loop."
      ]
    },
    {
      "cell_type": "code",
      "metadata": {
        "id": "9sI5HG-33Zk8",
        "outputId": "b106df04-ff5f-45ba-d84d-758d8e80305b",
        "colab": {
          "base_uri": "https://localhost:8080/"
        }
      },
      "source": [
        "for item in my_list:\n",
        "    if item == 1:\n",
        "        continue\n",
        "    print(item)"
      ],
      "execution_count": 3,
      "outputs": [
        {
          "output_type": "stream",
          "text": [
            "2\n",
            "3\n",
            "4\n",
            "Python\n",
            "is\n",
            "neat\n"
          ],
          "name": "stdout"
        }
      ]
    },
    {
      "cell_type": "markdown",
      "metadata": {
        "id": "KkQY1suz3Zk8"
      },
      "source": [
        "### `enumerate()`\n",
        "In case you need to also know the index:"
      ]
    },
    {
      "cell_type": "code",
      "metadata": {
        "id": "jTnoTsn13Zk8",
        "outputId": "2b8d0dd2-55fb-4753-9299-a9f8427a339b",
        "colab": {
          "base_uri": "https://localhost:8080/"
        }
      },
      "source": [
        "for idx, val in enumerate(my_list):\n",
        "    print('idx: {}, value: {}'.format(idx, val))"
      ],
      "execution_count": 4,
      "outputs": [
        {
          "output_type": "stream",
          "text": [
            "idx: 0, value: 1\n",
            "idx: 1, value: 2\n",
            "idx: 2, value: 3\n",
            "idx: 3, value: 4\n",
            "idx: 4, value: Python\n",
            "idx: 5, value: is\n",
            "idx: 6, value: neat\n"
          ],
          "name": "stdout"
        }
      ]
    },
    {
      "cell_type": "markdown",
      "metadata": {
        "id": "ZJSoZs6M3Zk8"
      },
      "source": [
        "## Looping dictionaries"
      ]
    },
    {
      "cell_type": "code",
      "metadata": {
        "id": "ZgH5EFVL3Zk9",
        "outputId": "0ec478a6-14b1-4cbf-91c4-8f5c7c7be9ab",
        "colab": {
          "base_uri": "https://localhost:8080/"
        }
      },
      "source": [
        "my_dict = {'hacker': True, 'age': 72, 'name': 'John Doe'}\n",
        "for val in my_dict:\n",
        "    print(val)"
      ],
      "execution_count": 5,
      "outputs": [
        {
          "output_type": "stream",
          "text": [
            "hacker\n",
            "age\n",
            "name\n"
          ],
          "name": "stdout"
        }
      ]
    },
    {
      "cell_type": "code",
      "metadata": {
        "id": "FGEwA7Q03Zk9",
        "outputId": "dc1c0874-89a8-48cb-de55-1c7ac29a1853",
        "colab": {
          "base_uri": "https://localhost:8080/"
        }
      },
      "source": [
        "for key, val in my_dict.items():\n",
        "    print('{}={}'.format(key, val))"
      ],
      "execution_count": 6,
      "outputs": [
        {
          "output_type": "stream",
          "text": [
            "hacker=True\n",
            "age=72\n",
            "name=John Doe\n"
          ],
          "name": "stdout"
        }
      ]
    },
    {
      "cell_type": "markdown",
      "metadata": {
        "id": "NN8-dBz43Zk9"
      },
      "source": [
        "## `range()`"
      ]
    },
    {
      "cell_type": "code",
      "metadata": {
        "id": "E_P5dwYH3Zk-",
        "outputId": "bf673c6d-ba55-41ea-cd86-a20d080ed8a4",
        "colab": {
          "base_uri": "https://localhost:8080/"
        }
      },
      "source": [
        "for number in range(5):\n",
        "    print(number)"
      ],
      "execution_count": 7,
      "outputs": [
        {
          "output_type": "stream",
          "text": [
            "0\n",
            "1\n",
            "2\n",
            "3\n",
            "4\n"
          ],
          "name": "stdout"
        }
      ]
    },
    {
      "cell_type": "code",
      "metadata": {
        "id": "e1F6Etu53Zk-",
        "outputId": "ec475c8c-f9d8-4b3b-d74a-30889f3caa89",
        "colab": {
          "base_uri": "https://localhost:8080/"
        }
      },
      "source": [
        "for number in range(2, 5):\n",
        "    print(number)"
      ],
      "execution_count": 8,
      "outputs": [
        {
          "output_type": "stream",
          "text": [
            "2\n",
            "3\n",
            "4\n"
          ],
          "name": "stdout"
        }
      ]
    },
    {
      "cell_type": "markdown",
      "metadata": {
        "id": "VA292Ihr5PX1"
      },
      "source": [
        "Print 2 3 4 and stop at 4, BEFORE 5"
      ]
    },
    {
      "cell_type": "code",
      "metadata": {
        "id": "ys3KC71y3Zk-",
        "outputId": "30985435-a0a3-4be4-afa6-fb602c6d6eca",
        "colab": {
          "base_uri": "https://localhost:8080/"
        }
      },
      "source": [
        "for number in range(0, 10, 2):  # last one is step\n",
        "    print(number)"
      ],
      "execution_count": 9,
      "outputs": [
        {
          "output_type": "stream",
          "text": [
            "0\n",
            "2\n",
            "4\n",
            "6\n",
            "8\n"
          ],
          "name": "stdout"
        }
      ]
    },
    {
      "cell_type": "code",
      "metadata": {
        "id": "L4PxoJHI5U8P"
      },
      "source": [
        "Print from 0 to 8 and stop at 5"
      ],
      "execution_count": null,
      "outputs": []
    }
  ]
}