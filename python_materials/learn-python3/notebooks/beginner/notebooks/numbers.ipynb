{
  "nbformat": 4,
  "nbformat_minor": 0,
  "metadata": {
    "kernelspec": {
      "display_name": "Python 3",
      "language": "python",
      "name": "python3"
    },
    "language_info": {
      "codemirror_mode": {
        "name": "ipython",
        "version": 3
      },
      "file_extension": ".py",
      "mimetype": "text/x-python",
      "name": "python",
      "nbconvert_exporter": "python",
      "pygments_lexer": "ipython3",
      "version": "3.5.4"
    },
    "colab": {
      "name": "numbers.ipynb",
      "provenance": []
    }
  },
  "cells": [
    {
      "cell_type": "markdown",
      "metadata": {
        "id": "Um0IHw3OSbWq"
      },
      "source": [
        "# [Numbers](https://docs.python.org/3/library/stdtypes.html#numeric-types-int-float-complex)"
      ]
    },
    {
      "cell_type": "markdown",
      "metadata": {
        "id": "51veqhUISbWw"
      },
      "source": [
        "## `int`"
      ]
    },
    {
      "cell_type": "code",
      "metadata": {
        "scrolled": true,
        "id": "WYsueYm-SbWw"
      },
      "source": [
        "my_int = 6\n",
        "print('value: {}, type: {}'.format(my_int, type(my_int)))"
      ],
      "execution_count": null,
      "outputs": []
    },
    {
      "cell_type": "markdown",
      "metadata": {
        "id": "UFyz-mXqSbWx"
      },
      "source": [
        "## `float`"
      ]
    },
    {
      "cell_type": "code",
      "metadata": {
        "scrolled": true,
        "id": "gq46LI8ISbWx"
      },
      "source": [
        "my_float = float(my_int)\n",
        "print('value: {}, type: {}'.format(my_float, type(my_float)))"
      ],
      "execution_count": null,
      "outputs": []
    },
    {
      "cell_type": "markdown",
      "metadata": {
        "id": "jlrqfYaPSbWx"
      },
      "source": [
        "Note that division of `int`s produces `float`:"
      ]
    },
    {
      "cell_type": "code",
      "metadata": {
        "colab": {
          "base_uri": "https://localhost:8080/"
        },
        "id": "9blGGCgHSbWx",
        "outputId": "d19008a1-6973-48d1-9bf9-0f13c1980686"
      },
      "source": [
        "print(1 / 1)\n",
        "print(6 / 5)"
      ],
      "execution_count": 13,
      "outputs": [
        {
          "output_type": "stream",
          "text": [
            "1.0\n",
            "1.2\n"
          ],
          "name": "stdout"
        }
      ]
    },
    {
      "cell_type": "markdown",
      "metadata": {
        "id": "rS-Jl5QTSbWy"
      },
      "source": [
        "Be aware of the binary floating-point pitfalls (see [Decimal](#decimal) for workaround):"
      ]
    },
    {
      "cell_type": "code",
      "metadata": {
        "scrolled": true,
        "colab": {
          "base_uri": "https://localhost:8080/"
        },
        "id": "RY_TdHVxSbWy",
        "outputId": "1c86d274-e002-432b-9496-cafc1eba4d57"
      },
      "source": [
        "val = 0.1 + 0.1 + 0.1\n",
        "print(val == 0.3)\n",
        "print(val)"
      ],
      "execution_count": 14,
      "outputs": [
        {
          "output_type": "stream",
          "text": [
            "False\n",
            "0.30000000000000004\n"
          ],
          "name": "stdout"
        }
      ]
    },
    {
      "cell_type": "markdown",
      "metadata": {
        "id": "1nsKCpWYSbWy"
      },
      "source": [
        "## Floor division `//`, modulus `%`, power `**`"
      ]
    },
    {
      "cell_type": "code",
      "metadata": {
        "colab": {
          "base_uri": "https://localhost:8080/"
        },
        "id": "oWDmn1TLSbWy",
        "outputId": "ba735e11-32f9-4e40-e725-1210d687a335"
      },
      "source": [
        "7 // 5"
      ],
      "execution_count": 15,
      "outputs": [
        {
          "output_type": "execute_result",
          "data": {
            "text/plain": [
              "1"
            ]
          },
          "metadata": {
            "tags": []
          },
          "execution_count": 15
        }
      ]
    },
    {
      "cell_type": "code",
      "metadata": {
        "colab": {
          "base_uri": "https://localhost:8080/"
        },
        "id": "KVyQ_53bSbWz",
        "outputId": "3b628ff7-d0cf-43b4-ae7f-c5c4413399bd"
      },
      "source": [
        "7 % 5"
      ],
      "execution_count": 16,
      "outputs": [
        {
          "output_type": "execute_result",
          "data": {
            "text/plain": [
              "2"
            ]
          },
          "metadata": {
            "tags": []
          },
          "execution_count": 16
        }
      ]
    },
    {
      "cell_type": "code",
      "metadata": {
        "colab": {
          "base_uri": "https://localhost:8080/"
        },
        "id": "ZQBX7GvgSbWz",
        "outputId": "8c4a43fb-fab8-4dd2-f637-2397134448ca"
      },
      "source": [
        "2 ** 3"
      ],
      "execution_count": 17,
      "outputs": [
        {
          "output_type": "execute_result",
          "data": {
            "text/plain": [
              "8"
            ]
          },
          "metadata": {
            "tags": []
          },
          "execution_count": 17
        }
      ]
    },
    {
      "cell_type": "markdown",
      "metadata": {
        "id": "0vrxzjO8SbWz"
      },
      "source": [
        "<a id='decimal'></a>\n",
        "## [`decimal.Decimal`](https://docs.python.org/3/library/decimal.html)"
      ]
    },
    {
      "cell_type": "code",
      "metadata": {
        "scrolled": true,
        "id": "yGKPSb9mSbWz"
      },
      "source": [
        "from decimal import Decimal"
      ],
      "execution_count": 2,
      "outputs": []
    },
    {
      "cell_type": "code",
      "metadata": {
        "scrolled": true,
        "colab": {
          "base_uri": "https://localhost:8080/"
        },
        "id": "BuWY6qE6SbWz",
        "outputId": "3b44f7bb-8c1a-423a-f7a7-4a6286bff07e"
      },
      "source": [
        "from_float = Decimal(0.1)\n",
        "from_str = Decimal('0.1')\n",
        "print('from float: {}\\nfrom string: {}'.format(from_float, from_str))"
      ],
      "execution_count": 3,
      "outputs": [
        {
          "output_type": "stream",
          "text": [
            "from float: 0.1000000000000000055511151231257827021181583404541015625\n",
            "from string: 0.1\n"
          ],
          "name": "stdout"
        }
      ]
    },
    {
      "cell_type": "code",
      "metadata": {
        "colab": {
          "base_uri": "https://localhost:8080/"
        },
        "id": "c6TQhtppYUbW",
        "outputId": "368d8953-57ba-48f1-bc6e-27b266e9de1f"
      },
      "source": [
        "Decimal('10')\n",
        "Decimal(str(2**2))\n"
      ],
      "execution_count": 11,
      "outputs": [
        {
          "output_type": "execute_result",
          "data": {
            "text/plain": [
              "Decimal('4')"
            ]
          },
          "metadata": {
            "tags": []
          },
          "execution_count": 11
        }
      ]
    },
    {
      "cell_type": "code",
      "metadata": {
        "scrolled": true,
        "colab": {
          "base_uri": "https://localhost:8080/"
        },
        "id": "WDbgQm6OSbWz",
        "outputId": "0471c260-c743-4876-c03a-ea92abb4a2ef"
      },
      "source": [
        "my_decimal = Decimal('0.1')\n",
        "sum_of_decimals = my_decimal + my_decimal + my_decimal\n",
        "print(sum_of_decimals == Decimal('0.3'))"
      ],
      "execution_count": 4,
      "outputs": [
        {
          "output_type": "stream",
          "text": [
            "True\n"
          ],
          "name": "stdout"
        }
      ]
    },
    {
      "cell_type": "markdown",
      "metadata": {
        "id": "1x337HLMTCtl"
      },
      "source": [
        "Decimal module gives fast correctly-rounded decimal floating point arithmetic\n",
        "  +Binary floating point: 5.5511151231257827e-017.\n",
        "  +Decimal floating point: 0 \n",
        "=> Decimal is preferred, though they're close in value.\n",
        "\n",
        "A decimal number is immutable. Decimals also include special values such as Infinity, -Infinity, and NaN. The standard also differentiates -0 from +0. \n",
        "\n",
        "The context for arithmetic is an environment specifying precision, rounding rules, limits on exponents, flags, and trap enablers which determine whether signals are treated as exceptions. \n",
        "\n"
      ]
    },
    {
      "cell_type": "code",
      "metadata": {
        "colab": {
          "base_uri": "https://localhost:8080/"
        },
        "id": "n6YzZP6hXY_-",
        "outputId": "5c4a3502-2908-47e0-b0bb-eb8be8c70f8b"
      },
      "source": [
        "from decimal import *\n",
        "getcontext()"
      ],
      "execution_count": 5,
      "outputs": [
        {
          "output_type": "execute_result",
          "data": {
            "text/plain": [
              "Context(prec=28, rounding=ROUND_HALF_EVEN, Emin=-999999, Emax=999999, capitals=1, clamp=0, flags=[FloatOperation], traps=[InvalidOperation, DivisionByZero, Overflow])"
            ]
          },
          "metadata": {
            "tags": []
          },
          "execution_count": 5
        }
      ]
    },
    {
      "cell_type": "code",
      "metadata": {
        "colab": {
          "base_uri": "https://localhost:8080/"
        },
        "id": "1sBvBHyvXym3",
        "outputId": "d192c4f1-fd8e-46c5-ef01-7ff842522bec"
      },
      "source": [
        "getcontext().prec = 3 #set a new precision\n",
        "getcontext() "
      ],
      "execution_count": 6,
      "outputs": [
        {
          "output_type": "execute_result",
          "data": {
            "text/plain": [
              "Context(prec=3, rounding=ROUND_HALF_EVEN, Emin=-999999, Emax=999999, capitals=1, clamp=0, flags=[FloatOperation], traps=[InvalidOperation, DivisionByZero, Overflow])"
            ]
          },
          "metadata": {
            "tags": []
          },
          "execution_count": 6
        }
      ]
    },
    {
      "cell_type": "code",
      "metadata": {
        "id": "UcB2lATGYQTo"
      },
      "source": [
        ""
      ],
      "execution_count": null,
      "outputs": []
    },
    {
      "cell_type": "markdown",
      "metadata": {
        "id": "hnV8ZyL5aT-5"
      },
      "source": [
        "There are two ways to display numbers in floating point arithmetic: single precision and double precision. Single precision uses 32 bits, and double precision uses 64 bits for floating-point arithmetic.\n",
        "\n",
        "https://medium.com/better-programming/why-is-0-1-0-2-not-equal-to-0-3-in-most-programming-languages-99432310d476\n"
      ]
    },
    {
      "cell_type": "markdown",
      "metadata": {
        "id": "aFEo3p47SbW0"
      },
      "source": [
        "## Operator precedence in calculations\n",
        "Mathematical operator precedence applies. Use brackets if you want to change the execution order:"
      ]
    },
    {
      "cell_type": "code",
      "metadata": {
        "colab": {
          "base_uri": "https://localhost:8080/"
        },
        "id": "7Zfr9XkgSbW0",
        "outputId": "db321454-fadd-41f8-c88c-0b1ba3bbb0cc"
      },
      "source": [
        "print(1 + 2**2 * 3 / 6) # 1 + 4 * 3 / 6 == 1 + 12 / 6 == 1 + 2\n",
        "print((1 + 2**2) * 3 / 6)"
      ],
      "execution_count": 12,
      "outputs": [
        {
          "output_type": "stream",
          "text": [
            "3.0\n",
            "2.5\n"
          ],
          "name": "stdout"
        }
      ]
    }
  ]
}