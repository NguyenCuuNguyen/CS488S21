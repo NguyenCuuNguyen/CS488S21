{
  "nbformat": 4,
  "nbformat_minor": 0,
  "metadata": {
    "kernelspec": {
      "display_name": "Python 3",
      "language": "python",
      "name": "python3"
    },
    "language_info": {
      "codemirror_mode": {
        "name": "ipython",
        "version": 3
      },
      "file_extension": ".py",
      "mimetype": "text/x-python",
      "name": "python",
      "nbconvert_exporter": "python",
      "pygments_lexer": "ipython3",
      "version": "3.5.4"
    },
    "colab": {
      "name": "dictionaries.ipynb",
      "provenance": []
    }
  },
  "cells": [
    {
      "cell_type": "markdown",
      "metadata": {
        "id": "ZWwdTdebJ5Oc"
      },
      "source": [
        "# [Dictionaries](https://docs.python.org/3/library/stdtypes.html#dict) \n",
        "Collections of `key`-`value` pairs. "
      ]
    },
    {
      "cell_type": "code",
      "metadata": {
        "id": "weoKFdmoJ5Oi",
        "colab": {
          "base_uri": "https://localhost:8080/"
        },
        "outputId": "1fd6db7e-db13-44a0-a3fd-343234c08bce"
      },
      "source": [
        "my_empty_dict = {}  # alternative: my_empty_dict = dict()\n",
        "print('dict: {}, type: {}'.format(my_empty_dict, type(my_empty_dict)))"
      ],
      "execution_count": null,
      "outputs": [
        {
          "output_type": "stream",
          "text": [
            "dict: {}, type: <class 'dict'>\n"
          ],
          "name": "stdout"
        }
      ]
    },
    {
      "cell_type": "markdown",
      "metadata": {
        "id": "CxA-yiQ2J5Oj"
      },
      "source": [
        "## Initialization"
      ]
    },
    {
      "cell_type": "code",
      "metadata": {
        "id": "MsTEDucUJ5Oj",
        "colab": {
          "base_uri": "https://localhost:8080/"
        },
        "outputId": "c61ebe6f-c6a0-4a50-a02f-f39e73c35dcb"
      },
      "source": [
        "dict1 = {'value1': 1.6, 'value2': 10, 'name': 'John Doe'}\n",
        "dict2 = dict(value1=1.6, value2=10, name='John Doe')\n",
        "\n",
        "print(dict1)\n",
        "print(dict2)\n",
        "\n",
        "print('equal: {}'.format(dict1 == dict2))\n",
        "print('length: {}'.format(len(dict1)))"
      ],
      "execution_count": null,
      "outputs": [
        {
          "output_type": "stream",
          "text": [
            "{'value1': 1.6, 'value2': 10, 'name': 'John Doe'}\n",
            "{'value1': 1.6, 'value2': 10, 'name': 'John Doe'}\n",
            "equal: True\n",
            "length: 3\n"
          ],
          "name": "stdout"
        }
      ]
    },
    {
      "cell_type": "markdown",
      "metadata": {
        "id": "SHSLOSLtJ5Ok"
      },
      "source": [
        "## `dict.keys(), dict.values(), dict.items()`"
      ]
    },
    {
      "cell_type": "code",
      "metadata": {
        "id": "TiwY9j8IJ5Ok",
        "colab": {
          "base_uri": "https://localhost:8080/"
        },
        "outputId": "441f6020-e728-4b39-9e5f-5614a4087e91"
      },
      "source": [
        "print('keys: {}'.format(dict1.keys()))\n",
        "print('values: {}'.format(dict1.values()))\n",
        "print('items: {}'.format(dict1.items()))"
      ],
      "execution_count": null,
      "outputs": [
        {
          "output_type": "stream",
          "text": [
            "keys: dict_keys(['value1', 'value2', 'name'])\n",
            "values: dict_values([1.6, 10, 'John Doe'])\n",
            "items: dict_items([('value1', 1.6), ('value2', 10), ('name', 'John Doe')])\n"
          ],
          "name": "stdout"
        }
      ]
    },
    {
      "cell_type": "markdown",
      "metadata": {
        "id": "r-NOIhsFJ5Ok"
      },
      "source": [
        "## Accessing and setting values"
      ]
    },
    {
      "cell_type": "code",
      "metadata": {
        "id": "aCspLVLPJ5Ol",
        "colab": {
          "base_uri": "https://localhost:8080/"
        },
        "outputId": "da3300fc-b807-4b29-d09c-3844c2b0b438"
      },
      "source": [
        "my_dict = {}\n",
        "my_dict['key1'] = 'value1'\n",
        "my_dict['key2'] = 99\n",
        "my_dict['key1'] = 'new value'  # overriding existing value\n",
        "print(my_dict)\n",
        "print('value of key1: {}'.format(my_dict['key1']))"
      ],
      "execution_count": null,
      "outputs": [
        {
          "output_type": "stream",
          "text": [
            "{'key1': 'new value', 'key2': 99}\n",
            "value of key1: new value\n"
          ],
          "name": "stdout"
        }
      ]
    },
    {
      "cell_type": "markdown",
      "metadata": {
        "id": "X4VKDD3jJ5Ol"
      },
      "source": [
        "Accessing a nonexistent key will raise `KeyError` (see [`dict.get()`](#dict_get) for workaround):"
      ]
    },
    {
      "cell_type": "code",
      "metadata": {
        "id": "-Zq3TTDSJ5Ol",
        "colab": {
          "base_uri": "https://localhost:8080/",
          "height": 164
        },
        "outputId": "efb29b38-48e3-4c19-eabf-ea1881b9ca4f"
      },
      "source": [
        "print(my_dict['nope'])"
      ],
      "execution_count": null,
      "outputs": [
        {
          "output_type": "error",
          "ename": "KeyError",
          "evalue": "ignored",
          "traceback": [
            "\u001b[0;31m---------------------------------------------------------------------------\u001b[0m",
            "\u001b[0;31mKeyError\u001b[0m                                  Traceback (most recent call last)",
            "\u001b[0;32m<ipython-input-7-a82b18c4a651>\u001b[0m in \u001b[0;36m<module>\u001b[0;34m()\u001b[0m\n\u001b[0;32m----> 1\u001b[0;31m \u001b[0mprint\u001b[0m\u001b[0;34m(\u001b[0m\u001b[0mmy_dict\u001b[0m\u001b[0;34m[\u001b[0m\u001b[0;34m'nope'\u001b[0m\u001b[0;34m]\u001b[0m\u001b[0;34m)\u001b[0m\u001b[0;34m\u001b[0m\u001b[0;34m\u001b[0m\u001b[0m\n\u001b[0m",
            "\u001b[0;31mKeyError\u001b[0m: 'nope'"
          ]
        }
      ]
    },
    {
      "cell_type": "markdown",
      "metadata": {
        "id": "EQ7kigPEJ5Om"
      },
      "source": [
        "## Deleting"
      ]
    },
    {
      "cell_type": "code",
      "metadata": {
        "id": "W9R8We7VJ5Om",
        "colab": {
          "base_uri": "https://localhost:8080/"
        },
        "outputId": "1715a49d-eddd-4768-86ae-c766f825b6c9"
      },
      "source": [
        "my_dict = {'key1': 'value1', 'key2': 99, 'keyX': 'valueX'}\n",
        "del my_dict['keyX']\n",
        "print(my_dict)\n",
        "\n",
        "# Usually better to make sure that the key exists (see also pop() and popitem())\n",
        "key_to_delete = 'my_key'\n",
        "if key_to_delete in my_dict:\n",
        "    del my_dict[key_to_delete]\n",
        "else:\n",
        "    print('{key} is not in {dictionary}'.format(key=key_to_delete, dictionary=my_dict))"
      ],
      "execution_count": null,
      "outputs": [
        {
          "output_type": "stream",
          "text": [
            "{'key1': 'value1', 'key2': 99}\n",
            "my_key is not in {'key1': 'value1', 'key2': 99}\n"
          ],
          "name": "stdout"
        }
      ]
    },
    {
      "cell_type": "markdown",
      "metadata": {
        "id": "KEWT6kqdJ5Om"
      },
      "source": [
        "## Dictionaries are mutable"
      ]
    },
    {
      "cell_type": "code",
      "metadata": {
        "id": "mNkEvXnoJ5Om",
        "colab": {
          "base_uri": "https://localhost:8080/"
        },
        "outputId": "5948d26d-bc28-4111-e272-1e17e2a8fc48"
      },
      "source": [
        "my_dict = {'ham': 'good', 'carrot': 'semi good'}\n",
        "my_other_dict = my_dict\n",
        "my_other_dict['carrot'] = 'super tasty'\n",
        "my_other_dict['sausage'] = 'best ever'\n",
        "print('my_dict: {}\\nother: {}'.format(my_dict, my_other_dict))\n",
        "print('equal: {}'.format(my_dict == my_other_dict))"
      ],
      "execution_count": null,
      "outputs": [
        {
          "output_type": "stream",
          "text": [
            "my_dict: {'ham': 'good', 'carrot': 'super tasty', 'sausage': 'best ever'}\n",
            "other: {'ham': 'good', 'carrot': 'super tasty', 'sausage': 'best ever'}\n",
            "equal: True\n"
          ],
          "name": "stdout"
        }
      ]
    },
    {
      "cell_type": "markdown",
      "metadata": {
        "id": "oyglWJBSJ5On"
      },
      "source": [
        "Create a new `dict` if you want to have a copy:"
      ]
    },
    {
      "cell_type": "code",
      "metadata": {
        "id": "EO8Oy8GMJ5On",
        "colab": {
          "base_uri": "https://localhost:8080/"
        },
        "outputId": "194b9ba4-41cb-428e-ddf3-2a58ef16b96a"
      },
      "source": [
        "my_dict = {'ham': 'good', 'carrot': 'semi good'}\n",
        "my_other_dict = dict(my_dict) #Createe a copy of old list\n",
        "my_other_dict['beer'] = 'decent'\n",
        "print('my_dict: {}\\nother: {}'.format(my_dict, my_other_dict))\n",
        "print('equal: {}'.format(my_dict == my_other_dict))"
      ],
      "execution_count": null,
      "outputs": [
        {
          "output_type": "stream",
          "text": [
            "my_dict: {'ham': 'good', 'carrot': 'semi good'}\n",
            "other: {'ham': 'good', 'carrot': 'semi good', 'beer': 'decent'}\n",
            "equal: False\n"
          ],
          "name": "stdout"
        }
      ]
    },
    {
      "cell_type": "markdown",
      "metadata": {
        "id": "2fCtC_x7J5On"
      },
      "source": [
        "<a id='dict_get'></a>\n",
        "## `dict.get()`\n",
        "Returns `None` if `key` is not in `dict`. However, you can also specify `default` return value which will be returned if `key` is not present in the `dict`. "
      ]
    },
    {
      "cell_type": "code",
      "metadata": {
        "id": "MA0kGVxWJ5On",
        "colab": {
          "base_uri": "https://localhost:8080/"
        },
        "outputId": "1f5a2932-bb5a-4367-fcc4-1290d0b0bff2"
      },
      "source": [
        "my_dict = {'a': 1, 'b': 2, 'c': 3}\n",
        "d = my_dict.get('d')\n",
        "print('d: {}'.format(d)) #The format() method formats the specified value(s) and insert them inside the string's placeholder.\n",
        "\n",
        "d = my_dict.get('d', 'my default value')\n",
        "print('d: {}'.format(d))"
      ],
      "execution_count": null,
      "outputs": [
        {
          "output_type": "stream",
          "text": [
            "d: None\n",
            "d: my default value\n"
          ],
          "name": "stdout"
        }
      ]
    },
    {
      "cell_type": "markdown",
      "metadata": {
        "id": "07n_tu1nJ5Oo"
      },
      "source": [
        "## `dict.pop()`"
      ]
    },
    {
      "cell_type": "code",
      "metadata": {
        "id": "bULdAULjJ5Oo",
        "colab": {
          "base_uri": "https://localhost:8080/"
        },
        "outputId": "d01353ca-6ebf-444d-df06-c6e7af057112"
      },
      "source": [
        "my_dict = dict(food='ham', drink='beer', sport='football')\n",
        "print('dict before pops: {}'.format(my_dict))\n",
        "\n",
        "food = my_dict.pop('food')\n",
        "print('food: {}'.format(food))\n",
        "print('dict after popping food: {}'.format(my_dict))\n",
        "\n",
        "food_again = my_dict.pop('food', 'default value for food')\n",
        "  d = my_dict.get('food')\n",
        "  print(d)\n",
        "print('food again: {}'.format(food_again))\n",
        "  d = my_dict.get('food')\n",
        "  print(d)\n",
        "print('dict after popping food again: {}'.format(my_dict))\n"
      ],
      "execution_count": null,
      "outputs": [
        {
          "output_type": "stream",
          "text": [
            "dict before pops: {'food': 'ham', 'drink': 'beer', 'sport': 'football'}\n",
            "food: ham\n",
            "dict after popping food: {'drink': 'beer', 'sport': 'football'}\n",
            "None\n",
            "food again: default value for food\n",
            "None\n",
            "dict after popping food again: {'drink': 'beer', 'sport': 'football'}\n"
          ],
          "name": "stdout"
        }
      ]
    },
    {
      "cell_type": "markdown",
      "metadata": {
        "id": "zuGs79aOM3Mn"
      },
      "source": [
        "The pop() method removes the item at the given index from the list and returns the removed item. "
      ]
    },
    {
      "cell_type": "markdown",
      "metadata": {
        "id": "2dlQ4uv9J5Oo"
      },
      "source": [
        "## `dict.setdefault()`\n",
        "Returns the `value` of `key` defined as first parameter. If the `key` is not present in the dict, adds `key` with default value (second parameter)."
      ]
    },
    {
      "cell_type": "code",
      "metadata": {
        "id": "_dHBGeflJ5Op",
        "colab": {
          "base_uri": "https://localhost:8080/"
        },
        "outputId": "16e07b47-5cd9-4380-8a7e-d280122331be"
      },
      "source": [
        "my_dict = {'a': 1, 'b': 2, 'c': 3}\n",
        "a = my_dict.setdefault('a', 'my default value')\n",
        "d = my_dict.setdefault('d', 'my default value')\n",
        "print('a: {}\\nd: {}\\nmy_dict: {}'.format(a, d, my_dict))"
      ],
      "execution_count": null,
      "outputs": [
        {
          "output_type": "stream",
          "text": [
            "a: 1\n",
            "d: my default value\n",
            "my_dict: {'a': 1, 'b': 2, 'c': 3, 'd': 'my default value'}\n"
          ],
          "name": "stdout"
        }
      ]
    },
    {
      "cell_type": "markdown",
      "metadata": {
        "id": "cZJYGZ2xJ5Op"
      },
      "source": [
        "## `dict.update()`\n",
        "Merge two `dict`s"
      ]
    },
    {
      "cell_type": "code",
      "metadata": {
        "id": "g7LQCsA-J5Op",
        "colab": {
          "base_uri": "https://localhost:8080/"
        },
        "outputId": "2d7e1190-89fc-48d4-bc2f-5a36bae72547"
      },
      "source": [
        "dict1 = {'a': 1, 'b': 2}\n",
        "dict2 = {'c': 3}\n",
        "dict1.update(dict2)\n",
        "print(dict1)\n",
        "    #dict3 = dict1 + dict2 does not work\n",
        "\n",
        "# If they have same keys:\n",
        "dict1.update({'c': 4})\n",
        "print(dict1)\n",
        "print(dict2)"
      ],
      "execution_count": null,
      "outputs": [
        {
          "output_type": "stream",
          "text": [
            "{'a': 1, 'b': 2, 'c': 3}\n",
            "{'a': 1, 'b': 2, 'c': 4}\n",
            "{'c': 3}\n"
          ],
          "name": "stdout"
        }
      ]
    },
    {
      "cell_type": "markdown",
      "metadata": {
        "id": "zrozz7kBJ5Op"
      },
      "source": [
        "## The keys of a `dict` have to be immutable"
      ]
    },
    {
      "cell_type": "markdown",
      "metadata": {
        "id": "p8MIiG46J5Oq"
      },
      "source": [
        "Thus you can not use e.g. a `list` or a `dict` as key because they are mutable types\n",
        ":"
      ]
    },
    {
      "cell_type": "code",
      "metadata": {
        "id": "m3P1_gRIJ5Oq",
        "colab": {
          "base_uri": "https://localhost:8080/",
          "height": 164
        },
        "outputId": "0dd0f1c4-8ed1-4314-f02b-7265dcf93cb8"
      },
      "source": [
        "bad_dict = {['my_list'], 'value'}  # Raises TypeError"
      ],
      "execution_count": null,
      "outputs": [
        {
          "output_type": "error",
          "ename": "TypeError",
          "evalue": "ignored",
          "traceback": [
            "\u001b[0;31m---------------------------------------------------------------------------\u001b[0m",
            "\u001b[0;31mTypeError\u001b[0m                                 Traceback (most recent call last)",
            "\u001b[0;32m<ipython-input-28-a3d6b5ab5071>\u001b[0m in \u001b[0;36m<module>\u001b[0;34m()\u001b[0m\n\u001b[0;32m----> 1\u001b[0;31m \u001b[0mbad_dict\u001b[0m \u001b[0;34m=\u001b[0m \u001b[0;34m{\u001b[0m\u001b[0;34m[\u001b[0m\u001b[0;34m'my_list'\u001b[0m\u001b[0;34m]\u001b[0m\u001b[0;34m,\u001b[0m \u001b[0;34m'value'\u001b[0m\u001b[0;34m}\u001b[0m  \u001b[0;31m# Raises TypeError\u001b[0m\u001b[0;34m\u001b[0m\u001b[0;34m\u001b[0m\u001b[0m\n\u001b[0m",
            "\u001b[0;31mTypeError\u001b[0m: unhashable type: 'list'"
          ]
        }
      ]
    },
    {
      "cell_type": "markdown",
      "metadata": {
        "id": "gfkfmb00J5Oq"
      },
      "source": [
        "Values can be mutable"
      ]
    },
    {
      "cell_type": "code",
      "metadata": {
        "id": "-L2y8v6JJ5Oq",
        "colab": {
          "base_uri": "https://localhost:8080/"
        },
        "outputId": "bbc5aa28-2f2e-4f0a-b248-b87a66065a16"
      },
      "source": [
        "good_dict = {'my key': ['Python', 'is', 'still', 'cool']}\n",
        "print(good_dict)"
      ],
      "execution_count": null,
      "outputs": [
        {
          "output_type": "stream",
          "text": [
            "{'my key': ['Python', 'is', 'still', 'cool']}\n"
          ],
          "name": "stdout"
        }
      ]
    }
  ]
}