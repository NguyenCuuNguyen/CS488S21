{
  "nbformat": 4,
  "nbformat_minor": 0,
  "metadata": {
    "kernelspec": {
      "display_name": "Python 3",
      "language": "python",
      "name": "python3"
    },
    "language_info": {
      "codemirror_mode": {
        "name": "ipython",
        "version": 3
      },
      "file_extension": ".py",
      "mimetype": "text/x-python",
      "name": "python",
      "nbconvert_exporter": "python",
      "pygments_lexer": "ipython3",
      "version": "3.5.4"
    },
    "colab": {
      "name": "testing1.ipynb",
      "provenance": []
    }
  },
  "cells": [
    {
      "cell_type": "markdown",
      "metadata": {
        "id": "QNo3kg8n17P-"
      },
      "source": [
        "# Testing with [pytest](https://docs.pytest.org/en/latest/) - part 1"
      ]
    },
    {
      "cell_type": "markdown",
      "metadata": {
        "id": "ORANPobp17QD"
      },
      "source": [
        "## Why to write tests?\n",
        "* Who wants to perform manual testing?\n",
        "* When you fix a bug or add a new feature, tests are a way to verify that you did not break anything on the way\n",
        "* If you have clear requirements, you can have matching test(s) for each requirement\n",
        "* You don't have to be afraid of refactoring\n",
        "* Tests document your implementation - they show other people use cases of your implementation\n",
        "* This list is endless..."
      ]
    },
    {
      "cell_type": "markdown",
      "metadata": {
        "id": "WIRuPHIN17QE"
      },
      "source": [
        "## [Test-driven development](https://en.wikipedia.org/wiki/Test-driven_development) aka TDD\n",
        "In short, the basic idea of TDD is to write tests before writing the actual implementation. Maybe the most significant benefit of the approach is that the developer focuses on writing tests which match with what the program should do. Whereas if the tests are written after the actual implementation, there is a high risk for rushing tests which just show green light for the already written logic.\n",
        "\n",
        "Tests are first class citizens in modern, agile software development, which is why it's important to start thinking TDD early during your Python learning path. \n",
        "\n",
        "The workflow of TDD can be summarized as follows:\n",
        "1. Add a test case(s) for the change / feature / bug fix you are going to implement\n",
        "2. Run all tests and check that the new one fails\n",
        "3. Implement required changes\n",
        "4. Run tests and verify that all pass\n",
        "5. Refactor"
      ]
    },
    {
      "cell_type": "markdown",
      "metadata": {
        "id": "rdoSmeaa17QE"
      },
      "source": [
        "### Running pytest inside notebooks\n",
        "These are the steps required to run pytest inside Jupyter cells. You can copy the content of this cell to the top of your notebook which contains tests."
      ]
    },
    {
      "cell_type": "code",
      "metadata": {
        "id": "WoEisKnu17QE",
        "outputId": "d5fbad04-6835-45bc-f9b1-95485835164c",
        "colab": {
          "base_uri": "https://localhost:8080/"
        }
      },
      "source": [
        "# Let's make sure pytest and ipytest packages are installed\n",
        "# ipytest is required for running pytest inside Jupyter notebooks\n",
        "import sys\n",
        "!{sys.executable} -m pip install pytest\n",
        "!{sys.executable} -m pip install ipytest\n",
        "\n",
        "\n",
        "import ipytest\n",
        "import pytest\n",
        "ipytest.autoconfig()\n",
        "\n",
        "# Filename has to be set explicitly for ipytest \n",
        "__file__ = 'testing1.ipynb'"
      ],
      "execution_count": 10,
      "outputs": [
        {
          "output_type": "stream",
          "text": [
            "Requirement already satisfied: pytest in /usr/local/lib/python3.6/dist-packages (3.6.4)\n",
            "Requirement already satisfied: pluggy<0.8,>=0.5 in /usr/local/lib/python3.6/dist-packages (from pytest) (0.7.1)\n",
            "Requirement already satisfied: setuptools in /usr/local/lib/python3.6/dist-packages (from pytest) (53.0.0)\n",
            "Requirement already satisfied: attrs>=17.4.0 in /usr/local/lib/python3.6/dist-packages (from pytest) (20.3.0)\n",
            "Requirement already satisfied: py>=1.5.0 in /usr/local/lib/python3.6/dist-packages (from pytest) (1.10.0)\n",
            "Requirement already satisfied: atomicwrites>=1.0 in /usr/local/lib/python3.6/dist-packages (from pytest) (1.4.0)\n",
            "Requirement already satisfied: more-itertools>=4.0.0 in /usr/local/lib/python3.6/dist-packages (from pytest) (8.7.0)\n",
            "Requirement already satisfied: six>=1.10.0 in /usr/local/lib/python3.6/dist-packages (from pytest) (1.15.0)\n",
            "Collecting ipytest\n",
            "  Downloading https://files.pythonhosted.org/packages/a9/d6/1797c114d57ec1c93b8078d81bd09b9f82d5f3a989c11fd1c575ff2846e7/ipytest-0.9.1-py3-none-any.whl\n",
            "Collecting pytest>=5.4\n",
            "\u001b[?25l  Downloading https://files.pythonhosted.org/packages/a1/cf/7f67585bd2fc0359ec482cf3c430bce3ef6d3f40bc468137225a733e3069/pytest-6.2.2-py3-none-any.whl (280kB)\n",
            "\u001b[K     |████████████████████████████████| 286kB 5.6MB/s \n",
            "\u001b[?25hRequirement already satisfied: packaging in /usr/local/lib/python3.6/dist-packages (from ipytest) (20.9)\n",
            "Requirement already satisfied: ipython in /usr/local/lib/python3.6/dist-packages (from ipytest) (5.5.0)\n",
            "Requirement already satisfied: importlib-metadata>=0.12; python_version < \"3.8\" in /usr/local/lib/python3.6/dist-packages (from pytest>=5.4->ipytest) (3.4.0)\n",
            "Requirement already satisfied: py>=1.8.2 in /usr/local/lib/python3.6/dist-packages (from pytest>=5.4->ipytest) (1.10.0)\n",
            "Requirement already satisfied: attrs>=19.2.0 in /usr/local/lib/python3.6/dist-packages (from pytest>=5.4->ipytest) (20.3.0)\n",
            "Requirement already satisfied: toml in /usr/local/lib/python3.6/dist-packages (from pytest>=5.4->ipytest) (0.10.2)\n",
            "Requirement already satisfied: iniconfig in /usr/local/lib/python3.6/dist-packages (from pytest>=5.4->ipytest) (1.1.1)\n",
            "Collecting pluggy<1.0.0a1,>=0.12\n",
            "  Downloading https://files.pythonhosted.org/packages/a0/28/85c7aa31b80d150b772fbe4a229487bc6644da9ccb7e427dd8cc60cb8a62/pluggy-0.13.1-py2.py3-none-any.whl\n",
            "Requirement already satisfied: pyparsing>=2.0.2 in /usr/local/lib/python3.6/dist-packages (from packaging->ipytest) (2.4.7)\n",
            "Requirement already satisfied: pygments in /usr/local/lib/python3.6/dist-packages (from ipython->ipytest) (2.6.1)\n",
            "Requirement already satisfied: decorator in /usr/local/lib/python3.6/dist-packages (from ipython->ipytest) (4.4.2)\n",
            "Requirement already satisfied: pickleshare in /usr/local/lib/python3.6/dist-packages (from ipython->ipytest) (0.7.5)\n",
            "Requirement already satisfied: simplegeneric>0.8 in /usr/local/lib/python3.6/dist-packages (from ipython->ipytest) (0.8.1)\n",
            "Requirement already satisfied: setuptools>=18.5 in /usr/local/lib/python3.6/dist-packages (from ipython->ipytest) (53.0.0)\n",
            "Requirement already satisfied: prompt-toolkit<2.0.0,>=1.0.4 in /usr/local/lib/python3.6/dist-packages (from ipython->ipytest) (1.0.18)\n",
            "Requirement already satisfied: pexpect; sys_platform != \"win32\" in /usr/local/lib/python3.6/dist-packages (from ipython->ipytest) (4.8.0)\n",
            "Requirement already satisfied: traitlets>=4.2 in /usr/local/lib/python3.6/dist-packages (from ipython->ipytest) (4.3.3)\n",
            "Requirement already satisfied: typing-extensions>=3.6.4; python_version < \"3.8\" in /usr/local/lib/python3.6/dist-packages (from importlib-metadata>=0.12; python_version < \"3.8\"->pytest>=5.4->ipytest) (3.7.4.3)\n",
            "Requirement already satisfied: zipp>=0.5 in /usr/local/lib/python3.6/dist-packages (from importlib-metadata>=0.12; python_version < \"3.8\"->pytest>=5.4->ipytest) (3.4.0)\n",
            "Requirement already satisfied: wcwidth in /usr/local/lib/python3.6/dist-packages (from prompt-toolkit<2.0.0,>=1.0.4->ipython->ipytest) (0.2.5)\n",
            "Requirement already satisfied: six>=1.9.0 in /usr/local/lib/python3.6/dist-packages (from prompt-toolkit<2.0.0,>=1.0.4->ipython->ipytest) (1.15.0)\n",
            "Requirement already satisfied: ptyprocess>=0.5 in /usr/local/lib/python3.6/dist-packages (from pexpect; sys_platform != \"win32\"->ipython->ipytest) (0.7.0)\n",
            "Requirement already satisfied: ipython-genutils in /usr/local/lib/python3.6/dist-packages (from traitlets>=4.2->ipython->ipytest) (0.2.0)\n",
            "\u001b[31mERROR: datascience 0.10.6 has requirement folium==0.2.1, but you'll have folium 0.8.3 which is incompatible.\u001b[0m\n",
            "Installing collected packages: pluggy, pytest, ipytest\n",
            "  Found existing installation: pluggy 0.7.1\n",
            "    Uninstalling pluggy-0.7.1:\n",
            "      Successfully uninstalled pluggy-0.7.1\n",
            "  Found existing installation: pytest 3.6.4\n",
            "    Uninstalling pytest-3.6.4:\n",
            "      Successfully uninstalled pytest-3.6.4\n",
            "Successfully installed ipytest-0.9.1 pluggy-0.13.1 pytest-6.2.2\n"
          ],
          "name": "stdout"
        }
      ]
    },
    {
      "cell_type": "markdown",
      "metadata": {
        "id": "K0Rp2Hrm17QF"
      },
      "source": [
        "## `pytest` test cases\n",
        "Let's consider we have a function called `sum_of_three_numbers` for which we want to write a test."
      ]
    },
    {
      "cell_type": "code",
      "metadata": {
        "id": "F-b6_7cr17QF"
      },
      "source": [
        "# This would be in your e.g. implementation.py\n",
        "def sum_of_three_numbers(num1, num2, num3):\n",
        "    return num1 + num2 + num3"
      ],
      "execution_count": 4,
      "outputs": []
    },
    {
      "cell_type": "markdown",
      "metadata": {
        "id": "LYBPUrYG17QF"
      },
      "source": [
        "Pytest test cases are actually quite similar as you have already seen in the exercises. Most of the exercises are structured like pytest test cases by dividing each exercise into three cells:\n",
        "1. Setup the variables used in the test\n",
        "2. Your implementation\n",
        "3. Verify that your implementation does what is wanted by using assertions\n",
        "\n",
        "See the example test case below to see the similarities between the exercises and common structure of test cases."
      ]
    },
    {
      "cell_type": "code",
      "metadata": {
        "id": "YDR9NO0D17QG",
        "outputId": "6c7abf75-2f54-49de-b22a-5257f7936908",
        "colab": {
          "base_uri": "https://localhost:8080/"
        }
      },
      "source": [
        "\n",
        "%%run_pytest[clean]\n",
        "\n",
        "# Mention this at the top of cells which contain test(s)\n",
        "# This is only required for running pytest in Jupyter notebooks\n",
        "\n",
        "\n",
        "# This would be in your test_implementation.py\n",
        "def test_sum_of_three_numbers():\n",
        "    # 1. Setup the variables used in the test\n",
        "    num1 = 2\n",
        "    num2 = 3\n",
        "    num3 = 5\n",
        "    \n",
        "    # 2. Call the functionality you want to test\n",
        "    result = sum_of_three_numbers(num1, num2, num3)\n",
        "    \n",
        "    # 3. Verify that the outcome is expected\n",
        "    assert result ==5"
      ],
      "execution_count": 12,
      "outputs": [
        {
          "output_type": "stream",
          "text": [
            "/usr/local/lib/python3.6/dist-packages/ipytest/_pytest_support.py:111: UserWarning: The configured filename could not be found\n",
            "Consider\n",
            "\n",
            "* removing the explicit filename and using tempfile_fallback=True, or\n",
            "* correcting the filename\n",
            "  \"The configured filename could not be found\\n\"\n"
          ],
          "name": "stderr"
        },
        {
          "output_type": "stream",
          "text": [
            "F                                                                        [100%]\n",
            "=================================== FAILURES ===================================\n",
            "__________________________ test_sum_of_three_numbers ___________________________\n",
            "\n",
            "    def test_sum_of_three_numbers():\n",
            "        # 1. Setup the variables used in the test\n",
            "        num1 = 2\n",
            "        num2 = 3\n",
            "        num3 = 5\n",
            "    \n",
            "        # 2. Call the functionality you want to test\n",
            "        result = sum_of_three_numbers(num1, num2, num3)\n",
            "    \n",
            "        # 3. Verify that the outcome is expected\n",
            ">       assert result ==5\n",
            "E       assert 10 == 5\n",
            "\n",
            "<ipython-input-12-90ef42c14257>:17: AssertionError\n",
            "=========================== short test summary info ============================\n",
            "FAILED tmp2mr5e7k8.py::test_sum_of_three_numbers - assert 10 == 5\n",
            "1 failed in 0.06s\n"
          ],
          "name": "stdout"
        }
      ]
    },
    {
      "cell_type": "markdown",
      "metadata": {
        "id": "qY7wDXxg17QG"
      },
      "source": [
        "Now go ahead and change the line `assert result == 10` such that the assertion fails to see the output of a failed test."
      ]
    },
    {
      "cell_type": "markdown",
      "metadata": {
        "id": "ONoSPPf1Z_NE"
      },
      "source": [
        "FAILED tmp2mr5e7k8.py::test_sum_of_three_numbers - assert 10 == 5\n",
        "1 failed in 0.06s\n",
        "\n"
      ]
    }
  ]
}