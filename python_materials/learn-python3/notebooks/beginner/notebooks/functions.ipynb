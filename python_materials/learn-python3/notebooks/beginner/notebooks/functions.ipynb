{
  "nbformat": 4,
  "nbformat_minor": 0,
  "metadata": {
    "kernelspec": {
      "display_name": "Python 3",
      "language": "python",
      "name": "python3"
    },
    "language_info": {
      "codemirror_mode": {
        "name": "ipython",
        "version": 3
      },
      "file_extension": ".py",
      "mimetype": "text/x-python",
      "name": "python",
      "nbconvert_exporter": "python",
      "pygments_lexer": "ipython3",
      "version": "3.5.4"
    },
    "colab": {
      "name": "functions.ipynb",
      "provenance": []
    }
  },
  "cells": [
    {
      "cell_type": "markdown",
      "metadata": {
        "id": "RmhrrdCMAW8F"
      },
      "source": [
        "# Functions"
      ]
    },
    {
      "cell_type": "code",
      "metadata": {
        "colab": {
          "base_uri": "https://localhost:8080/"
        },
        "id": "NBuYo7GdAW8L",
        "outputId": "c7eea799-6b86-4f9a-8ca0-e6f1166ac76e"
      },
      "source": [
        "def my_first_function():\n",
        "    print('Hello world!')\n",
        "\n",
        "print('type: {}'.format(my_first_function))\n",
        "\n",
        "my_first_function()  # Calling a function"
      ],
      "execution_count": 1,
      "outputs": [
        {
          "output_type": "stream",
          "text": [
            "type: <function my_first_function at 0x7f9244a47158>\n",
            "Hello world!\n"
          ],
          "name": "stdout"
        }
      ]
    },
    {
      "cell_type": "code",
      "metadata": {
        "colab": {
          "base_uri": "https://localhost:8080/",
          "height": 35
        },
        "id": "w-51qyzUWhv7",
        "outputId": "684bc706-4ddc-433d-b685-7ad0836f54f3"
      },
      "source": [
        "\"hello {name}\".format(name=\"Brian\") #The format() method formats the specified value(s) and insert them inside the string's placeholder."
      ],
      "execution_count": 3,
      "outputs": [
        {
          "output_type": "execute_result",
          "data": {
            "application/vnd.google.colaboratory.intrinsic+json": {
              "type": "string"
            },
            "text/plain": [
              "'hello Brian'"
            ]
          },
          "metadata": {
            "tags": []
          },
          "execution_count": 3
        }
      ]
    },
    {
      "cell_type": "markdown",
      "metadata": {
        "id": "gC_CpWpwAW8L"
      },
      "source": [
        "### Arguments"
      ]
    },
    {
      "cell_type": "code",
      "metadata": {
        "colab": {
          "base_uri": "https://localhost:8080/"
        },
        "id": "T6yq5OjyAW8M",
        "outputId": "c3602b96-e3d9-4401-c0b0-7e81a0269e4e"
      },
      "source": [
        "def greet_us(name1, name2):\n",
        "    print('Hello {} and {}!'.format(name1, name2))\n",
        "\n",
        "greet_us('John Doe', 'Superman')"
      ],
      "execution_count": 2,
      "outputs": [
        {
          "output_type": "stream",
          "text": [
            "Hello John Doe and Superman!\n"
          ],
          "name": "stdout"
        }
      ]
    },
    {
      "cell_type": "code",
      "metadata": {
        "colab": {
          "base_uri": "https://localhost:8080/"
        },
        "id": "7OBa0MyvAW8M",
        "outputId": "c86be647-9fd2-4dee-f84f-ee6e10e8144b"
      },
      "source": [
        "# Function with return value\n",
        "def strip_and_lowercase(original):\n",
        "    modified = original.strip().lower()\n",
        "    return modified\n",
        "\n",
        "uggly_string = '  MixED CaSe '\n",
        "pretty = strip_and_lowercase(uggly_string)\n",
        "print('pretty: {}'.format(pretty))"
      ],
      "execution_count": 4,
      "outputs": [
        {
          "output_type": "stream",
          "text": [
            "pretty: mixed case\n"
          ],
          "name": "stdout"
        }
      ]
    },
    {
      "cell_type": "markdown",
      "metadata": {
        "id": "fLJzSjzYAW8M"
      },
      "source": [
        "### Keyword arguments"
      ]
    },
    {
      "cell_type": "code",
      "metadata": {
        "colab": {
          "base_uri": "https://localhost:8080/"
        },
        "id": "18p5vudhAW8M",
        "outputId": "94ea04e6-ac65-40c1-d2d9-43d7a783ba40"
      },
      "source": [
        "def my_fancy_calculation(first, second, third):\n",
        "    return first + second - third \n",
        "\n",
        "print(my_fancy_calculation(3, 2, 1))\n",
        "\n",
        "print(my_fancy_calculation(first=3, second=2, third=1))\n",
        "\n",
        "# With keyword arguments you can mix the order\n",
        "print(my_fancy_calculation(third=1, first=3, second=2))\n",
        "\n",
        "# You can mix arguments and keyword arguments but you have to start with arguments\n",
        "print(my_fancy_calculation(3, third=1, second=2))  "
      ],
      "execution_count": 5,
      "outputs": [
        {
          "output_type": "stream",
          "text": [
            "4\n",
            "4\n",
            "4\n",
            "4\n"
          ],
          "name": "stdout"
        }
      ]
    },
    {
      "cell_type": "markdown",
      "metadata": {
        "id": "u3N0QcnfAW8N"
      },
      "source": [
        "### Default arguments"
      ]
    },
    {
      "cell_type": "code",
      "metadata": {
        "scrolled": true,
        "colab": {
          "base_uri": "https://localhost:8080/"
        },
        "id": "g5C5Js-cAW8N",
        "outputId": "d090bcaa-24e3-4f81-9002-221795e737f4"
      },
      "source": [
        "def create_person_info(name, age, job=None, salary=300):\n",
        "    info = {'name': name, 'age': age, 'salary': salary}\n",
        "    \n",
        "    # Add 'job' key only if it's provided as parameter\n",
        "    if job:  \n",
        "        info.update(dict(job=job))\n",
        "        \n",
        "    return info\n",
        "\n",
        "person1 = create_person_info('John Doe', 82)  # use default values for job and salary\n",
        "person2 = create_person_info('Lisa Doe', 22, 'hacker', 10000)\n",
        "print(person1)\n",
        "print(person2)"
      ],
      "execution_count": 7,
      "outputs": [
        {
          "output_type": "stream",
          "text": [
            "{'name': 'John Doe', 'age': 82, 'salary': 300}\n",
            "{'name': 'Lisa Doe', 'age': 22, 'salary': 10000, 'job': 'hacker'}\n"
          ],
          "name": "stdout"
        }
      ]
    },
    {
      "cell_type": "markdown",
      "metadata": {
        "id": "pPIYI1VCAW8N"
      },
      "source": [
        "**Don't use mutable objects as default arguments!**"
      ]
    },
    {
      "cell_type": "code",
      "metadata": {
        "colab": {
          "base_uri": "https://localhost:8080/"
        },
        "id": "vyT4sEnTAW8N",
        "outputId": "c5cf042b-d52e-4537-fd25-be2e7f05ecf3"
      },
      "source": [
        "def append_if_multiple_of_five(number, magical_list=[]):\n",
        "    if number % 5 == 0:\n",
        "        magical_list.append(number)\n",
        "    return magical_list\n",
        "\n",
        "print(append_if_multiple_of_five(100))\n",
        "print(append_if_multiple_of_five(105))\n",
        "print(append_if_multiple_of_five(123))\n",
        "print(append_if_multiple_of_five(123, []))\n",
        "print(append_if_multiple_of_five(123))"
      ],
      "execution_count": 8,
      "outputs": [
        {
          "output_type": "stream",
          "text": [
            "[100]\n",
            "[100, 105]\n",
            "[100, 105]\n",
            "[]\n",
            "[100, 105]\n"
          ],
          "name": "stdout"
        }
      ]
    },
    {
      "cell_type": "markdown",
      "metadata": {
        "id": "UFKtAJ6QAW8O"
      },
      "source": [
        "Here's how you can achieve desired behavior:"
      ]
    },
    {
      "cell_type": "code",
      "metadata": {
        "id": "X5Hyef90AW8O"
      },
      "source": [
        "def append_if_multiple_of_five(number, magical_list=None):\n",
        "    if not magical_list:\n",
        "        magical_list = []\n",
        "    if number % 5 == 0:\n",
        "        magical_list.append(number)\n",
        "    return magical_list\n",
        "\n",
        "print(append_if_multiple_of_five(100))\n",
        "print(append_if_multiple_of_five(105))\n",
        "print(append_if_multiple_of_five(123))\n",
        "print(append_if_multiple_of_five(123, []))\n",
        "print(append_if_multiple_of_five(123))"
      ],
      "execution_count": null,
      "outputs": []
    },
    {
      "cell_type": "markdown",
      "metadata": {
        "id": "3Hjj6ab3AW8O"
      },
      "source": [
        "### Docstrings\n",
        "Strings for documenting your functions, methods, modules and variables."
      ]
    },
    {
      "cell_type": "code",
      "metadata": {
        "id": "3A9hGP7KAW8O"
      },
      "source": [
        "def print_sum(val1, val2):\n",
        "    \"\"\"Function which prints the sum of given arguments.\"\"\"\n",
        "    print('sum: {}'.format(val1 + val2))\n",
        "\n",
        "print(help(print_sum))"
      ],
      "execution_count": null,
      "outputs": []
    },
    {
      "cell_type": "code",
      "metadata": {
        "id": "YocQfu2hAW8O"
      },
      "source": [
        "def calculate_sum(val1, val2):\n",
        "    \"\"\"This is a longer docstring defining also the args and the return value. \n",
        "\n",
        "    Args:\n",
        "        val1: The first parameter.\n",
        "        val2: The second parameter.\n",
        "\n",
        "    Returns:\n",
        "        The sum of val1 and val2.\n",
        "        \n",
        "    \"\"\"\n",
        "    return val1 + val2\n",
        "\n",
        "print(help(calculate_sum))"
      ],
      "execution_count": null,
      "outputs": []
    },
    {
      "cell_type": "markdown",
      "metadata": {
        "id": "zmHJkMTDAW8P"
      },
      "source": [
        "### [`pass`](https://docs.python.org/3/reference/simple_stmts.html#the-pass-statement) statement\n",
        "`pass` is a statement which does nothing when it's executed. It can be used e.g. a as placeholder to make the code syntatically correct while sketching the functions and/or classes of your application. For example, the following is valid Python. "
      ]
    },
    {
      "cell_type": "code",
      "metadata": {
        "id": "Mxdx0WjsAW8P"
      },
      "source": [
        "def my_function(some_argument):\n",
        "    pass\n",
        "\n",
        "def my_other_function():\n",
        "    pass"
      ],
      "execution_count": null,
      "outputs": []
    }
  ]
}