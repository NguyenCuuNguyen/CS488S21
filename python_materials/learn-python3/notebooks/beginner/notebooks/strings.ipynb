{
  "nbformat": 4,
  "nbformat_minor": 0,
  "metadata": {
    "kernelspec": {
      "display_name": "Python 3",
      "language": "python",
      "name": "python3"
    },
    "language_info": {
      "codemirror_mode": {
        "name": "ipython",
        "version": 3
      },
      "file_extension": ".py",
      "mimetype": "text/x-python",
      "name": "python",
      "nbconvert_exporter": "python",
      "pygments_lexer": "ipython3",
      "version": "3.5.4"
    },
    "colab": {
      "name": "strings.ipynb",
      "provenance": []
    }
  },
  "cells": [
    {
      "cell_type": "markdown",
      "metadata": {
        "id": "HuwScRFHerc2"
      },
      "source": [
        "# [Strings](https://docs.python.org/3/library/stdtypes.html#text-sequence-type-str)"
      ]
    },
    {
      "cell_type": "code",
      "metadata": {
        "id": "OflVzRbYerc7"
      },
      "source": [
        "my_string = 'Python is my favorite programming language!'"
      ],
      "execution_count": null,
      "outputs": []
    },
    {
      "cell_type": "code",
      "metadata": {
        "id": "72gl53QXerc8"
      },
      "source": [
        "my_string"
      ],
      "execution_count": null,
      "outputs": []
    },
    {
      "cell_type": "code",
      "metadata": {
        "id": "iAS2LV6Yerc8"
      },
      "source": [
        "type(my_string)"
      ],
      "execution_count": null,
      "outputs": []
    },
    {
      "cell_type": "code",
      "metadata": {
        "id": "68iKIaLyerc9"
      },
      "source": [
        "len(my_string)"
      ],
      "execution_count": null,
      "outputs": []
    },
    {
      "cell_type": "markdown",
      "metadata": {
        "id": "C5QwSwXDerc9"
      },
      "source": [
        "### Respecting [PEP8](https://www.python.org/dev/peps/pep-0008/#maximum-line-length) with long strings"
      ]
    },
    {
      "cell_type": "markdown",
      "metadata": {
        "id": "xvQcATQymzZy"
      },
      "source": [
        "https://www.python.org/dev/peps/pep-0008/#maximum-line-length\n"
      ]
    },
    {
      "cell_type": "code",
      "metadata": {
        "id": "fGU9aSSNerc9",
        "colab": {
          "base_uri": "https://localhost:8080/",
          "height": 52
        },
        "outputId": "c2a63808-3ca9-4112-a502-70f35556fce9"
      },
      "source": [
        "long_story = ('Lorem ipsum dolor sit amet, consectetur adipiscing elit.' \n",
        "              'Pellentesque eget tincidunt felis. Ut ac vestibulum est.' \n",
        "              'In sed ipsum sit amet sapien scelerisque bibendum. Sed ' \n",
        "              'sagittis purus eu diam fermentum pellentesque.')\n",
        "long_story"
      ],
      "execution_count": null,
      "outputs": [
        {
          "output_type": "execute_result",
          "data": {
            "application/vnd.google.colaboratory.intrinsic+json": {
              "type": "string"
            },
            "text/plain": [
              "'Lorem ipsum dolor sit amet, consectetur adipiscing elit.Pellentesque eget tincidunt felis. Ut ac vestibulum est.In sed ipsum sit amet sapien scelerisque bibendum. Sed sagittis purus eu diam fermentum pellentesque.'"
            ]
          },
          "metadata": {
            "tags": []
          },
          "execution_count": 1
        }
      ]
    },
    {
      "cell_type": "markdown",
      "metadata": {
        "id": "detPcESberc9"
      },
      "source": [
        "## `str.replace()`"
      ]
    },
    {
      "cell_type": "markdown",
      "metadata": {
        "id": "1tKkp4Yserc-"
      },
      "source": [
        "If you don't know how it works, you can always check the `help`:"
      ]
    },
    {
      "cell_type": "code",
      "metadata": {
        "id": "ROKum5yFerc-"
      },
      "source": [
        "help(str.replace)"
      ],
      "execution_count": null,
      "outputs": []
    },
    {
      "cell_type": "markdown",
      "metadata": {
        "id": "Kb92LA-Yerc-"
      },
      "source": [
        "This will not modify `my_string` because replace is not done in-place."
      ]
    },
    {
      "cell_type": "code",
      "metadata": {
        "id": "ESGlpEmwerc-"
      },
      "source": [
        "my_string.replace('a', '?')\n",
        "print(my_string)"
      ],
      "execution_count": null,
      "outputs": []
    },
    {
      "cell_type": "markdown",
      "metadata": {
        "id": "RixfTTO8erc_"
      },
      "source": [
        "You have to store the return value of `replace` instead."
      ]
    },
    {
      "cell_type": "code",
      "metadata": {
        "id": "fA9wkvoWerc_"
      },
      "source": [
        "my_modified_string = my_string.replace('is', 'will be')\n",
        "print(my_modified_string)"
      ],
      "execution_count": null,
      "outputs": []
    },
    {
      "cell_type": "markdown",
      "metadata": {
        "id": "k_CX0H8Zerc_"
      },
      "source": [
        "## `str.format()`"
      ]
    },
    {
      "cell_type": "code",
      "metadata": {
        "id": "iOm8T4emerc_"
      },
      "source": [
        "secret = '{} is cool'.format('Python')\n",
        "print(secret)"
      ],
      "execution_count": null,
      "outputs": []
    },
    {
      "cell_type": "code",
      "metadata": {
        "id": "IpDr00qverc_"
      },
      "source": [
        "print('My name is {} {}, you can call me {}.'.format('John', 'Doe', 'John'))\n",
        "# is the same as:\n",
        "print('My name is {first} {family}, you can call me {first}.'.format(first='John', family='Doe'))"
      ],
      "execution_count": null,
      "outputs": []
    },
    {
      "cell_type": "markdown",
      "metadata": {
        "id": "Ot2wjJgferdA"
      },
      "source": [
        "## `str.join()`"
      ]
    },
    {
      "cell_type": "code",
      "metadata": {
        "id": "vig1fCGCerdA"
      },
      "source": [
        "pandas = 'pandas'\n",
        "numpy = 'numpy'\n",
        "requests = 'requests'\n",
        "cool_python_libs = ', '.join([pandas, numpy, requests])"
      ],
      "execution_count": null,
      "outputs": []
    },
    {
      "cell_type": "code",
      "metadata": {
        "id": "dSw5-Gw4erdA",
        "colab": {
          "base_uri": "https://localhost:8080/"
        },
        "outputId": "5bd27bd6-6c1b-49b8-dcae-f547a519f3ed"
      },
      "source": [
        "print('Some cool python libraries: {}'.format(cool_python_libs))"
      ],
      "execution_count": null,
      "outputs": [
        {
          "output_type": "stream",
          "text": [
            "Some cool python libraries: pandas, numpy, requests\n"
          ],
          "name": "stdout"
        }
      ]
    },
    {
      "cell_type": "markdown",
      "metadata": {
        "id": "cEgc1hzyerdA"
      },
      "source": [
        "Alternatives (not as [Pythonic](http://docs.python-guide.org/en/latest/writing/style/#idioms) and [slower](https://waymoot.org/home/python_string/)):"
      ]
    },
    {
      "cell_type": "code",
      "metadata": {
        "id": "6MDovXDberdA"
      },
      "source": [
        "cool_python_libs = pandas + ', ' + numpy + ', ' + requests\n",
        "print('Some cool python libraries: {}'.format(cool_python_libs))\n",
        "\n",
        "cool_python_libs = pandas\n",
        "cool_python_libs += ', ' + numpy\n",
        "cool_python_libs += ', ' + requests\n",
        "print('Some cool python libraries: {}'.format(cool_python_libs))"
      ],
      "execution_count": null,
      "outputs": []
    },
    {
      "cell_type": "markdown",
      "metadata": {
        "id": "eqeH8tozerdA"
      },
      "source": [
        "## `str.upper(), str.lower(), str.title()`"
      ]
    },
    {
      "cell_type": "code",
      "metadata": {
        "id": "q6sqBJbuerdB"
      },
      "source": [
        "mixed_case = 'PyTHoN hackER'"
      ],
      "execution_count": null,
      "outputs": []
    },
    {
      "cell_type": "code",
      "metadata": {
        "id": "rSDEwju5erdB"
      },
      "source": [
        "mixed_case.upper()"
      ],
      "execution_count": null,
      "outputs": []
    },
    {
      "cell_type": "code",
      "metadata": {
        "id": "qRPLmHTkerdB"
      },
      "source": [
        "mixed_case.lower()"
      ],
      "execution_count": null,
      "outputs": []
    },
    {
      "cell_type": "code",
      "metadata": {
        "id": "TFG-5v7PerdB"
      },
      "source": [
        "mixed_case.title()"
      ],
      "execution_count": null,
      "outputs": []
    },
    {
      "cell_type": "markdown",
      "metadata": {
        "id": "SjVERrzmerdB"
      },
      "source": [
        "## `str.strip()`"
      ]
    },
    {
      "cell_type": "code",
      "metadata": {
        "id": "wWW7MVEgerdB",
        "colab": {
          "base_uri": "https://localhost:8080/"
        },
        "outputId": "e8881999-5ced-4781-a975-488bfbaf4f9f"
      },
      "source": [
        "ugly_formatted = ' \\n \\t Some story to tell '\n",
        "stripped = ugly_formatted.strip()\n",
        "\n",
        "print('ugly: {}'.format(ugly_formatted))\n",
        "print('stripped: {}'.format(ugly_formatted.strip()))"
      ],
      "execution_count": null,
      "outputs": [
        {
          "output_type": "stream",
          "text": [
            "ugly:  \n",
            " \t Some story to tell \n",
            "stripped: Some story to tell\n"
          ],
          "name": "stdout"
        }
      ]
    },
    {
      "cell_type": "markdown",
      "metadata": {
        "id": "HpZno5Y7i8IR"
      },
      "source": [
        "The strip() method removes any leading (spaces at the beginning) and trailing (spaces at the end) characters (space is the default leading character to remove)\n"
      ]
    },
    {
      "cell_type": "markdown",
      "metadata": {
        "id": "jc0rl762erdB"
      },
      "source": [
        "## `str.split()`"
      ]
    },
    {
      "cell_type": "code",
      "metadata": {
        "id": "faewAkI6erdC"
      },
      "source": [
        "sentence = 'three different words'\n",
        "words = sentence.split()\n",
        "print(words)"
      ],
      "execution_count": null,
      "outputs": []
    },
    {
      "cell_type": "code",
      "metadata": {
        "id": "TkWHCTsFerdC"
      },
      "source": [
        "type(words)"
      ],
      "execution_count": null,
      "outputs": []
    },
    {
      "cell_type": "code",
      "metadata": {
        "id": "38K549tkerdC"
      },
      "source": [
        "secret_binary_data = '01001,101101,11100000'\n",
        "binaries = secret_binary_data.split(',')\n",
        "print(binaries)"
      ],
      "execution_count": null,
      "outputs": []
    },
    {
      "cell_type": "markdown",
      "metadata": {
        "id": "iiZgesxeerdC"
      },
      "source": [
        "## Calling multiple methods in a row"
      ]
    },
    {
      "cell_type": "code",
      "metadata": {
        "id": "CTQeacGBerdC"
      },
      "source": [
        "ugly_mixed_case = '   ThIS LooKs BAd '\n",
        "pretty = ugly_mixed_case.strip().lower().replace('bad', 'good')\n",
        "print(pretty)"
      ],
      "execution_count": null,
      "outputs": []
    },
    {
      "cell_type": "markdown",
      "metadata": {
        "id": "pGLxtqT0erdC"
      },
      "source": [
        "Note that execution order is from left to right. Thus, this won't work:"
      ]
    },
    {
      "cell_type": "code",
      "metadata": {
        "id": "EbNYKeJperdC"
      },
      "source": [
        "pretty = ugly_mixed_case.replace('bad', 'good').strip().lower()\n",
        "print(pretty)"
      ],
      "execution_count": null,
      "outputs": []
    },
    {
      "cell_type": "markdown",
      "metadata": {
        "id": "riOZ7TZterdD"
      },
      "source": [
        "## [Escape characters](http://python-reference.readthedocs.io/en/latest/docs/str/escapes.html#escape-characters)"
      ]
    },
    {
      "cell_type": "code",
      "metadata": {
        "id": "xzawa7tnerdD"
      },
      "source": [
        "two_lines = 'First line\\nSecond line'\n",
        "print(two_lines)"
      ],
      "execution_count": null,
      "outputs": []
    },
    {
      "cell_type": "code",
      "metadata": {
        "id": "gHoA9WWSerdD"
      },
      "source": [
        "indented = '\\tThis will be indented'\n",
        "print(indented)"
      ],
      "execution_count": null,
      "outputs": []
    }
  ]
}