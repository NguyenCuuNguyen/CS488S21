{
  "nbformat": 4,
  "nbformat_minor": 0,
  "metadata": {
    "kernelspec": {
      "display_name": "Python 3",
      "language": "python",
      "name": "python3"
    },
    "language_info": {
      "codemirror_mode": {
        "name": "ipython",
        "version": 3
      },
      "file_extension": ".py",
      "mimetype": "text/x-python",
      "name": "python",
      "nbconvert_exporter": "python",
      "pygments_lexer": "ipython3",
      "version": "3.5.4"
    },
    "colab": {
      "name": "strings_exercise.ipynb",
      "provenance": []
    }
  },
  "cells": [
    {
      "cell_type": "markdown",
      "metadata": {
        "id": "yi7gWFY_gqHW"
      },
      "source": [
        "# 1. Fill missing pieces\n",
        "Fill `____` pieces below to have correct values for `lower_cased`, `stripped` and `stripped_lower_case` variables."
      ]
    },
    {
      "cell_type": "code",
      "metadata": {
        "id": "2v5QYPF7gqHc",
        "outputId": "6748184e-873f-4c3f-d6ad-fa34a7b8421d",
        "colab": {
          "base_uri": "https://localhost:8080/"
        }
      },
      "source": [
        "original = ' Python strings are COOL! '\n",
        "lower_cased = original.lower()\n",
        "stripped = original.strip() #format\n",
        "stripped_lower_cased = original.lower().strip()#''.join(original.lower())\n",
        "#print(stripped_lower_cased)"
      ],
      "execution_count": 48,
      "outputs": [
        {
          "output_type": "stream",
          "text": [
            "python strings are cool!\n"
          ],
          "name": "stdout"
        }
      ]
    },
    {
      "cell_type": "markdown",
      "metadata": {
        "id": "OKJ2FC2ogqHc"
      },
      "source": [
        "Let's verify that the implementation is correct by running the cell below. `assert` will raise `AssertionError` if the statement is not true.  "
      ]
    },
    {
      "cell_type": "code",
      "metadata": {
        "editable": false,
        "id": "yYYrElGQgqHd"
      },
      "source": [
        "assert lower_cased == ' python strings are cool! '\n",
        "assert stripped == 'Python strings are COOL!'\n",
        "assert stripped_lower_cased == 'python strings are cool!'"
      ],
      "execution_count": 49,
      "outputs": []
    },
    {
      "cell_type": "code",
      "metadata": {
        "id": "70IlAKjAlSJa"
      },
      "source": [
        ""
      ],
      "execution_count": null,
      "outputs": []
    },
    {
      "cell_type": "code",
      "metadata": {
        "id": "D-TrKDH1ji9M",
        "outputId": "1dfc6ae5-bb3e-4566-871e-75877993b5ea",
        "colab": {
          "base_uri": "https://localhost:8080/"
        }
      },
      "source": [
        "stripped = original.strip(\"L ! \") #format\n",
        "print(stripped)\n",
        "stripped = original.strip(\" Py\")\n",
        "print(stripped)"
      ],
      "execution_count": 39,
      "outputs": [
        {
          "output_type": "stream",
          "text": [
            "Python strings are COO\n",
            "thon strings are COOL!\n"
          ],
          "name": "stdout"
        }
      ]
    },
    {
      "cell_type": "code",
      "metadata": {
        "id": "MHe4OAKKg9J5",
        "outputId": "dce73478-805a-4195-9dd1-f94566da5f7f",
        "colab": {
          "base_uri": "https://localhost:8080/",
          "height": 35
        }
      },
      "source": [
        "\"cOOL pyThON\".join((reversed(\"cOOL pyThON\")))"
      ],
      "execution_count": 2,
      "outputs": [
        {
          "output_type": "execute_result",
          "data": {
            "application/vnd.google.colaboratory.intrinsic+json": {
              "type": "string"
            },
            "text/plain": [
              "'NcOOL pyThONOcOOL pyThONhcOOL pyThONTcOOL pyThONycOOL pyThONpcOOL pyThON cOOL pyThONLcOOL pyThONOcOOL pyThONOcOOL pyThONc'"
            ]
          },
          "metadata": {
            "tags": []
          },
          "execution_count": 2
        }
      ]
    },
    {
      "cell_type": "code",
      "metadata": {
        "id": "XGpwLM3gg51j",
        "outputId": "83b22747-93f8-4b09-b559-4eb7bbdaec8f",
        "colab": {
          "base_uri": "https://localhost:8080/",
          "height": 35
        }
      },
      "source": [
        "word = \"cOOL pyThON\"\n",
        "word = word.split(' ')\n",
        "\" \".join(reversed(word))\n",
        "#\" \".join((reversed(word)))\n"
      ],
      "execution_count": 14,
      "outputs": [
        {
          "output_type": "execute_result",
          "data": {
            "application/vnd.google.colaboratory.intrinsic+json": {
              "type": "string"
            },
            "text/plain": [
              "'pyThON cOOL'"
            ]
          },
          "metadata": {
            "tags": []
          },
          "execution_count": 14
        }
      ]
    },
    {
      "cell_type": "markdown",
      "metadata": {
        "id": "H579qZZYgqHd"
      },
      "source": [
        "# 2. Prettify ugly string\n",
        "Use `str` methods to convert `ugly` to wanted `pretty`."
      ]
    },
    {
      "cell_type": "code",
      "metadata": {
        "editable": false,
        "id": "zJCZFt-wgqHd",
        "outputId": "cf64c011-5f3a-49c0-f20a-cf666d75e50f",
        "colab": {
          "base_uri": "https://localhost:8080/"
        }
      },
      "source": [
        "ugly = ' tiTle of MY new Book\\n\\n'\n",
        "print(ugly)"
      ],
      "execution_count": 57,
      "outputs": [
        {
          "output_type": "stream",
          "text": [
            " tiTle of MY new Book\n",
            "\n",
            "\n"
          ],
          "name": "stdout"
        }
      ]
    },
    {
      "cell_type": "code",
      "metadata": {
        "id": "hhGzmE8ugqHe"
      },
      "source": [
        "# Your implementation:\n",
        "pretty = ugly.title().strip()"
      ],
      "execution_count": 54,
      "outputs": []
    },
    {
      "cell_type": "markdown",
      "metadata": {
        "id": "Ya_VFluMgqHe"
      },
      "source": [
        "Let's make sure that it does what we want. `assert` raises [`AssertionError`](https://docs.python.org/3/library/exceptions.html#AssertionError) if the statement is not `True`."
      ]
    },
    {
      "cell_type": "code",
      "metadata": {
        "editable": false,
        "id": "nUlWh4cegqHe",
        "outputId": "8dc9d27c-85e0-49d2-ea93-0c71e7feceaa",
        "colab": {
          "base_uri": "https://localhost:8080/"
        }
      },
      "source": [
        "print('pretty: {}'.format(pretty))\n",
        "assert pretty == 'Title Of My New Book'"
      ],
      "execution_count": 55,
      "outputs": [
        {
          "output_type": "stream",
          "text": [
            "pretty: Title Of My New Book\n"
          ],
          "name": "stdout"
        }
      ]
    },
    {
      "cell_type": "markdown",
      "metadata": {
        "id": "RM3ydtojgqHe"
      },
      "source": [
        "# 3. Format string based on existing variables\n",
        "Create `sentence` by using `verb`, `language`, and `punctuation` and any other strings you may need."
      ]
    },
    {
      "cell_type": "code",
      "metadata": {
        "editable": false,
        "id": "7fePGLaQgqHe"
      },
      "source": [
        "verb = 'is'\n",
        "language = 'Python'\n",
        "punctuation = '!'"
      ],
      "execution_count": 58,
      "outputs": []
    },
    {
      "cell_type": "code",
      "metadata": {
        "id": "PM5im2o_gqHf"
      },
      "source": [
        "# Your implementation:\n",
        "sentence = \"Learning {} {} fun!\".format(language, verb)"
      ],
      "execution_count": 59,
      "outputs": []
    },
    {
      "cell_type": "code",
      "metadata": {
        "editable": false,
        "id": "5A5vA4ovgqHf",
        "outputId": "ba11684b-a3a7-4bac-dbc4-9acf0ee27cc0",
        "colab": {
          "base_uri": "https://localhost:8080/"
        }
      },
      "source": [
        "print('sentence: {}'.format(sentence))\n",
        "assert sentence == 'Learning Python is fun!'"
      ],
      "execution_count": 60,
      "outputs": [
        {
          "output_type": "stream",
          "text": [
            "sentence: Learning Python is fun!\n"
          ],
          "name": "stdout"
        }
      ]
    }
  ]
}