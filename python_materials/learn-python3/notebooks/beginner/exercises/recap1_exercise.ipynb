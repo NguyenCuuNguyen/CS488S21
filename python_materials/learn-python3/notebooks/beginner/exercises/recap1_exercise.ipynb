{
  "nbformat": 4,
  "nbformat_minor": 0,
  "metadata": {
    "kernelspec": {
      "display_name": "Python 3",
      "language": "python",
      "name": "python3"
    },
    "language_info": {
      "codemirror_mode": {
        "name": "ipython",
        "version": 3
      },
      "file_extension": ".py",
      "mimetype": "text/x-python",
      "name": "python",
      "nbconvert_exporter": "python",
      "pygments_lexer": "ipython3",
      "version": "3.5.4"
    },
    "colab": {
      "name": "recap1_exercise.ipynb",
      "provenance": []
    }
  },
  "cells": [
    {
      "cell_type": "markdown",
      "metadata": {
        "id": "1l6Nrf1VfD4h"
      },
      "source": [
        "# 1. Super vowels\n",
        "Implement `super_vowels` function which takes a string as an argument and returns a modified version of that string. In the return value of `super_vowels`, all vowels should be in upper case whereas all consonants should be in lower case. The vowels are listed in the `VOWELS` variable."
      ]
    },
    {
      "cell_type": "code",
      "metadata": {
        "editable": false,
        "id": "QXaY7vFEfD4n"
      },
      "source": [
        "VOWELS = ['a', 'e', 'i', 'o', 'u']"
      ],
      "execution_count": 28,
      "outputs": []
    },
    {
      "cell_type": "code",
      "metadata": {
        "id": "yIfJekQDfD4o"
      },
      "source": [
        "# Your implementation here\n",
        "def super_vowels(string):\n",
        "  result = []\n",
        "  string = string.lower()\n",
        "  for letter in string:\n",
        "    if letter in VOWELS:\n",
        "      letter = letter.upper() #have to reassign it, otherwise value will be lost\n",
        "      result.append(letter)\n",
        "    else:\n",
        "      result.append(letter)\n",
        "  result = \"\".join(result) \n",
        "  return result\n",
        "    "
      ],
      "execution_count": 38,
      "outputs": []
    },
    {
      "cell_type": "code",
      "metadata": {
        "id": "7JBiw_UTlYpW",
        "outputId": "a1a805ec-dc2e-416f-cb63-9cfed3717820",
        "colab": {
          "base_uri": "https://localhost:8080/",
          "height": 130
        }
      },
      "source": [
        "#TODO: SHORTER, MORE OPTIMAL SOLUTION\n",
        "def super_vowels(string):\n",
        "  result = []\n",
        "  letter.upper() for letter in string if letter in VOWELS\n",
        "  return "
      ],
      "execution_count": 36,
      "outputs": [
        {
          "output_type": "error",
          "ename": "SyntaxError",
          "evalue": "ignored",
          "traceback": [
            "\u001b[0;36m  File \u001b[0;32m\"<ipython-input-36-0ecc20400eb2>\"\u001b[0;36m, line \u001b[0;32m3\u001b[0m\n\u001b[0;31m    letter.upper() for letter in string if letter in VOWELS\u001b[0m\n\u001b[0m                     ^\u001b[0m\n\u001b[0;31mSyntaxError\u001b[0m\u001b[0;31m:\u001b[0m invalid syntax\n"
          ]
        }
      ]
    },
    {
      "cell_type": "code",
      "metadata": {
        "editable": false,
        "id": "MZijYHxLfD4o"
      },
      "source": [
        "assert super_vowels('hi wassup!') == 'hI wAssUp!'\n",
        "assert super_vowels('HOw aRE You?') == 'hOw ArE yOU?'"
      ],
      "execution_count": 39,
      "outputs": []
    },
    {
      "cell_type": "markdown",
      "metadata": {
        "id": "msOWp9tYfD4o"
      },
      "source": [
        "# 2. Playing board\n",
        "Implement `get_playing_board` function which takes an integer as an argument. The function should return a string which resemples a playing board (e.g. a chess board). The board should contain as many rows and columns as requested by the interger argument. See the cell below for examples of desired behavior.\n"
      ]
    },
    {
      "cell_type": "code",
      "metadata": {
        "id": "6G3f2CYrfD4p"
      },
      "source": [
        "# Your implementation here\n",
        "def get_playing_board(num):\n",
        "  n = \"\\n\"\n",
        "  s = \"* \"\n",
        "  while num > 0: #stop before 0\n",
        "    result += \"* * \\n\"\n",
        "\n"
      ],
      "execution_count": null,
      "outputs": []
    },
    {
      "cell_type": "code",
      "metadata": {
        "editable": false,
        "id": "2Mod8nDmfD4p"
      },
      "source": [
        "board_of_5 = (\n",
        "' * * \\n'\n",
        "'* * *\\n'\n",
        "' * * \\n'\n",
        "'* * *\\n'\n",
        "' * * \\n'\n",
        ")\n",
        "\n",
        "board_of_10 = (\n",
        "' * * * * *\\n'\n",
        "'* * * * * \\n'\n",
        "' * * * * *\\n'\n",
        "'* * * * * \\n'\n",
        "' * * * * *\\n'\n",
        "'* * * * * \\n'\n",
        "' * * * * *\\n'\n",
        "'* * * * * \\n'\n",
        "' * * * * *\\n'\n",
        "'* * * * * \\n'\n",
        ")\n",
        "\n",
        "assert get_playing_board(5) == board_of_5\n",
        "assert get_playing_board(10) == board_of_10\n",
        "\n",
        "print(get_playing_board(50))"
      ],
      "execution_count": null,
      "outputs": []
    }
  ]
}