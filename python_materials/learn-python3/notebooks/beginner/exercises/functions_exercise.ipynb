{
  "nbformat": 4,
  "nbformat_minor": 0,
  "metadata": {
    "kernelspec": {
      "display_name": "Python 3",
      "language": "python",
      "name": "python3"
    },
    "language_info": {
      "codemirror_mode": {
        "name": "ipython",
        "version": 3
      },
      "file_extension": ".py",
      "mimetype": "text/x-python",
      "name": "python",
      "nbconvert_exporter": "python",
      "pygments_lexer": "ipython3",
      "version": "3.5.4"
    },
    "colab": {
      "name": "functions_exercise.ipynb",
      "provenance": []
    }
  },
  "cells": [
    {
      "cell_type": "markdown",
      "metadata": {
        "id": "VcwC3FVv8lqj"
      },
      "source": [
        "# 1. Fill the missing pieces of the `count_even_numbers` function\n",
        "Fill `____` pieces of the `count_even_numbers` implemention in order to pass the assertions. You can assume that `numbers` argument is a list of integers."
      ]
    },
    {
      "cell_type": "code",
      "metadata": {
        "id": "WPsvbGy68lqp"
      },
      "source": [
        "def count_even_numbers(numbers):\n",
        "    count = 0\n",
        "    for num in numbers:\n",
        "        if num % 2 == 0:\n",
        "            count += 1\n",
        "    return count"
      ],
      "execution_count": 2,
      "outputs": []
    },
    {
      "cell_type": "code",
      "metadata": {
        "editable": false,
        "id": "leIsDqoh8lqp"
      },
      "source": [
        "assert count_even_numbers([1, 2, 3, 4, 5, 6]) == 3\n",
        "assert count_even_numbers([1, 3, 5, 7]) == 0\n",
        "assert count_even_numbers([-2, 2, -10, 8]) == 4"
      ],
      "execution_count": 3,
      "outputs": []
    },
    {
      "cell_type": "markdown",
      "metadata": {
        "id": "12oAz-Xq8lqq"
      },
      "source": [
        "# 2. Searching for wanted people\n",
        "Implement `find_wanted_people` function which takes a list of names (strings) as argument. The function should return a list of names which are present both in `WANTED_PEOPLE` and in the name list given as argument to the function."
      ]
    },
    {
      "cell_type": "code",
      "metadata": {
        "editable": false,
        "id": "_dE090ta8lqq"
      },
      "source": [
        "WANTED_PEOPLE = ['John Doe', 'Clint Eastwood', 'Chuck Norris']"
      ],
      "execution_count": 7,
      "outputs": []
    },
    {
      "cell_type": "code",
      "metadata": {
        "id": "OhRes_Yz8lqq",
        "outputId": "3bf0d150-7c1b-424c-a495-fd4bcaa90440",
        "colab": {
          "base_uri": "https://localhost:8080/"
        }
      },
      "source": [
        "# Your implementation here\n",
        "def find_wanted_people(list):\n",
        "  wanted_list = [name for name in list if name in WANTED_PEOPLE]\n",
        "  return wanted_list\n",
        "\n",
        "list = ['Donald Duck', 'Clint Eastwood', 'John Doe', 'Barack Obama']\n",
        "print(find_wanted_people(list))\n"
      ],
      "execution_count": 8,
      "outputs": [
        {
          "output_type": "stream",
          "text": [
            "['Clint Eastwood', 'John Doe']\n"
          ],
          "name": "stdout"
        }
      ]
    },
    {
      "cell_type": "code",
      "metadata": {
        "editable": false,
        "id": "z7Vn9Mgr8lqq"
      },
      "source": [
        "people_to_check1 = ['Donald Duck', 'Clint Eastwood', 'John Doe', 'Barack Obama']\n",
        "wanted1 = find_wanted_people(people_to_check1)\n",
        "assert len(wanted1) == 2\n",
        "assert 'John Doe' in wanted1\n",
        "assert 'Clint Eastwood'in wanted1\n",
        "\n",
        "people_to_check2 = ['Donald Duck', 'Mickey Mouse', 'Zorro', 'Superman', 'Robin Hood']\n",
        "wanted2 = find_wanted_people(people_to_check2)\n",
        "assert wanted2 == []"
      ],
      "execution_count": 10,
      "outputs": []
    },
    {
      "cell_type": "markdown",
      "metadata": {
        "id": "WKZNqgws8lqr"
      },
      "source": [
        "# 3. Counting average length of words in a sentence\n",
        "Create a function `average_length_of_words` which takes a string as an argument and returns the average length of the words in the string. You can assume that there is a single space between each word and that the input does not have punctuation. The result should be rounded to one decimal place (hint: see [`round`](https://docs.python.org/3/library/functions.html#round))."
      ]
    },
    {
      "cell_type": "code",
      "metadata": {
        "id": "cA8SGJX38lqr",
        "outputId": "1dcb8e0a-30a7-4b7d-9da6-b87a298b0073",
        "colab": {
          "base_uri": "https://localhost:8080/"
        }
      },
      "source": [
        "# Your implementation here\n",
        "def average_length_of_words(str_arg):\n",
        "  sum = 0\n",
        "  average = 0\n",
        "  list = str_arg.split()\n",
        "  if list == []:\n",
        "    return 0\n",
        "  for word in list:\n",
        "    sum += len(word)\n",
        "  average = round(sum/len(list), 1) #len(str_arg) returns the total num of letters\n",
        "  return average\n",
        "\n",
        "average_length_of_words('one two three four')"
      ],
      "execution_count": 31,
      "outputs": [
        {
          "output_type": "execute_result",
          "data": {
            "text/plain": [
              "3.8"
            ]
          },
          "metadata": {
            "tags": []
          },
          "execution_count": 31
        }
      ]
    },
    {
      "cell_type": "code",
      "metadata": {
        "id": "sA1e8t_qGxJ4",
        "outputId": "8450eb69-b385-44e4-abb6-73dfa24c15ae",
        "colab": {
          "base_uri": "https://localhost:8080/"
        }
      },
      "source": [
        "7/2 #returns 3.5\n",
        "7//2 #returns 3"
      ],
      "execution_count": 34,
      "outputs": [
        {
          "output_type": "execute_result",
          "data": {
            "text/plain": [
              "3"
            ]
          },
          "metadata": {
            "tags": []
          },
          "execution_count": 34
        }
      ]
    },
    {
      "cell_type": "code",
      "metadata": {
        "editable": false,
        "id": "1sC5_xtC8lqr"
      },
      "source": [
        "assert average_length_of_words('only four lett erwo rdss') == 4\n",
        "assert average_length_of_words('one two three') == 3.7\n",
        "assert average_length_of_words('one two three four') == 3.8\n",
        "assert average_length_of_words('') == 0"
      ],
      "execution_count": 32,
      "outputs": []
    }
  ]
}