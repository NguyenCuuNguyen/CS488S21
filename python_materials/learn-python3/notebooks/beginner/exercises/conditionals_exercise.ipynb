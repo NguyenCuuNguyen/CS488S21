{
  "nbformat": 4,
  "nbformat_minor": 0,
  "metadata": {
    "kernelspec": {
      "display_name": "Python 3",
      "language": "python",
      "name": "python3"
    },
    "language_info": {
      "codemirror_mode": {
        "name": "ipython",
        "version": 3
      },
      "file_extension": ".py",
      "mimetype": "text/x-python",
      "name": "python",
      "nbconvert_exporter": "python",
      "pygments_lexer": "ipython3",
      "version": "3.5.4"
    },
    "colab": {
      "name": "conditionals_exercise.ipynb",
      "provenance": []
    }
  },
  "cells": [
    {
      "cell_type": "markdown",
      "metadata": {
        "id": "HtFSmn9lnhM8"
      },
      "source": [
        "# 1. `if-elif-else`\n",
        "Fill missing pieces (`____`) of the following code such that prints make sense."
      ]
    },
    {
      "cell_type": "code",
      "metadata": {
        "editable": false,
        "id": "Vhh88AnSnhNC"
      },
      "source": [
        "name = 'John Doe'"
      ],
      "execution_count": 1,
      "outputs": []
    },
    {
      "cell_type": "code",
      "metadata": {
        "id": "obxQdqmunhNC",
        "outputId": "94f440be-a40a-4410-cfe1-149f21eaa805",
        "colab": {
          "base_uri": "https://localhost:8080/"
        }
      },
      "source": [
        "if name > 'John Doeweeeeee':\n",
        "    print('Name \"{}\" is more than 20 chars long'.format(name))\n",
        "    length_description = 'long'\n",
        "elif name >= 'John Doeeeee':\n",
        "    print('Name \"{}\" is more than 15 chars long'.format(name))\n",
        "    length_description = 'semi long'\n",
        "elif name > 'John Doe':\n",
        "    print('Name \"{}\" is more than 10 chars long'.format(name))\n",
        "    length_description = 'semi long'\n",
        "elif name == 'John Doe':\n",
        "    print('Name \"{}\" is 8, 9 or 10 chars long'.format(name))\n",
        "    length_description = 'semi short'\n",
        "else:\n",
        "    print('Name \"{}\" is a short name'.format(name))\n",
        "    length_description = 'short'"
      ],
      "execution_count": 2,
      "outputs": [
        {
          "output_type": "stream",
          "text": [
            "Name \"John Doe\" is 8, 9 or 10 chars long\n"
          ],
          "name": "stdout"
        }
      ]
    },
    {
      "cell_type": "code",
      "metadata": {
        "editable": false,
        "id": "XBEb8wttnhND"
      },
      "source": [
        "assert length_description == 'semi short'"
      ],
      "execution_count": 4,
      "outputs": []
    }
  ]
}