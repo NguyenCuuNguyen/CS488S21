{
  "nbformat": 4,
  "nbformat_minor": 0,
  "metadata": {
    "kernelspec": {
      "display_name": "Python 3",
      "language": "python",
      "name": "python3"
    },
    "language_info": {
      "codemirror_mode": {
        "name": "ipython",
        "version": 3
      },
      "file_extension": ".py",
      "mimetype": "text/x-python",
      "name": "python",
      "nbconvert_exporter": "python",
      "pygments_lexer": "ipython3",
      "version": "3.5.4"
    },
    "colab": {
      "name": "for_loops_exercise.ipynb",
      "provenance": []
    }
  },
  "cells": [
    {
      "cell_type": "markdown",
      "metadata": {
        "id": "9dMTbKS33Xm9"
      },
      "source": [
        "# 1. Fill the missing pieces\n",
        "Fill the `____` parts in the code below."
      ]
    },
    {
      "cell_type": "code",
      "metadata": {
        "id": "UeLOLVrr3XnE"
      },
      "source": [
        "words = ['PYTHON', 'JOHN', 'chEEse', 'hAm', 'DOE', '123']\n",
        "upper_case_words = []\n",
        "\n",
        "for word in words:\n",
        "    if word.isupper():\n",
        "        upper_case_words.append(word)"
      ],
      "execution_count": 1,
      "outputs": []
    },
    {
      "cell_type": "code",
      "metadata": {
        "editable": false,
        "id": "gPuqho4X3XnF"
      },
      "source": [
        "assert upper_case_words == ['PYTHON', 'JOHN', 'DOE']"
      ],
      "execution_count": 2,
      "outputs": []
    },
    {
      "cell_type": "markdown",
      "metadata": {
        "id": "_fPGKt5m3XnG"
      },
      "source": [
        "# 2. Calculate the sum of dict values\n",
        "Calculate the sum of the values in `magic_dict` by taking only into account numeric values (hint: see [isinstance](https://docs.python.org/3/library/functions.html#isinstance)). "
      ]
    },
    {
      "cell_type": "code",
      "metadata": {
        "editable": false,
        "id": "ZKTBtoaI3XnG"
      },
      "source": [
        "magic_dict = dict(val1=44, val2='secret value', val3=55.0, val4=1)"
      ],
      "execution_count": 3,
      "outputs": []
    },
    {
      "cell_type": "code",
      "metadata": {
        "id": "eU69WyJV3XnG"
      },
      "source": [
        "# Your implementation\n",
        "sum_of_values = 0\n",
        "\n",
        "for key, val in magic_dict.items():\n",
        "  if isinstance(val, (int, float)): \n",
        "    sum_of_values += val\n",
        "#print(sum_of_values)\n",
        "    "
      ],
      "execution_count": 9,
      "outputs": []
    },
    {
      "cell_type": "code",
      "metadata": {
        "editable": false,
        "id": "Y6EntJ7m3XnG"
      },
      "source": [
        "assert sum_of_values == 100"
      ],
      "execution_count": 10,
      "outputs": []
    },
    {
      "cell_type": "markdown",
      "metadata": {
        "id": "Q6b-ejVF-glJ"
      },
      "source": [
        "Return True if the object argument is an instance of the classinfo argument (single/typle type object)"
      ]
    },
    {
      "cell_type": "markdown",
      "metadata": {
        "id": "4bLso2yo3XnH"
      },
      "source": [
        "# 3. Create a list of strings based on a list of numbers\n",
        "The rules:\n",
        "* If the number is a multiple of five and odd, the string should be `'five odd'`\n",
        "* If the number is a multiple of five and even, the string should be `'five even'`\n",
        "* If the number is odd, the string is `'odd'`\n",
        "* If the number is even, the string is `'even'`"
      ]
    },
    {
      "cell_type": "code",
      "metadata": {
        "editable": false,
        "id": "PXxe6DU_3XnH"
      },
      "source": [
        "numbers = [1, 3, 4, 6, 81, 80, 100, 95]"
      ],
      "execution_count": 12,
      "outputs": []
    },
    {
      "cell_type": "code",
      "metadata": {
        "id": "0wJp4Y0f3XnH"
      },
      "source": [
        "# Your implementation\n",
        "my_list = []\n",
        "for val in numbers:\n",
        "  if val%2 == 0 and val%5 !=0:\n",
        "     my_list.append('even')\n",
        "  elif val%2 != 0 and val%5 !=0:\n",
        "     my_list.append('odd')\n",
        "  elif val%5 == 0 and val%2 == 0:\n",
        "    my_list.append('five even')\n",
        "  elif val%5 == 0 and val%2 != 0:\n",
        "    my_list.append('five odd')"
      ],
      "execution_count": 13,
      "outputs": []
    },
    {
      "cell_type": "code",
      "metadata": {
        "editable": false,
        "id": "Afi3RV5T3XnH"
      },
      "source": [
        "assert my_list == ['odd', 'odd', 'even', 'even', 'odd', 'five even', 'five even', 'five odd']"
      ],
      "execution_count": 14,
      "outputs": []
    },
    {
      "cell_type": "markdown",
      "metadata": {
        "id": "h9xO8Rpu_bqY"
      },
      "source": [
        "Lists are ordered sets of objects, whereas dictionaries are unordered sets. But the main difference is that items in dictionaries are accessed via keys and not via their position. A dictionary is an associative array (also known as hashes). ... The values of a dictionary can be any Python data type."
      ]
    }
  ]
}