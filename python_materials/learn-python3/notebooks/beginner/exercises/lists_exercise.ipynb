{
  "nbformat": 4,
  "nbformat_minor": 0,
  "metadata": {
    "kernelspec": {
      "display_name": "Python 3",
      "language": "python",
      "name": "python3"
    },
    "language_info": {
      "codemirror_mode": {
        "name": "ipython",
        "version": 3
      },
      "file_extension": ".py",
      "mimetype": "text/x-python",
      "name": "python",
      "nbconvert_exporter": "python",
      "pygments_lexer": "ipython3",
      "version": "3.5.4"
    },
    "colab": {
      "name": "lists_exercise.ipynb",
      "provenance": []
    }
  },
  "cells": [
    {
      "cell_type": "markdown",
      "metadata": {
        "id": "SQ1-U2GbH73e"
      },
      "source": [
        "# 1. Fill the missing pieces\n",
        "Fill the `____` parts of the code below."
      ]
    },
    {
      "cell_type": "code",
      "metadata": {
        "id": "JPd9EFcjH73k"
      },
      "source": [
        "# Let's create an empty list\n",
        "my_list = []\n",
        "\n",
        "# Let's add some values\n",
        "my_list.append('Python')\n",
        "my_list.append('is ok')\n",
        "my_list.append('sometimes')\n",
        "\n",
        "# Let's remove 'sometimes'\n",
        "my_list.remove('sometimes')\n",
        "\n",
        "# Let's change the second item\n",
        "my_list[1] = 'is neat'"
      ],
      "execution_count": 22,
      "outputs": []
    },
    {
      "cell_type": "code",
      "metadata": {
        "editable": false,
        "id": "Hvwq-nILH73l"
      },
      "source": [
        "# Let's verify that it's correct\n",
        "assert my_list == ['Python', 'is neat']"
      ],
      "execution_count": 23,
      "outputs": []
    },
    {
      "cell_type": "markdown",
      "metadata": {
        "id": "1tljMgnyH73l"
      },
      "source": [
        "# 2. Create a new list without modifiying the original one\n"
      ]
    },
    {
      "cell_type": "code",
      "metadata": {
        "editable": false,
        "id": "KST93KwjH73l"
      },
      "source": [
        "original = ['I', 'am', 'learning', 'hacking', 'in']"
      ],
      "execution_count": 24,
      "outputs": []
    },
    {
      "cell_type": "code",
      "metadata": {
        "id": "3ZvlmaPiH73l",
        "outputId": "8235ffc2-6b9e-4e07-b03b-4607f89c5909",
        "colab": {
          "base_uri": "https://localhost:8080/"
        }
      },
      "source": [
        "# Your implementation here\n",
        "modified = original\n",
        "modified[3] = 'lists'\n",
        "modified.append('Python')\n",
        "print(modified)"
      ],
      "execution_count": 29,
      "outputs": [
        {
          "output_type": "stream",
          "text": [
            "['I', 'am', 'learning', 'lists', 'in', 'Python']\n"
          ],
          "name": "stdout"
        }
      ]
    },
    {
      "cell_type": "code",
      "metadata": {
        "editable": false,
        "id": "_BPGdV_5H73m",
        "outputId": "8482e163-5daf-440f-8014-56d0a5e56704",
        "colab": {
          "base_uri": "https://localhost:8080/",
          "height": 181
        }
      },
      "source": [
        "assert original == ['I', 'am', 'learning', 'hacking', 'in']\n",
        "assert modified == ['I', 'am', 'learning', 'lists', 'in', 'Python']"
      ],
      "execution_count": 30,
      "outputs": [
        {
          "output_type": "error",
          "ename": "AssertionError",
          "evalue": "ignored",
          "traceback": [
            "\u001b[0;31m---------------------------------------------------------------------------\u001b[0m",
            "\u001b[0;31mAssertionError\u001b[0m                            Traceback (most recent call last)",
            "\u001b[0;32m<ipython-input-30-518d874d2bc7>\u001b[0m in \u001b[0;36m<module>\u001b[0;34m()\u001b[0m\n\u001b[0;32m----> 1\u001b[0;31m \u001b[0;32massert\u001b[0m \u001b[0moriginal\u001b[0m \u001b[0;34m==\u001b[0m \u001b[0;34m[\u001b[0m\u001b[0;34m'I'\u001b[0m\u001b[0;34m,\u001b[0m \u001b[0;34m'am'\u001b[0m\u001b[0;34m,\u001b[0m \u001b[0;34m'learning'\u001b[0m\u001b[0;34m,\u001b[0m \u001b[0;34m'hacking'\u001b[0m\u001b[0;34m,\u001b[0m \u001b[0;34m'in'\u001b[0m\u001b[0;34m]\u001b[0m\u001b[0;34m\u001b[0m\u001b[0;34m\u001b[0m\u001b[0m\n\u001b[0m\u001b[1;32m      2\u001b[0m \u001b[0;32massert\u001b[0m \u001b[0mmodified\u001b[0m \u001b[0;34m==\u001b[0m \u001b[0;34m[\u001b[0m\u001b[0;34m'I'\u001b[0m\u001b[0;34m,\u001b[0m \u001b[0;34m'am'\u001b[0m\u001b[0;34m,\u001b[0m \u001b[0;34m'learning'\u001b[0m\u001b[0;34m,\u001b[0m \u001b[0;34m'lists'\u001b[0m\u001b[0;34m,\u001b[0m \u001b[0;34m'in'\u001b[0m\u001b[0;34m,\u001b[0m \u001b[0;34m'Python'\u001b[0m\u001b[0;34m]\u001b[0m\u001b[0;34m\u001b[0m\u001b[0;34m\u001b[0m\u001b[0m\n",
            "\u001b[0;31mAssertionError\u001b[0m: "
          ]
        }
      ]
    },
    {
      "cell_type": "markdown",
      "metadata": {
        "id": "oqDwldsAH73m"
      },
      "source": [
        "# 3. Create a merged sorted list"
      ]
    },
    {
      "cell_type": "code",
      "metadata": {
        "editable": false,
        "id": "wtgyIbwBH73m"
      },
      "source": [
        "list1 = [6, 12, 5]\n",
        "list2 = [6.2, 0, 14, 1]\n",
        "list3 = [0.9]"
      ],
      "execution_count": null,
      "outputs": []
    },
    {
      "cell_type": "code",
      "metadata": {
        "id": "MiiyZ9RJH73m"
      },
      "source": [
        "# Your implementation here\n",
        "my_list = "
      ],
      "execution_count": null,
      "outputs": []
    },
    {
      "cell_type": "code",
      "metadata": {
        "editable": false,
        "scrolled": true,
        "id": "BMT5MjxCH73n"
      },
      "source": [
        "print(my_list)\n",
        "assert my_list == [14, 12, 6.2, 6, 5, 1, 0.9, 0]"
      ],
      "execution_count": null,
      "outputs": []
    }
  ]
}