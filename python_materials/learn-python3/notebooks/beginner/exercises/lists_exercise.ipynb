{
  "nbformat": 4,
  "nbformat_minor": 0,
  "metadata": {
    "kernelspec": {
      "display_name": "Python 3",
      "language": "python",
      "name": "python3"
    },
    "language_info": {
      "codemirror_mode": {
        "name": "ipython",
        "version": 3
      },
      "file_extension": ".py",
      "mimetype": "text/x-python",
      "name": "python",
      "nbconvert_exporter": "python",
      "pygments_lexer": "ipython3",
      "version": "3.5.4"
    },
    "colab": {
      "name": "lists_exercise.ipynb",
      "provenance": []
    }
  },
  "cells": [
    {
      "cell_type": "markdown",
      "metadata": {
        "id": "SQ1-U2GbH73e"
      },
      "source": [
        "# 1. Fill the missing pieces\n",
        "Fill the `____` parts of the code below."
      ]
    },
    {
      "cell_type": "code",
      "metadata": {
        "id": "JPd9EFcjH73k"
      },
      "source": [
        "# Let's create an empty list\n",
        "my_list = []\n",
        "\n",
        "# Let's add some values\n",
        "my_list.append('Python')\n",
        "my_list.append('is ok')\n",
        "my_list.append('sometimes')\n",
        "\n",
        "# Let's remove 'sometimes'\n",
        "my_list.remove('sometimes')\n",
        "\n",
        "# Let's change the second item\n",
        "my_list[1] = 'is neat'"
      ],
      "execution_count": 22,
      "outputs": []
    },
    {
      "cell_type": "code",
      "metadata": {
        "editable": false,
        "id": "Hvwq-nILH73l"
      },
      "source": [
        "# Let's verify that it's correct\n",
        "assert my_list == ['Python', 'is neat']"
      ],
      "execution_count": 23,
      "outputs": []
    },
    {
      "cell_type": "markdown",
      "metadata": {
        "id": "1tljMgnyH73l"
      },
      "source": [
        "# 2. Create a new list without modifiying the original one\n"
      ]
    },
    {
      "cell_type": "code",
      "metadata": {
        "editable": false,
        "id": "KST93KwjH73l"
      },
      "source": [
        "original = ['I', 'am', 'learning', 'hacking', 'in']"
      ],
      "execution_count": 43,
      "outputs": []
    },
    {
      "cell_type": "code",
      "metadata": {
        "id": "3ZvlmaPiH73l"
      },
      "source": [
        "# Your implementation here\n",
        "modified = ['I', 'am', 'learning', 'hacking', 'in'] #=original modifies the original\n",
        "#print(original)\n",
        "modified[3] = 'lists'\n",
        "modified.append('Python')\n",
        "#print(original)\n",
        "#print(modified)"
      ],
      "execution_count": 44,
      "outputs": []
    },
    {
      "cell_type": "code",
      "metadata": {
        "editable": false,
        "id": "_BPGdV_5H73m"
      },
      "source": [
        "assert original == ['I', 'am', 'learning', 'hacking', 'in']\n",
        "assert modified == ['I', 'am', 'learning', 'lists', 'in', 'Python']"
      ],
      "execution_count": 45,
      "outputs": []
    },
    {
      "cell_type": "markdown",
      "metadata": {
        "id": "oqDwldsAH73m"
      },
      "source": [
        "# 3. Create a merged sorted list"
      ]
    },
    {
      "cell_type": "code",
      "metadata": {
        "editable": false,
        "id": "wtgyIbwBH73m"
      },
      "source": [
        "list1 = [6, 12, 5]\n",
        "list2 = [6.2, 0, 14, 1]\n",
        "list3 = [0.9]"
      ],
      "execution_count": 48,
      "outputs": []
    },
    {
      "cell_type": "code",
      "metadata": {
        "id": "MiiyZ9RJH73m"
      },
      "source": [
        "# Your implementation here\n",
        "my_list = list1 + list2 + list3\n",
        "my_list.sort(reverse=True)"
      ],
      "execution_count": 49,
      "outputs": []
    },
    {
      "cell_type": "code",
      "metadata": {
        "editable": false,
        "scrolled": true,
        "colab": {
          "base_uri": "https://localhost:8080/"
        },
        "id": "BMT5MjxCH73n",
        "outputId": "fffe4ada-f9a8-4d01-d183-d057a65fe111"
      },
      "source": [
        "print(my_list)\n",
        "assert my_list == [14, 12, 6.2, 6, 5, 1, 0.9, 0]"
      ],
      "execution_count": 50,
      "outputs": [
        {
          "output_type": "stream",
          "text": [
            "[14, 12, 6.2, 6, 5, 1, 0.9, 0]\n"
          ],
          "name": "stdout"
        }
      ]
    }
  ]
}