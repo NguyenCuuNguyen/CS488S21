{
  "nbformat": 4,
  "nbformat_minor": 0,
  "metadata": {
    "kernelspec": {
      "display_name": "Python 3",
      "language": "python",
      "name": "python3"
    },
    "language_info": {
      "codemirror_mode": {
        "name": "ipython",
        "version": 3
      },
      "file_extension": ".py",
      "mimetype": "text/x-python",
      "name": "python",
      "nbconvert_exporter": "python",
      "pygments_lexer": "ipython3",
      "version": "3.5.4"
    },
    "colab": {
      "name": "file_io_exercise.ipynb",
      "provenance": []
    }
  },
  "cells": [
    {
      "cell_type": "code",
      "metadata": {
        "editable": false,
        "id": "eRkHhfbN1ybQ",
        "outputId": "d3605ed0-fd29-46b0-a897-3cb6bb594560",
        "colab": {
          "base_uri": "https://localhost:8080/"
        }
      },
      "source": [
        "# EXECUTE THIS ONE FIRST!\n",
        "\n",
        "import os\n",
        "\n",
        "# Constants for the exercises:\n",
        "WORKING_DIR = os.getcwd() #Return a unicode string = the current working directory\n",
        "print(os.path.realpath(WORKING_DIR))\n",
        "DATA_DIR = os.path.join(os.path.dirname(WORKING_DIR), 'data')\n",
        "print(os.path.realpath(DATA_DIR))"
      ],
      "execution_count": 13,
      "outputs": [
        {
          "output_type": "stream",
          "text": [
            "/content\n",
            "/data\n"
          ],
          "name": "stdout"
        }
      ]
    },
    {
      "cell_type": "markdown",
      "metadata": {
        "id": "nhcysvDN1ybW"
      },
      "source": [
        "# 1. Sum numbers listed in a file\n",
        "Fill ____ pieces of the code below. `sum_numbers_in_file` function takes a input file path as argument, reads the numbers listed in the input file and returns the sum of those numbers. You can assume that each line contains exactly one numeric value."
      ]
    },
    {
      "cell_type": "code",
      "metadata": {
        "id": "VNW0kIp51ybW",
        "outputId": "59fd8c4a-79ee-4d17-d245-e6bb813fa40e",
        "colab": {
          "base_uri": "https://localhost:8080/"
        }
      },
      "source": [
        "def sum_numbers_in_file(input_file):\n",
        "    sum_ = 0  # A common way to use variable names that collide with built-in/keyword words is to add underscore\n",
        "    with open(input_file, 'r') as f:\n",
        "        for line in f:\n",
        "            num = line.strip()  # Remove potential white space \n",
        "            sum_ += float(num)\n",
        "    return sum_\n",
        "print(os.path.realpath(in_file))"
      ],
      "execution_count": 16,
      "outputs": [
        {
          "output_type": "stream",
          "text": [
            "/data/numbers.txt\n"
          ],
          "name": "stdout"
        }
      ]
    },
    {
      "cell_type": "code",
      "metadata": {
        "editable": false,
        "id": "6MqpcU961ybW",
        "outputId": "bd49e6be-7971-497d-8924-dbdd82c12f28",
        "colab": {
          "base_uri": "https://localhost:8080/",
          "height": 300
        }
      },
      "source": [
        "in_file = os.path.join(DATA_DIR, 'numbers.txt')\n",
        "assert sum_numbers_in_file(in_file) == 189.5"
      ],
      "execution_count": 17,
      "outputs": [
        {
          "output_type": "error",
          "ename": "FileNotFoundError",
          "evalue": "ignored",
          "traceback": [
            "\u001b[0;31m---------------------------------------------------------------------------\u001b[0m",
            "\u001b[0;31mFileNotFoundError\u001b[0m                         Traceback (most recent call last)",
            "\u001b[0;32m<ipython-input-17-868d8dcefea4>\u001b[0m in \u001b[0;36m<module>\u001b[0;34m()\u001b[0m\n\u001b[1;32m      1\u001b[0m \u001b[0min_file\u001b[0m \u001b[0;34m=\u001b[0m \u001b[0mos\u001b[0m\u001b[0;34m.\u001b[0m\u001b[0mpath\u001b[0m\u001b[0;34m.\u001b[0m\u001b[0mjoin\u001b[0m\u001b[0;34m(\u001b[0m\u001b[0mDATA_DIR\u001b[0m\u001b[0;34m,\u001b[0m \u001b[0;34m'numbers.txt'\u001b[0m\u001b[0;34m)\u001b[0m\u001b[0;34m\u001b[0m\u001b[0;34m\u001b[0m\u001b[0m\n\u001b[0;32m----> 2\u001b[0;31m \u001b[0;32massert\u001b[0m \u001b[0msum_numbers_in_file\u001b[0m\u001b[0;34m(\u001b[0m\u001b[0min_file\u001b[0m\u001b[0;34m)\u001b[0m \u001b[0;34m==\u001b[0m \u001b[0;36m189.5\u001b[0m\u001b[0;34m\u001b[0m\u001b[0;34m\u001b[0m\u001b[0m\n\u001b[0m",
            "\u001b[0;32m<ipython-input-16-2e938845fc4e>\u001b[0m in \u001b[0;36msum_numbers_in_file\u001b[0;34m(input_file)\u001b[0m\n\u001b[1;32m      1\u001b[0m \u001b[0;32mdef\u001b[0m \u001b[0msum_numbers_in_file\u001b[0m\u001b[0;34m(\u001b[0m\u001b[0minput_file\u001b[0m\u001b[0;34m)\u001b[0m\u001b[0;34m:\u001b[0m\u001b[0;34m\u001b[0m\u001b[0;34m\u001b[0m\u001b[0m\n\u001b[1;32m      2\u001b[0m     \u001b[0msum_\u001b[0m \u001b[0;34m=\u001b[0m \u001b[0;36m0\u001b[0m  \u001b[0;31m# A common way to use variable names that collide with built-in/keyword words is to add underscore\u001b[0m\u001b[0;34m\u001b[0m\u001b[0;34m\u001b[0m\u001b[0m\n\u001b[0;32m----> 3\u001b[0;31m     \u001b[0;32mwith\u001b[0m \u001b[0mopen\u001b[0m\u001b[0;34m(\u001b[0m\u001b[0minput_file\u001b[0m\u001b[0;34m,\u001b[0m \u001b[0;34m'r'\u001b[0m\u001b[0;34m)\u001b[0m \u001b[0;32mas\u001b[0m \u001b[0mf\u001b[0m\u001b[0;34m:\u001b[0m\u001b[0;34m\u001b[0m\u001b[0;34m\u001b[0m\u001b[0m\n\u001b[0m\u001b[1;32m      4\u001b[0m         \u001b[0;32mfor\u001b[0m \u001b[0mline\u001b[0m \u001b[0;32min\u001b[0m \u001b[0mf\u001b[0m\u001b[0;34m:\u001b[0m\u001b[0;34m\u001b[0m\u001b[0;34m\u001b[0m\u001b[0m\n\u001b[1;32m      5\u001b[0m             \u001b[0mnum\u001b[0m \u001b[0;34m=\u001b[0m \u001b[0mline\u001b[0m\u001b[0;34m.\u001b[0m\u001b[0mstrip\u001b[0m\u001b[0;34m(\u001b[0m\u001b[0;34m)\u001b[0m  \u001b[0;31m# Remove potential white space\u001b[0m\u001b[0;34m\u001b[0m\u001b[0;34m\u001b[0m\u001b[0m\n",
            "\u001b[0;31mFileNotFoundError\u001b[0m: [Errno 2] No such file or directory: '/data/numbers.txt'"
          ]
        }
      ]
    },
    {
      "cell_type": "markdown",
      "metadata": {
        "id": "i8Ez__wS1ybX"
      },
      "source": [
        "# 2. Reading first word from each line of a file\n",
        "Implement `find_first_words` function which takes an input file path as argument. The function should find the first word of each line in the file and return these words as a list. If a line is empty, the returned list should contain an empty string for that line."
      ]
    },
    {
      "cell_type": "code",
      "metadata": {
        "id": "OC8jCW6_1ybX"
      },
      "source": [
        "# Your implementation here\n",
        "# Your implementation here\n",
        "def find_first_words(inp):\n",
        "    result = []\n",
        "    with open(inp, 'r') as f:\n",
        "        for line in f:\n",
        "            if line != '\\n':\n",
        "                word = line.split()[0]   \n",
        "                result.append(word) \n",
        "                print(word)\n",
        "            else:\n",
        "                result.append('')\n",
        "    return result\n",
        "\n",
        "#result2 = find_first_words()\n",
        "#print(result2)"
      ],
      "execution_count": null,
      "outputs": []
    },
    {
      "cell_type": "code",
      "metadata": {
        "editable": false,
        "id": "zP1nBti61ybX"
      },
      "source": [
        "in_file1 = os.path.join(DATA_DIR, 'simple_file.txt')\n",
        "in_file2 = os.path.join(DATA_DIR, 'simple_file_with_empty_lines.txt')\n",
        "\n",
        "expected_file_1 = ['First', 'Second', 'Third', 'And']\n",
        "assert find_first_words(in_file1) == expected_file_1\n",
        "\n",
        "expected_file_2 = ['The', '', 'First', 'nonsense', '', 'Then']\n",
        "assert find_first_words(in_file2) == expected_file_2"
      ],
      "execution_count": null,
      "outputs": []
    }
  ]
}