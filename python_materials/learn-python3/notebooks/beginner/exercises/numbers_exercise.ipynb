{
  "nbformat": 4,
  "nbformat_minor": 0,
  "metadata": {
    "kernelspec": {
      "display_name": "Python 3",
      "language": "python",
      "name": "python3"
    },
    "language_info": {
      "codemirror_mode": {
        "name": "ipython",
        "version": 3
      },
      "file_extension": ".py",
      "mimetype": "text/x-python",
      "name": "python",
      "nbconvert_exporter": "python",
      "pygments_lexer": "ipython3",
      "version": "3.5.4"
    },
    "colab": {
      "name": "numbers_exercise.ipynb",
      "provenance": [],
      "include_colab_link": true
    }
  },
  "cells": [
    {
      "cell_type": "markdown",
      "metadata": {
        "id": "view-in-github",
        "colab_type": "text"
      },
      "source": [
        "<a href=\"https://colab.research.google.com/github/NguyenCuuNguyen/CS488S21/blob/main/python_materials/learn-python3/notebooks/beginner/exercises/numbers_exercise.ipynb\" target=\"_parent\"><img src=\"https://colab.research.google.com/assets/colab-badge.svg\" alt=\"Open In Colab\"/></a>"
      ]
    },
    {
      "cell_type": "markdown",
      "metadata": {
        "id": "0nhT1KqyNpIH"
      },
      "source": [
        "# 1. Creating formulas\n",
        "Write the following mathematical formula in Python:\n",
        "\n",
        "\\begin{align}\n",
        " result = 6a^3 - \\frac{8b^2 }{4c} + 11\n",
        "\\end{align}\n"
      ]
    },
    {
      "cell_type": "code",
      "metadata": {
        "editable": false,
        "id": "VNXca5NjNpIN"
      },
      "source": [
        "a = 2\n",
        "b = 3\n",
        "c = 2"
      ],
      "execution_count": null,
      "outputs": []
    },
    {
      "cell_type": "code",
      "metadata": {
        "id": "9Dvx54MjNpIN"
      },
      "source": [
        "# Your formula here:\n",
        "result = "
      ],
      "execution_count": null,
      "outputs": []
    },
    {
      "cell_type": "code",
      "metadata": {
        "editable": false,
        "id": "xaTtITjyNpIN"
      },
      "source": [
        "\n",
        "assert result == 50"
      ],
      "execution_count": null,
      "outputs": []
    },
    {
      "cell_type": "markdown",
      "metadata": {
        "id": "I6pJo1MjNpIO"
      },
      "source": [
        "# 2. Floating point pitfalls\n",
        "Show that `0.1 + 0.2 == 0.3`"
      ]
    },
    {
      "cell_type": "code",
      "metadata": {
        "id": "MImAmvfHNpIO"
      },
      "source": [
        "# Your solution here\n",
        "\n",
        "# This won't work:\n",
        "# assert 0.1 + 0.2 == 0.3"
      ],
      "execution_count": null,
      "outputs": []
    }
  ]
}