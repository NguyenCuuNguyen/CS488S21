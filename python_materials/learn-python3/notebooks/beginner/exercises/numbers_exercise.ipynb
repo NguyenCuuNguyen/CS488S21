{
  "nbformat": 4,
  "nbformat_minor": 0,
  "metadata": {
    "kernelspec": {
      "display_name": "Python 3",
      "language": "python",
      "name": "python3"
    },
    "language_info": {
      "codemirror_mode": {
        "name": "ipython",
        "version": 3
      },
      "file_extension": ".py",
      "mimetype": "text/x-python",
      "name": "python",
      "nbconvert_exporter": "python",
      "pygments_lexer": "ipython3",
      "version": "3.5.4"
    },
    "colab": {
      "name": "numbers_exercise.ipynb",
      "provenance": []
    }
  },
  "cells": [
    {
      "cell_type": "markdown",
      "metadata": {
        "id": "0nhT1KqyNpIH"
      },
      "source": [
        "# 1. Creating formulas\n",
        "Write the following mathematical formula in Python:\n",
        "\n",
        "\\begin{align}\n",
        " result = 6a^3 - \\frac{8b^2 }{4c} + 11\n",
        "\\end{align}\n"
      ]
    },
    {
      "cell_type": "code",
      "metadata": {
        "editable": false,
        "id": "VNXca5NjNpIN"
      },
      "source": [
        "a = 2\n",
        "b = 3\n",
        "c = 2"
      ],
      "execution_count": 1,
      "outputs": []
    },
    {
      "cell_type": "code",
      "metadata": {
        "id": "9Dvx54MjNpIN"
      },
      "source": [
        "# Your formula here:\n",
        "result = 6*(a**3) - 8*(b**2)/(4*c) + 11"
      ],
      "execution_count": 3,
      "outputs": []
    },
    {
      "cell_type": "code",
      "metadata": {
        "editable": false,
        "id": "xaTtITjyNpIN"
      },
      "source": [
        "\n",
        "assert result == 50"
      ],
      "execution_count": 4,
      "outputs": []
    },
    {
      "cell_type": "markdown",
      "metadata": {
        "id": "I6pJo1MjNpIO"
      },
      "source": [
        "# 2. Floating point pitfalls\n",
        "Show that `0.1 + 0.2 == 0.3`"
      ]
    },
    {
      "cell_type": "code",
      "metadata": {
        "colab": {
          "base_uri": "https://localhost:8080/"
        },
        "id": "MImAmvfHNpIO",
        "outputId": "3fdb4fe3-eeb4-47cb-a01e-4fa7e1b14352"
      },
      "source": [
        "# Your solution here\n",
        "a = 0.1\n",
        "b = 0.2\n",
        "c = a + 3\n",
        "c\n"
      ],
      "execution_count": 10,
      "outputs": [
        {
          "output_type": "execute_result",
          "data": {
            "text/plain": [
              "3.1"
            ]
          },
          "metadata": {
            "tags": []
          },
          "execution_count": 10
        }
      ]
    },
    {
      "cell_type": "code",
      "metadata": {
        "id": "Dr23gGNpSGG3"
      },
      "source": [
        "assert c == 0.3 #Fail, c = 3.1 because of binary floating point"
      ],
      "execution_count": 11,
      "outputs": []
    },
    {
      "cell_type": "code",
      "metadata": {
        "id": "a2MjW4w_bHzc",
        "outputId": "6384628a-d4d6-4d2e-b92a-90d54575f48d",
        "colab": {
          "base_uri": "https://localhost:8080/"
        }
      },
      "source": [
        "from decimal import *\n",
        "Decimal(0.1) + Decimal(0.2) #Decimal('0.30') => combined total # decimal place in arithmetic calc\n",
        "Decimal('0.1') + Decimal('0.2') #Decimal('0.3')\n"
      ],
      "execution_count": 27,
      "outputs": [
        {
          "output_type": "execute_result",
          "data": {
            "text/plain": [
              "Decimal('0.3')"
            ]
          },
          "metadata": {
            "tags": []
          },
          "execution_count": 27
        }
      ]
    },
    {
      "cell_type": "code",
      "metadata": {
        "id": "qBhEvtCXbckK",
        "outputId": "e0125cc6-c089-4f96-e2f8-2fde695bb714",
        "colab": {
          "base_uri": "https://localhost:8080/"
        }
      },
      "source": [
        "from decimal import *\n",
        "getcontext().prec = 2\n",
        "getcontext()\n",
        "Decimal(0.1+0.2) #Decimal('0.3000000000000000444089209850062616169452667236328125')\n"
      ],
      "execution_count": 23,
      "outputs": [
        {
          "output_type": "execute_result",
          "data": {
            "text/plain": [
              "Decimal('0.3000000000000000444089209850062616169452667236328125')"
            ]
          },
          "metadata": {
            "tags": []
          },
          "execution_count": 23
        }
      ]
    }
  ]
}